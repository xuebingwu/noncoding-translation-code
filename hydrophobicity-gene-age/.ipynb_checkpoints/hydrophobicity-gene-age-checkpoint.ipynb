{
 "cells": [
  {
   "cell_type": "code",
   "execution_count": null,
   "metadata": {},
   "outputs": [],
   "source": [
    "\n",
    "############## hydrophobicity vs gene age\n",
    "\n",
    "# remove membrane proteins??\n",
    "\n",
    "\n",
    "L_max=100\n",
    "L_min=200\n",
    "hydrophobicity_scale = 'Miyazawa'\n",
    "tail_len=30\n",
    "skip_last=2\n",
    "human_avg = c()\n",
    "for(i in 0:12){\n",
    "  x=read.table(paste('gene_age_seq.human',i,sep='-'))\n",
    "  hyd = avg_hydrophobicity_per_position(x$V1,L_max,L_min,hydrophobicity_scale)\n",
    "  y=hyd[[1]][(L_max-tail_len+1):(L_max-skip_last)]\n",
    "  #y=hyd[[1]][(L_max-tail_len-60+1):(L_max-60+1)]\n",
    "  human_avg = c(human_avg,mean(y))\n",
    "}\n",
    "mouse_avg = c()\n",
    "for(i in 0:11){\n",
    "  x=read.table(paste('gene_age_seq.mouse',i,sep='-'))\n",
    "  hyd = avg_hydrophobicity_per_position(x$V1,L_max,L_min,hydrophobicity_scale)\n",
    "  y=hyd[[1]][(L_max-tail_len+1):(L_max-skip_last)]\n",
    "  #y=hyd[[1]][(L_max-tail_len-60+1):(L_max-60+1)]\n",
    "  mouse_avg = c(mouse_avg,mean(y))\n",
    "}\n",
    "\n",
    "human_age = -c(-500,-407,-337,-252,-182,-134,-90,-78,-57,-30,-20,-9,-3)\n",
    "mouse_age = -c(-500,-407,-337,-252,-182,-134,-90,-78,-66,-54,-31,-9)\n",
    "\n",
    "filename=paste('Fig-gene-age',L_min,tail_len,skip_last,'.pdf',sep='-')\n",
    "pdf(filename,width=4.2,height=4.6)\n",
    "plot(human_age,human_avg,log='x', bty='n', lwd=2, col='magenta',pch=15, xlab=\"Gene age (million years)\", ylab=\"Average C-tail hydrophobicity\",ylim=c(min(human_avg,mouse_avg),max(human_avg,mouse_avg)+0.1))\n",
    "lines(human_age, predict(loess(human_avg~human_age),human_age), col='magenta',lwd=2)\n",
    "#lines(human_age, lm(human_avg~human_age)$fitted.values,  lwd=2,col='blue')\n",
    "# mouse\n",
    "points(mouse_age,mouse_avg,bty='n',col='blue', lwd=2, pch=16)\n",
    "lines(mouse_age, predict(loess(mouse_avg~mouse_age),mouse_age),  lwd=2,col='blue')\n",
    "#lines(mouse_age, lm(mouse_avg~mouse_age)$fitted.values,  lwd=2,col='blue')\n",
    "r1=cor(human_age,human_avg,method='s')\n",
    "r2=cor(mouse_age,mouse_avg,method='s')\n",
    "cor.test(human_age,human_avg,method='s')\n",
    "cor.test(mouse_age,mouse_avg,method='s')\n",
    "#legend('topright',paste(c(\"Mouse, Rs =\",\"Human, Rs =\"),c(format(r2,digits=2,nsmall=2),format(r1,digits=2,nsmall=2))), text.col=c(\"blue\",\"magenta\"),bty='n')\n",
    "legend(75,5.75,paste(\"Mouse\\nRs =\",format(r2,digits=2,nsmall=2)), text.col=\"blue\",bty='n')\n",
    "legend(2.1,5.35,paste(\"Human\\nRs =\",format(r1,digits=2,nsmall=2)), text.col=\"magenta\",bty='n')\n",
    "dev.off()\n",
    "\n",
    "\n"
   ]
  }
 ],
 "metadata": {
  "kernelspec": {
   "display_name": "R",
   "language": "R",
   "name": "ir"
  },
  "language_info": {
   "codemirror_mode": "r",
   "file_extension": ".r",
   "mimetype": "text/x-r-source",
   "name": "R",
   "pygments_lexer": "r",
   "version": "4.0.0"
  }
 },
 "nbformat": 4,
 "nbformat_minor": 4
}
