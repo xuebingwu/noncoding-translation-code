{
 "cells": [
  {
   "cell_type": "code",
   "execution_count": 14,
   "metadata": {},
   "outputs": [],
   "source": [
    "rm(list = ls())\n",
    "\n",
    "setwd(\"/home/xw2629/noncoding_translation/noncoding-translation-code/flow-cytometry\")\n",
    "\n",
    "# functions\n",
    "\n",
    "# density plot for two samples: fig1d, ext fig 6\n",
    "density_plot_pairwise <- function(control_csv,sample_csv,mCherry_min,xmin,xmax,ticks){\n",
    "  control=read.csv(control_csv)\n",
    "  if( \"EGFP.A\" %in% colnames(control)) # same labeled GFP.A, some EGFP.A\n",
    "  {\n",
    "    control$GFP.A = control$EGFP.A\n",
    "  }\n",
    "  control$GFP.A[control$GFP.A<1] = 0 \n",
    "  control=control[control$mCherry.A>mCherry_min,]\n",
    "  me = median(log10((1+control$GFP.A)/(1+control$mCherry.A)))\n",
    "  \n",
    "  readthrough=read.csv(sample_csv)\n",
    "  if( \"EGFP.A\" %in% colnames(readthrough))\n",
    "  {\n",
    "    readthrough$GFP.A = readthrough$EGFP.A\n",
    "  }\n",
    "  readthrough$GFP.A[readthrough$GFP.A<1] = 0 \n",
    "  readthrough=readthrough[readthrough$mCherry.A>mCherry_min,]\n",
    "  \n",
    "  med = 10^(me - median(log10(as.numeric((1+readthrough$GFP.A)/(1+readthrough$mCherry.A)))))\n",
    "  \n",
    "  den_control = density(log10(as.numeric((1+control$GFP.A)/(1+control$mCherry.A)))-me)\n",
    "  den_readthrough = density(log10(as.numeric((1+readthrough$GFP.A)/(1+readthrough$mCherry.A)))-me)\n",
    "  if(xmin==xmax){\n",
    "    xlim=c(min(min(den_control$x),min(den_readthrough$x)),max(max(den_control$x),max(den_readthrough$x)))\n",
    "  } else {\n",
    "    xlim=c(xmin,xmax)\n",
    "  }\n",
    "  ymax= max(max(den_control$y),max(den_readthrough$y))      \n",
    "  plot(0,xlim=xlim,ylim=c(0,ymax),axes=FALSE, ann=FALSE, frame.plot=FALSE,cex=0,col='blue')\n",
    "  legend('topleft',legend=round(med,digits=1),bty='n')\n",
    "  polygon(den_control, col=rgb(0,0,0,0.5),border=NA)\n",
    "  polygon(den_readthrough, col=rgb(0,0.5,1,0.5),border=NA)\n",
    "  if(ticks==1){\n",
    "    axis(1,at= -2:0,c(0.01,0.1,1))\n",
    "  }\n",
    "}\n"
   ]
  },
  {
   "cell_type": "code",
   "execution_count": 51,
   "metadata": {},
   "outputs": [
    {
     "data": {
      "text/html": [
       "<strong>PNG:</strong> 2"
      ],
      "text/latex": [
       "\\textbf{PNG:} 2"
      ],
      "text/markdown": [
       "**PNG:** 2"
      ],
      "text/plain": [
       "PNG \n",
       "  2 "
      ]
     },
     "metadata": {},
     "output_type": "display_data"
    }
   ],
   "source": [
    "# Fig. 1d: ACTB/HSP90B1/GAPDH data\n",
    "\n",
    "pdf(\"Fig1d.pdf\",width=2,height=2)\n",
    "par(mfrow=c(4,1),mar=c(0,0,0,0))\n",
    "\n",
    "setwd(\"fig1d-ACTB-GAPDH-HSP90B1\")\n",
    "system('gunzip *')\n",
    "density_plot_pairwise('T1.csv','T2.csv',500,-3,1,0) # HSP90B1\n",
    "density_plot_pairwise('A1.csv','A2.csv',500,-3,1,0) # ACTB\n",
    "density_plot_pairwise('G1.csv','G2.csv',500,-3,1,1) # GAPDH\n",
    "\n",
    "dev.off()\n",
    "\n",
    "system('gzip *')\n",
    "setwd('../')\n"
   ]
  },
  {
   "cell_type": "code",
   "execution_count": 52,
   "metadata": {},
   "outputs": [
    {
     "name": "stdout",
     "output_type": "stream",
     "text": [
      "[1] 9.785458\n",
      "[1] 6.598217\n",
      "[1] 1.431009\n"
     ]
    },
    {
     "data": {
      "text/html": [
       "<strong>PNG:</strong> 2"
      ],
      "text/latex": [
       "\\textbf{PNG:} 2"
      ],
      "text/markdown": [
       "**PNG:** 2"
      ],
      "text/plain": [
       "PNG \n",
       "  2 "
      ]
     },
     "metadata": {},
     "output_type": "display_data"
    }
   ],
   "source": [
    "\n",
    "##########################\n",
    "### Fig. 1e: proteasome inhibitor of ACTB intron \n",
    "### Fig. 1i: proteasome inhibitor of Pep30 library \n",
    "\n",
    "## choose one of the following inputs:\n",
    "reporter = 'ACTB' # pep30 or ACTB\n",
    "\n",
    "if (reporter == 'ACTB'){\n",
    "    # input for ACTB intron\n",
    "    samples=c('diagnol-2','iACTB-3','iACTB-Ch24-6','iACTB-La24-5')\n",
    "    pdf(\"fig1e.pdf\",width=4,height=4)\n",
    "    setwd(\"fig1e-ACTB-intron-proteasome-inhibition\")\n",
    "    system('gunzip *')\n",
    "} else {\n",
    "    # input for Pep30 library\n",
    "    samples=c('diagnol-2','N90-ctrl-7','N90-Ch24-11','N90-La24-9')\n",
    "    pdf(\"fig1i.pdf\",width=4,height=4)\n",
    "    setwd(\"fig1i-pep30-proteasome-inhibition\")\n",
    "    system('gunzip *')\n",
    "}\n",
    "\n",
    "samples=paste(samples,'.csv',sep='')\n",
    "\n",
    "mCherry_min = 500\n",
    "x=read.csv(samples[1])\n",
    "if(! \"EGFP\" %in% colnames(x))\n",
    "{\n",
    "  x$EGFP.A = x$GFP.A\n",
    "}\n",
    "x$EGFP.A[x$EGFP.A<1] = 0 \n",
    "x=x[x$mCherry.A>mCherry_min,]\n",
    "me = median(log10(as.numeric((1+x$EGFP.A)/(1+x$mCherry.A))))\n",
    "\n",
    "# control\n",
    "den = density(log10(as.numeric((1+x$EGFP.A)/(1+x$mCherry.A)))-me)\n",
    "plot(0,xlim=c(-2.5,1.),ylim=c(0,max(den$y)),axes=FALSE, ann=FALSE, frame.plot=FALSE,lwd=0,cex=0,col='blue')\n",
    "polygon(den, col=rgb(0,0.,0.,0.5),border=NA)\n",
    "axis(1,at= -2:1,c(0.01,0.1,1,10))\n",
    "\n",
    "# no treatment\n",
    "x=read.csv(samples[2])\n",
    "if(! \"EGFP\" %in% colnames(x))\n",
    "{\n",
    "  x$EGFP.A = x$GFP.A\n",
    "}\n",
    "x$EGFP.A[x$EGFP.A<1] = 0 \n",
    "x=x[x$mCherry.A>mCherry_min,]\n",
    "med = 10^(me - median(log10(as.numeric((1+x$EGFP.A)/(1+x$mCherry.A)))))\n",
    "den = density(log10(as.numeric((1+x$EGFP.A)/(1+x$mCherry.A)))-me)\n",
    "print(med)\n",
    "polygon(den, col=rgb(0,0.5,1,0.5),border=NA)\n",
    "\n",
    "# lysosome inhibitor\n",
    "x=read.csv(samples[3])\n",
    "if(! \"EGFP\" %in% colnames(x))\n",
    "{\n",
    "  x$EGFP.A = x$GFP.A\n",
    "}\n",
    "x$EGFP.A[x$EGFP.A<1] = 0 \n",
    "x=x[x$mCherry.A>mCherry_min,]\n",
    "med = 10^(me - median(log10(as.numeric((1+x$EGFP.A)/(1+x$mCherry.A)))))\n",
    "den = density(log10(as.numeric((1+x$EGFP.A)/(1+x$mCherry.A)))-me)\n",
    "lines(den, col='green',lwd=2)\n",
    "print(med)\n",
    "\n",
    "# proteasome inhibitor\n",
    "x=read.csv(samples[4])\n",
    "if(! \"EGFP\" %in% colnames(x))\n",
    "{\n",
    "  x$EGFP.A = x$GFP.A\n",
    "}\n",
    "x$EGFP.A[x$EGFP.A<1] = 0 \n",
    "x=x[x$mCherry.A>mCherry_min,]\n",
    "med = 10^(me - median(log10(as.numeric((1+x$EGFP.A)/(1+x$mCherry.A)))))\n",
    "den = density(log10(as.numeric((1+x$EGFP.A)/(1+x$mCherry.A)))-me)\n",
    "lines(den, col='magenta',lwd=2)\n",
    "print(med)\n",
    "\n",
    "dev.off()\n",
    "\n",
    "system('gzip *')\n",
    "setwd(\"../\")"
   ]
  },
  {
   "cell_type": "code",
   "execution_count": 53,
   "metadata": {},
   "outputs": [
    {
     "name": "stderr",
     "output_type": "stream",
     "text": [
      "Warning message in xy.coords(x, y, xlabel, ylabel, log):\n",
      "“355 x values <= 0 omitted from logarithmic plot”\n",
      "Warning message in xy.coords(x, y, xlabel, ylabel, log):\n",
      "“50 y values <= 0 omitted from logarithmic plot”\n",
      "Warning message in plot.xy(xy.coords(x, y), type = type, ...):\n",
      "“\"log\" is not a graphical parameter”\n"
     ]
    },
    {
     "data": {
      "text/html": [
       "<strong>PNG:</strong> 2"
      ],
      "text/latex": [
       "\\textbf{PNG:} 2"
      ],
      "text/markdown": [
       "**PNG:** 2"
      ],
      "text/plain": [
       "PNG \n",
       "  2 "
      ]
     },
     "metadata": {},
     "output_type": "display_data"
    },
    {
     "name": "stderr",
     "output_type": "stream",
     "text": [
      "Warning message in xy.coords(x, y, xlabel, ylabel, log):\n",
      "“355 x values <= 0 omitted from logarithmic plot”\n",
      "Warning message in xy.coords(x, y, xlabel, ylabel, log):\n",
      "“50 y values <= 0 omitted from logarithmic plot”\n",
      "Warning message in plot.xy(xy.coords(x, y), type = type, ...):\n",
      "“\"log\" is not a graphical parameter”\n"
     ]
    },
    {
     "data": {
      "text/html": [
       "<strong>PNG:</strong> 2"
      ],
      "text/latex": [
       "\\textbf{PNG:} 2"
      ],
      "text/markdown": [
       "**PNG:** 2"
      ],
      "text/plain": [
       "PNG \n",
       "  2 "
      ]
     },
     "metadata": {},
     "output_type": "display_data"
    }
   ],
   "source": [
    "\n",
    "#####################\n",
    "### Fig. 1g-h: Pep30/Pep13 scatter plot \n",
    "# original data: /Users/wuxbl/Documents/experimental-data/facs/Xuebing 110317 – N39\n",
    "\n",
    "#######\n",
    "setwd(\"fig1g-fig1h-pep30-pep13-scatter\")\n",
    "system('gunzip *')\n",
    "\n",
    "dig=read.csv('export_216811_Lymphocytes.csv')\n",
    "n39=read.csv('export_216822_Lymphocytes.csv')\n",
    "n90=read.csv('export_90984_Lymphocytes.csv')\n",
    "\n",
    "# normalize between the two libraries\n",
    "xCherry = median(n90$mCherry.A)/median(n39$mCherry.A)\n",
    "xGFP = median(n90$GFP.A)/median(n39$GFP.A)\n",
    "n90$mCherry.A = n90$mCherry.A/xCherry\n",
    "n90$GFP.A = n90$GFP.A/xCherry\n",
    "\n",
    "xmin=300\n",
    "xmax=30000\n",
    "\n",
    "pdf(\"fig1g.pdf\",width=3,height=4)\n",
    "plot(dig$mCherry.A,dig$GFP.A,xlab='mCherry\\n',ylab='\\nEGFP',col=rgb(0.5,0.5,0.5,0.3),pch=16,cex=0.2,log='xy',xlim=c(xmin,xmax),ylim=c(1,100000),bty='l',mar=c(4,4,1,1),axes=FALSE)\n",
    "points(n90$mCherry.A,n90$GFP.A,col=rgb(0,0.5,1,0.3),pch=16,cex=0.2,log='xy')\n",
    "axis(1,at= c(1,300,3000,30000),c(1,300,3000,30000))\n",
    "axis(2,at= c(1,100,10000),c(1,100,10000))\n",
    "dev.off()\n",
    "\n",
    "pdf(\"fig1h.pdf\",width=3,height=4)\n",
    "plot(dig$mCherry.A,dig$GFP.A,xlab='mCherry\\n',ylab='\\nEGFP',col=rgb(0.5,0.5,0.5,0.3),pch=16,cex=0.2,log='xy',xlim=c(xmin,xmax),ylim=c(1,100000),bty='l',mar=c(4,4,1,1),axes=FALSE)\n",
    "points(n39$mCherry.A,n39$GFP.A,col=rgb(0,0.5,1,0.3),pch=16,cex=0.2,log='xy')\n",
    "axis(1,at= c(1,300,3000,30000),c(1,300,3000,30000))\n",
    "axis(2,at= c(1,100,10000),c(1,100,10000))\n",
    "dev.off()\n",
    "\n",
    "system('mv *.pdf ../')\n",
    "system('zip *')\n",
    "\n",
    "setwd(\"../\")\n",
    "\n"
   ]
  },
  {
   "cell_type": "code",
   "execution_count": 45,
   "metadata": {},
   "outputs": [],
   "source": []
  },
  {
   "cell_type": "code",
   "execution_count": 54,
   "metadata": {},
   "outputs": [
    {
     "data": {
      "text/html": [
       "<strong>pdf:</strong> 3"
      ],
      "text/latex": [
       "\\textbf{pdf:} 3"
      ],
      "text/markdown": [
       "**pdf:** 3"
      ],
      "text/plain": [
       "pdf \n",
       "  3 "
      ]
     },
     "metadata": {},
     "output_type": "display_data"
    },
    {
     "name": "stdout",
     "output_type": "stream",
     "text": [
      "[1] \"HEK293T_A2_1_HEK_STOP.fcs.csv\"\n",
      "[1] 19509\n",
      "[1] \"HEK293T_A3_2_HEK_CTERM.fcs.csv\"\n",
      "[1] 18820\n",
      "[1] \"HEK293T_A4_3_HEK_delA.fcs.csv\"\n",
      "[1] 17242.5\n",
      "[1] \"HEK293T_A5_4_HEK_delB.fcs.csv\"\n",
      "[1] 16966.5\n",
      "[1] \"HEK293T_A6_5_HEK_delC.fcs.csv\"\n",
      "[1] 15686\n",
      "[1] \"HEK293T_A7_6_HEK_delD.fcs.csv\"\n",
      "[1] 15284\n",
      "[1] \"HEK293T_A8_7_HEK_delE.fcs.csv\"\n",
      "[1] 18490\n",
      "[1] \"HEK293T_B5_12_HEK_delDtoE.fcs.csv\"\n",
      "[1] 16844\n",
      "[1] \"HEK293T_B4_11_HEK_delCtoE.fcs.csv\"\n",
      "[1] 17515\n",
      "[1] \"HEK293T_B1_8_HEK_delAtoE.fcs.csv\"\n",
      "[1] 18808\n"
     ]
    },
    {
     "data": {
      "text/html": [
       "<strong>pdf:</strong> 3"
      ],
      "text/latex": [
       "\\textbf{pdf:} 3"
      ],
      "text/markdown": [
       "**pdf:** 3"
      ],
      "text/plain": [
       "pdf \n",
       "  3 "
      ]
     },
     "metadata": {},
     "output_type": "display_data"
    }
   ],
   "source": [
    "\n",
    "################################\n",
    "# AMD1 deletion  - ext.fig4c\n",
    "\n",
    "dev.off()\n",
    "pdf(\"ext-fig4c.pdf\",width=2,height=3)\n",
    "par(mfrow=c(length(samples)+1,1),mar=c(0,0,0,0))\n",
    "setwd(\"ext-fig4c-AMD1-mutagenesis\")\n",
    "system('gunzip *')\n",
    "\n",
    "samples=c(\"HEK293T_A2_1_HEK_STOP.fcs.csv\",\n",
    "          \"HEK293T_A3_2_HEK_CTERM.fcs.csv\",\n",
    "          \"HEK293T_A4_3_HEK_delA.fcs.csv\",\n",
    "          \"HEK293T_A5_4_HEK_delB.fcs.csv\",\n",
    "          \"HEK293T_A6_5_HEK_delC.fcs.csv\",\n",
    "          \"HEK293T_A7_6_HEK_delD.fcs.csv\",\n",
    "          \"HEK293T_A8_7_HEK_delE.fcs.csv\",\n",
    "          \"HEK293T_B5_12_HEK_delDtoE.fcs.csv\",#)\n",
    "          \"HEK293T_B4_11_HEK_delCtoE.fcs.csv\",#)\n",
    "          \"HEK293T_B1_8_HEK_delAtoE.fcs.csv\")\n",
    "\n",
    "labels = c(\"Control\",\"Readthrough\",\"Del-A\",\"Del-B\",\"Del-C\",\"Del-D\",\"Del-E\",\"Del-D-to-E\",\"Del-C-to-E\",\"Del-A-to-E\")#,\"Del-A2D\",\"Del-A2Dv2\",\"Del-D2E\")\n",
    "\n",
    "mCherry_min = 1000\n",
    "noinsert=read.csv(samples[1])\n",
    "\n",
    "x=noinsert\n",
    "if(! \"EGFP.A\" %in% colnames(x))\n",
    "{\n",
    "  x$EGFP.A = x$GFP.A\n",
    "}\n",
    "x$EGFP.A[x$EGFP.A<1] = 0 \n",
    "x=x[x$mCherry.A>mCherry_min,]\n",
    "me = median(log10(as.numeric((1+x$EGFP.A)/(1+x$mCherry.A))))\n",
    "\n",
    "for(i in 1:length(samples)){\n",
    "  print(samples[i])\n",
    "  x=read.csv(samples[i])\n",
    "  if(! \"EGFP.A\" %in% colnames(x))\n",
    "  {\n",
    "    x$EGFP.A = x$GFP.A\n",
    "  }\n",
    "  x$EGFP.A[x$EGFP.A<1] = 0 \n",
    "  x=x[x$mCherry.A>mCherry_min,]\n",
    "  med = 10^(me - median(log10(as.numeric((1+x$EGFP.A)/(1+x$mCherry.A)))))\n",
    "  den = density(log10(as.numeric((1+x$EGFP.A)/(1+x$mCherry.A)))-me)\n",
    "  if(i==9){ # C-to-E deletion, saved for fig 4\n",
    "      c2e_med = med\n",
    "      c2e_den = den\n",
    "  }\n",
    "  print(median(x$mCherry.A))\n",
    "  plot(0,xlim=c(-3.2,0.5),ylim=c(0,5.3),axes=FALSE, ann=FALSE, frame.plot=FALSE,lwd=0,col='blue')\n",
    "  legend(-3.5,6,paste(labels[i],round(med,digits=1),sep=', '),bty='n')\n",
    "  polygon(den, col=rgb(0,0,0,0.5),border=NA)\n",
    "}\n",
    "axis(1,at= -3:0,c(0.001,0.01,0.1,1))\n",
    "dev.off()\n",
    "\n",
    "system('gzip *')\n",
    "setwd('../')"
   ]
  },
  {
   "cell_type": "code",
   "execution_count": 55,
   "metadata": {},
   "outputs": [
    {
     "data": {
      "text/html": [
       "<strong>pdf:</strong> 3"
      ],
      "text/latex": [
       "\\textbf{pdf:} 3"
      ],
      "text/markdown": [
       "**pdf:** 3"
      ],
      "text/plain": [
       "pdf \n",
       "  3 "
      ]
     },
     "metadata": {},
     "output_type": "display_data"
    },
    {
     "name": "stdout",
     "output_type": "stream",
     "text": [
      "[1] \"xw002\"\n",
      "[1] \"Cterm\"\n",
      "[1] \"Cterm-5umMG132x\"\n",
      "[1] \"P2A\"\n",
      "[1] \"C2E\"\n",
      "[1] \"d21\"\n",
      "[1] \"k21\"\n",
      "[1] \"k21-5umMG132x\"\n",
      "[1] \"mid\"\n",
      "[1] \"mid-d21\"\n"
     ]
    },
    {
     "data": {
      "text/html": [
       "<strong>pdf:</strong> 3"
      ],
      "text/latex": [
       "\\textbf{pdf:} 3"
      ],
      "text/markdown": [
       "**pdf:** 3"
      ],
      "text/plain": [
       "pdf \n",
       "  3 "
      ]
     },
     "metadata": {},
     "output_type": "display_data"
    }
   ],
   "source": [
    "\n",
    "##############################\n",
    "# Fig. 4: AMD1 flow\n",
    "dev.off()\n",
    "pdf(\"Fig4.pdf\",width=2,height=3)\n",
    "par(mfrow=c(length(samples),1),mar=c(0,0,0,0))\n",
    "setwd(\"fig4-AMD1\")\n",
    "system('gunzip *')\n",
    "\n",
    "samples=c(\"xw002\",\"Cterm\",\"Cterm-5umMG132x\",\"P2A\",\"C2E\",\"d21\",\"k21\",\"k21-5umMG132x\",\"mid\",\"mid-d21\")\n",
    "added = c(0,0,1,0,0,0,0,1,0,0)\n",
    "\n",
    "mCherry_min = 500\n",
    "noinsert=read.csv(samples[1])\n",
    "\n",
    "x=noinsert\n",
    "x$EGFP.A[x$EGFP.A<1] = 0 \n",
    "x=x[x$mCherry.A>mCherry_min,]\n",
    "me = median(log10(as.numeric((1+x$EGFP.A)/(1+x$mCherry.A))))\n",
    "\n",
    "for(i in 1:length(samples)){\n",
    "  print(samples[i])\n",
    "  if(i==5){ # use previously calculated result, see above ext-fig4c\n",
    "    med = c2e_med\n",
    "    den = c2e_den\n",
    "  } else {\n",
    "        x=read.csv(samples[i])\n",
    "  if(! \"EGFP.A\" %in% colnames(x))\n",
    "  {\n",
    "    x$EGFP.A = x$GFP.A\n",
    "  }\n",
    "  x$EGFP.A[x$EGFP.A<1] = 0 \n",
    "  x=x[x$mCherry.A>mCherry_min,]\n",
    "    med = 10^(me - median(log10(as.numeric((1+x$EGFP.A)/(1+x$mCherry.A)))))\n",
    "    den = density(log10(as.numeric((1+x$EGFP.A)/(1+x$mCherry.A)))-me)\n",
    "  }\n",
    "  if(added[i]==0){\n",
    "    plot(0,xlim=c(-3.2,0.5),ylim=c(0,4.5),axes=FALSE, ann=FALSE, frame.plot=FALSE,lwd=0,col=NA,xlab='EGFP/mCherry ratio\\n')\n",
    "    legend(-3.5,4.5,paste(round(med,digits=1)),box.lwd=0,bty='n')\n",
    "    polygon(den, col=rgb(0,0,0,0.5),border=NA)\n",
    "  }else{\n",
    "    polygon(den, col=rgb(0,0.5,1,0.5),border=NA)\n",
    "    #legend('topleft',paste(round(med_old,digits=1)),round(med,digits=1),sep=', '),box.lwd=0,text.col=rgb(0,0.5,1,0.95))\n",
    "    legend(-2.8,4.5,paste(round(med,digits=1)),box.lwd=0,text.col=rgb(0,0.5,1,0.95),bg=NA,bty='n')\n",
    "  }\n",
    "}\n",
    "axis(1,at= -3:0,c(0.001,0.01,0.1,1))\n",
    "dev.off()\n",
    "\n",
    "system('gzip *')\n",
    "setwd('../')"
   ]
  },
  {
   "cell_type": "code",
   "execution_count": 56,
   "metadata": {},
   "outputs": [
    {
     "data": {
      "text/html": [
       "<strong>pdf:</strong> 3"
      ],
      "text/latex": [
       "\\textbf{pdf:} 3"
      ],
      "text/markdown": [
       "**pdf:** 3"
      ],
      "text/plain": [
       "pdf \n",
       "  3 "
      ]
     },
     "metadata": {},
     "output_type": "display_data"
    },
    {
     "name": "stdout",
     "output_type": "stream",
     "text": [
      "[1] \"A2 2_HEK_STOP.fcs.csv\"\n",
      "     Min.   1st Qu.    Median      Mean   3rd Qu.      Max. \n",
      "    10.34     77.55    835.01   8385.75   7402.00  99999.98 \n",
      "[1] \"A3 3_HEK_CTERM.fcs.csv\"\n",
      "    Min.  1st Qu.   Median     Mean  3rd Qu.     Max. \n",
      "   10.34    73.88   432.72  2280.18  2188.90 68447.67 \n",
      "[1] \"E2 14_UBL4A_STOP.fcs.csv\"\n",
      "     Min.   1st Qu.    Median      Mean   3rd Qu.      Max. \n",
      "    10.34    135.64   2090.31  12019.12  14433.43  99999.98 \n",
      "[1] \"E3 15_UBL4A_CTERM.fcs.csv\"\n",
      "    Min.  1st Qu.   Median     Mean  3rd Qu.     Max. \n",
      "   10.34   149.23   985.61  3383.43  4008.21 68429.97 \n",
      "[1] \"D2 11_SGTA_STOP.fcs.csv\"\n",
      "     Min.   1st Qu.    Median      Mean   3rd Qu.      Max. \n",
      "    10.34     77.00    899.92  10728.61  10609.01  99999.98 \n",
      "[1] \"D3 12_SGTA_CTERM.fcs.csv\"\n",
      "    Min.  1st Qu.   Median     Mean  3rd Qu.     Max. \n",
      "   10.34    78.92   590.18  2883.93  3185.51 71359.43 \n",
      "[1] \"C2 8_GET4_STOP.fcs.csv\"\n",
      "     Min.   1st Qu.    Median      Mean   3rd Qu.      Max. \n",
      "    10.34     74.14    706.82   8499.47   7127.04  99999.98 \n",
      "[1] \"C3 9_GET4_CTERM.fcs.csv\"\n",
      "    Min.  1st Qu.   Median     Mean  3rd Qu.     Max. \n",
      "   10.34    69.75   431.66  2152.32  2236.14 72751.08 \n",
      "[1] \"B2 5_BAG6_STOP.fcs.csv\"\n",
      "     Min.   1st Qu.    Median      Mean   3rd Qu.      Max. \n",
      "    10.34     66.24    613.38   7240.79   5843.28  99999.98 \n",
      "[1] \"B3 6_BAG6_CTERM.fcs.csv\"\n",
      "    Min.  1st Qu.   Median     Mean  3rd Qu.     Max. \n",
      "   10.34    55.16   301.40  1533.34  1514.13 56980.02 \n",
      "[1] \"Specimen1_C1_7.fcs.csv\"\n",
      "     Min.   1st Qu.    Median      Mean   3rd Qu.      Max. \n",
      "    49.65    122.25    621.45  10726.17   7086.10 281600.10 \n",
      "[1] \"Specimen1_C4_10.fcs.csv\"\n",
      "    Min.  1st Qu.   Median     Mean  3rd Qu.     Max. \n",
      "   49.65   118.61   428.85  2363.84  2037.73 46513.25 \n"
     ]
    },
    {
     "data": {
      "text/html": [
       "<strong>pdf:</strong> 3"
      ],
      "text/latex": [
       "\\textbf{pdf:} 3"
      ],
      "text/markdown": [
       "**pdf:** 3"
      ],
      "text/plain": [
       "pdf \n",
       "  3 "
      ]
     },
     "metadata": {},
     "output_type": "display_data"
    }
   ],
   "source": [
    "\n",
    "######## Fig. 5e: AMD1 reporter rescue in KO cell lines\n",
    "dev.off()\n",
    "pdf(\"Fig5e.pdf\",width=2,height=3)\n",
    "par(mfrow=c(length(samples)/2+1,1),mar=c(0,0,0,0))\n",
    "setwd(\"fig5e-AMD1-rescue-in-KO\")\n",
    "system('gunzip *')\n",
    "\n",
    "samples=c(\"A2 2_HEK_STOP.fcs.csv\",\n",
    "          \"A3 3_HEK_CTERM.fcs.csv\",\n",
    "          \"E2 14_UBL4A_STOP.fcs.csv\",\n",
    "          \"E3 15_UBL4A_CTERM.fcs.csv\",\n",
    "          \"D2 11_SGTA_STOP.fcs.csv\",\n",
    "          \"D3 12_SGTA_CTERM.fcs.csv\",\n",
    "          \"C2 8_GET4_STOP.fcs.csv\",\n",
    "          \"C3 9_GET4_CTERM.fcs.csv\",\n",
    "          \"B2 5_BAG6_STOP.fcs.csv\",\n",
    "          \"B3 6_BAG6_CTERM.fcs.csv\",          \n",
    "          \"Specimen1_C1_7.fcs.csv\", # RNF126\n",
    "          \"Specimen1_C4_10.fcs.csv\")\n",
    "\n",
    "added = c(0,1,0,1,0,1,0,1,0,1,0,1)\n",
    "labels=c(\"WT\",\"UBL4A KO\",\"SGTA KO\",\"TRC35 KO\",\"BAG6 KO\",\"RNF126 KO\")\n",
    "\n",
    "mCherry_min=10\n",
    "for(i in 1:length(samples)){\n",
    "  print(samples[i])\n",
    "  x=read.csv(samples[i])\n",
    "  if (i >10 & i <13){\n",
    "    x$mCherry.A = x$PE.Texas.Red.A / 20\n",
    "    x$EGFP.A = x$FITC.A / 20\n",
    "  }\n",
    "  print(summary(x$mCherry.A))\n",
    "  if(! \"EGFP.A\" %in% colnames(x))\n",
    "  {\n",
    "    x$EGFP.A = x$GFP.A\n",
    "  }\n",
    "  x$EGFP.A[x$EGFP.A<1] = 0 \n",
    "  x=x[x$mCherry.A>mCherry_min,]\n",
    "  if(added[i] == 0){\n",
    "    me = median(log10(as.numeric((1+x$EGFP.A)/(1+x$mCherry.A))))\n",
    "    med = 1\n",
    "  } else {\n",
    "    med = 10^(me - median(log10(as.numeric((1+x$EGFP.A)/(1+x$mCherry.A)))))\n",
    "  }\n",
    "  den = density(log10(as.numeric((1+x$EGFP.A)/(1+x$mCherry.A)))-me)\n",
    "  if(added[i]==0){\n",
    "    plot(0,xlim=c(-3.2,0.5),ylim=c(0,max(den$y)),axes=FALSE, ann=FALSE, frame.plot=FALSE,lwd=0,col=NA,xlab='EGFP/mCherry ratio\\n')\n",
    "    #legend(-3.5,4.5,paste(round(med,digits=1)),box.lwd=0,bty='n')\n",
    "    polygon(den, col=rgb(0,0,0,0.5),border=NA)\n",
    "  }else{\n",
    "    polygon(den, col=rgb(0,0.5,1,0.5),border=NA)\n",
    "    #legend('topleft',paste(round(med_old,digits=1)),round(med,digits=1),sep=', '),box.lwd=0,text.col=rgb(0,0.5,1,0.95))\n",
    "    legend('topleft',paste(labels[i/2],round(med,digits=1),sep=', '),bty='n')\n",
    "  }\n",
    "}\n",
    "axis(1,at= -3:0,c(0.001,0.01,0.1,1))\n",
    "dev.off()\n",
    "system('gzip *')\n",
    "setwd('../')"
   ]
  },
  {
   "cell_type": "code",
   "execution_count": 57,
   "metadata": {},
   "outputs": [
    {
     "data": {
      "text/html": [
       "<strong>PNG:</strong> 2"
      ],
      "text/latex": [
       "\\textbf{PNG:} 2"
      ],
      "text/markdown": [
       "**PNG:** 2"
      ],
      "text/plain": [
       "PNG \n",
       "  2 "
      ]
     },
     "metadata": {},
     "output_type": "display_data"
    }
   ],
   "source": [
    "\n",
    "# SMAD4\n",
    "\n",
    "pdf(\"ext-fig-SMAD4.pdf\",width=2,height=2)\n",
    "setwd(\"ext-fig-SMAD4\")\n",
    "system('gunzip *')\n",
    "\n",
    "par(mfrow=c(3,1),mar=c(0,0,0,0))\n",
    "density_plot_pairwise('A2 2_HEK_STOP_500.fcs.csv','A3 3_HEK_CTERM_500.fcs.csv',500,-3,1,0)\n",
    "density_plot_pairwise('B2 7_3E5_STOP_500.fcs.csv','B3 8_3E5_CTERM_500.fcs.csv',500,-3,1,1)\n",
    "dev.off()\n",
    "\n",
    "system('gzip *')\n",
    "setwd(\"../\")"
   ]
  },
  {
   "cell_type": "code",
   "execution_count": 58,
   "metadata": {},
   "outputs": [
    {
     "data": {
      "text/html": [
       "<strong>PNG:</strong> 2"
      ],
      "text/latex": [
       "\\textbf{PNG:} 2"
      ],
      "text/markdown": [
       "**PNG:** 2"
      ],
      "text/plain": [
       "PNG \n",
       "  2 "
      ]
     },
     "metadata": {},
     "output_type": "display_data"
    }
   ],
   "source": [
    "\n",
    "## other proteasome lysosome inhibitors\n",
    "\n",
    "#raw data /Users/wuxbl/Documents/experimental-data/facs/Xuebing-032018-inhibitors/population-scaled\n",
    "\n",
    "plot.multi.dens <- function(s,col,lty,lwd) {\n",
    "  junk.x = NULL\n",
    "  junk.y = NULL\n",
    "  for(i in 1:length(s)) {\n",
    "    junk.x = c(junk.x, density(s[[i]])$x)\n",
    "    junk.y = c(junk.y, density(s[[i]])$y)\n",
    "  }\n",
    "  xr <- range(junk.x)\n",
    "  yr <- range(junk.y)\n",
    "  plot(density(s[[1]]), xlim = c(-2.5,1.5), ylim = yr, main = \"\",bty='n',xlab='log10(EGFP/mCherry)',lwd=0)\n",
    "  for(i in 1:length(s)) {\n",
    "    lines(density(s[[i]]), xlim = xr, ylim = yr, col = col[i],lty=lty[i],lwd=lwd[i])\n",
    "  }\n",
    "}\n",
    "\n",
    "# separate\n",
    "pdf(\"ext-fig-proteasome-lysosome.pdf\",width=10,height=4)\n",
    "setwd(\"ext-fig-proteasome-lysosome\")\n",
    "system('gunzip *')\n",
    "\n",
    "par(mfrow=c(1,2),bty='l',mar=c(5, 5, 2, 8),xpd=TRUE)\n",
    "mCherry_min = 100\n",
    "samples=c('s0','s1','s2','s3','s4')\n",
    "names=c('Ctrl','Lactacystin-10uM','Lactacystin-40uM','MG132-5uM','MG132-10uM')#,'Chloroquine-50uM','Chloroquine-200uM','BafilomycinA1-100nM','Leupeptin-100uG/mL','AmmoniaChloride-10mM','Ctrl-1','Ctrl-2')\n",
    "li = list()\n",
    "medians=numeric()\n",
    "for (sample in samples){\n",
    "  x=read.csv(paste(sample,'.csv',sep=''))\n",
    "  x$GFP.A[x$GFP.A<1] = 0\n",
    "  x=x[x$mCherry.A>mCherry_min,]\n",
    "  li=append(li,list(log10(as.numeric((1+x$GFP.A)/(1+x$mCherry.A)))))\n",
    "}\n",
    "col= seq(length(samples))\n",
    "lty = c(1,1,1,1,1)\n",
    "lwd = c(2,1,1,1,1)\n",
    "plot.multi.dens(li,col,lty,lwd)\n",
    "legend('topright',names,text.col=col,bty='n',inset=c(-0.4,0))\n",
    "\n",
    "samples=c('s11','s5','s6','s7','s8','s9')\n",
    "names=c('Ctrl','Chloroquine-50uM','Chloroquine-200uM','BafilomycinA1-100nM','Leupeptin-100uG/mL','AmmoniaChloride-10mM')\n",
    "li = list()\n",
    "medians=numeric()\n",
    "for (sample in samples){\n",
    "  x=read.csv(paste(sample,'.csv',sep=''))\n",
    "  x$GFP.A[x$GFP.A<1] = 0\n",
    "  x=x[x$mCherry.A>mCherry_min,]\n",
    "  li=append(li,list(log10(as.numeric((1+x$GFP.A)/(1+x$mCherry.A)))))\n",
    "}\n",
    "col= seq(length(samples))\n",
    "lty = c(1,1,1,1,1,1)\n",
    "lwd = c(2,1,1,1,1,1)\n",
    "plot.multi.dens(li,col,lty,lwd)\n",
    "legend('topright',names,text.col=col,bty='n',inset=c(-0.6,0))\n",
    "dev.off()\n",
    "\n",
    "system('gzip *')\n",
    "setwd(\"../\")"
   ]
  },
  {
   "cell_type": "code",
   "execution_count": null,
   "metadata": {},
   "outputs": [],
   "source": []
  }
 ],
 "metadata": {
  "kernelspec": {
   "display_name": "R",
   "language": "R",
   "name": "ir"
  },
  "language_info": {
   "codemirror_mode": "r",
   "file_extension": ".r",
   "mimetype": "text/x-r-source",
   "name": "R",
   "pygments_lexer": "r",
   "version": "4.0.0"
  }
 },
 "nbformat": 4,
 "nbformat_minor": 4
}
