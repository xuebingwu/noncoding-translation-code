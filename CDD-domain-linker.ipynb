{
 "cells": [
  {
   "cell_type": "code",
   "execution_count": 1,
   "metadata": {},
   "outputs": [
    {
     "data": {
      "text/plain": [
       "'\\nENSG00000004059 18      176     ENSP00000000233 ARF5\\nENSG00000173153 73      168     ENSP00000000442 ESRRA\\nENSG00000173153 197     420     ENSP00000000442 ESRRA\\nENSG00000001617 48      548     ENSP00000002829 SEMA3F\\nENSG00000001617 609     697     ENSP00000002829 SEMA3F\\n'"
      ]
     },
     "execution_count": 1,
     "metadata": {},
     "output_type": "execute_result"
    }
   ],
   "source": [
    "# download protein sequences and CDD domain annotation from ensembl biomart\n",
    "\n",
    "protein_file=\"GRCh38.p13-ensembl-biomart-protein-20220922.txt\"\n",
    "'''\n",
    ">ENSP00000005374\n",
    "MANSGCKDVTGPDEESFLYFAYGSNLLTERIHLRNPSAAFFCVARLQDFKLDFGNSQGKT\n",
    "SQTWHGGIATIFQSPGDEVWGVVWKMNKSNLNSLDELFAWVQKKMVCRWSIKRS*\n",
    "'''\n",
    "\n",
    "# dfile=GRCh38.p13-ensembl-biomart-CDD-coordinates-20220922.txt\n",
    "#  sort -k4 -k2n $dfile > $dfile.sorted \n",
    "domain_file=\"GRCh38.p13-ensembl-biomart-CDD-coordinates-20220922.txt.sorted\"\n",
    "# sort by coordinates\n",
    "#\n",
    "'''\n",
    "ENSG00000004059 18      176     ENSP00000000233 ARF5\n",
    "ENSG00000173153 73      168     ENSP00000000442 ESRRA\n",
    "ENSG00000173153 197     420     ENSP00000000442 ESRRA\n",
    "ENSG00000001617 48      548     ENSP00000002829 SEMA3F\n",
    "ENSG00000001617 609     697     ENSP00000002829 SEMA3F\n",
    "'''\n"
   ]
  },
  {
   "cell_type": "code",
   "execution_count": 2,
   "metadata": {},
   "outputs": [],
   "source": [
    "# load sequences\n",
    "from Bio import SeqIO\n",
    "\n",
    "proteins = {}\n",
    "for record in SeqIO.parse(protein_file, \"fasta\"):\n",
    "    proteins[str(record.id)] = str(record.seq)\n",
    "\n",
    "# save as single line text\n",
    "outf = open('protein.txt','w')\n",
    "for p in proteins:\n",
    "    outf.write(proteins[p][:-1]+'\\n')\n",
    "outf.close()"
   ]
  },
  {
   "cell_type": "code",
   "execution_count": 3,
   "metadata": {},
   "outputs": [
    {
     "name": "stdout",
     "output_type": "stream",
     "text": [
      "70667   \r"
     ]
    }
   ],
   "source": [
    "# get interdomain sequences\n",
    "# also get C-termini that are depleted of domains in the last 100aa \n",
    "unfolded_cterm={} # C-terms in which the last 100aa are devoid of domains\n",
    "previous_protein=''\n",
    "previous_start=0\n",
    "previous_end = 0\n",
    "linkers={}\n",
    "with open(domain_file,'r') as f:\n",
    "    n=0\n",
    "    for line in f:\n",
    "        n=n+1\n",
    "        print(n,'\\r',end='')\n",
    "        #print(line)\n",
    "        flds = line.strip().split()\n",
    "        protein = flds[3]\n",
    "        start=int(flds[1])\n",
    "        end=int(flds[2])\n",
    "        if protein == previous_protein: # the same protein\n",
    "            # calculate interdomain coordinates\n",
    "            if start > previous_end:\n",
    "                linkers[proteins[protein][previous_end:start]] = protein+'\\t'+str(previous_end)+'-'+str(start)\n",
    "        else: # a new protein\n",
    "            # is the previous protein folded at C-termini?\n",
    "            if previous_protein != '':\n",
    "                d_to_end = len(proteins[previous_protein])-previous_end\n",
    "                if d_to_end > 100:\n",
    "                    unfolded_cterm[proteins[previous_protein][previous_end:-1]] = protein+'\\t'+str(d_to_end)\n",
    "        previous_protein = protein\n",
    "        previous_end = end\n",
    "        previous_start = start\n",
    "                    \n",
    "f.close()"
   ]
  },
  {
   "cell_type": "code",
   "execution_count": 4,
   "metadata": {},
   "outputs": [],
   "source": [
    "# save\n",
    "outf = open('linkers.txt','w')\n",
    "for seq in linkers:\n",
    "    outf.write('\\t'.join([seq,str(len(seq)),linkers[seq]])+'\\n')\n",
    "outf.close()\n",
    "# save\n",
    "outf = open('unfolded_cterm.txt','w')\n",
    "for seq in unfolded_cterm:\n",
    "    outf.write('\\t'.join([seq,str(len(seq)),unfolded_cterm[seq]])+'\\n')\n",
    "outf.close()"
   ]
  }
 ],
 "metadata": {
  "kernelspec": {
   "display_name": "Python 3",
   "language": "python",
   "name": "python3"
  },
  "language_info": {
   "codemirror_mode": {
    "name": "ipython",
    "version": 3
   },
   "file_extension": ".py",
   "mimetype": "text/x-python",
   "name": "python",
   "nbconvert_exporter": "python",
   "pygments_lexer": "ipython3",
   "version": "3.8.10"
  }
 },
 "nbformat": 4,
 "nbformat_minor": 4
}
