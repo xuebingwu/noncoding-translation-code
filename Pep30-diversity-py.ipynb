{
 "cells": [
  {
   "cell_type": "code",
   "execution_count": 22,
   "metadata": {},
   "outputs": [
    {
     "name": "stdout",
     "output_type": "stream",
     "text": [
      "12000 \r"
     ]
    }
   ],
   "source": [
    "# load pep30 sequences and translate dna to protein to determine peptide length\n",
    "\n",
    "from Bio.Seq import Seq\n",
    "\n",
    "# input count file\n",
    "count_file='Pep30.counts.txt'\n",
    "\n",
    "# output file\n",
    "count_with_pep='Pep30-translated.txt'\n",
    "outf = open(count_with_pep,'w')\n",
    "\n",
    "seqs = []\n",
    "\n",
    "with open(count_file,'r') as f:\n",
    "    n=0\n",
    "    for line in f:\n",
    "        n=n+1\n",
    "        print(n,'\\r',end='')\n",
    "        flds = line.strip().split()\n",
    "        seqs.append(flds[0].upper())\n",
    "        # translate, continue after stop codon\n",
    "        pep = Seq(flds[0]).translate()\n",
    "        # get the first pep len\n",
    "        pepLen = len(pep.split('*')[0])\n",
    "        outf.write(flds[0]+'\\t'+str(pep)+'\\t'+str(pepLen)+'\\t'+flds[1]+'\\t'+flds[2]+'\\t'+flds[3]+'\\t'+flds[4]+'\\n')\n",
    "outf.close()       \n"
   ]
  },
  {
   "cell_type": "code",
   "execution_count": 23,
   "metadata": {},
   "outputs": [],
   "source": [
    "# how different are the sequences from each other\n",
    "\n",
    "import numpy as np\n",
    "\n",
    "# hamming distance\n",
    "def dist(seq1,seq2):\n",
    "    d= 0 \n",
    "    for i in range(len(seq1)):\n",
    "        if seq1[i] != seq2[i]:\n",
    "            d=d+1\n",
    "    return d\n",
    "\n",
    "def min_dist(seq,seqs):\n",
    "    # min distance to non-self sequences\n",
    "    min_d = len(seq)\n",
    "    for s in seqs:\n",
    "        if s != seq:\n",
    "            d = dist(seq,s)\n",
    "            if d < min_d:\n",
    "                min_d = d\n",
    "    return min_d\n",
    "\n",
    "min_ds = []\n",
    "n=0\n",
    "\n",
    "import os\n",
    "\n",
    "if os.path.exists('Pep30.min_dist.npy'):\n",
    "    min_ds = np.load('Pep30.min_dist.npy')\n",
    "else:\n",
    "    for seq in seqs:\n",
    "        n=n+1\n",
    "        print(n,'\\r',end='')\n",
    "        min_ds.append(min_dist(seq,seqs))\n",
    "    np.save(\"Pep30.min_dist\", min_ds)\n",
    "\n"
   ]
  },
  {
   "cell_type": "code",
   "execution_count": 24,
   "metadata": {},
   "outputs": [],
   "source": [
    "# shuffle sequences\n",
    "seqs2 = []\n",
    "import random\n",
    "for seq in seqs:\n",
    "    a=list(seq)\n",
    "    random.shuffle(a)\n",
    "    seqs2.append(''.join(a))\n",
    "\n",
    "min_ds2 = []\n",
    "n=0\n",
    "\n",
    "if os.path.exists('Pep30.min_dist2.npy'):\n",
    "    min_ds2 = np.load('Pep30.min_dist2.npy')\n",
    "else:\n",
    "    for seq in seqs2:\n",
    "        n=n+1\n",
    "        print(n,'\\r',end='')\n",
    "        min_ds2.append(min_dist(seq,seqs2))\n",
    "    np.save(\"Pep30.min_dist2\", min_ds2)"
   ]
  },
  {
   "cell_type": "code",
   "execution_count": 39,
   "metadata": {},
   "outputs": [
    {
     "data": {
      "image/png": "[encoded data removed]",
      "text/plain": [
       "<Figure size 600x400 with 1 Axes>"
      ]
     },
     "metadata": {},
     "output_type": "display_data"
    },
    {
     "data": {
      "text/plain": [
       "[48.0, 50.0]"
      ]
     },
     "execution_count": 39,
     "metadata": {},
     "output_type": "execute_result"
    }
   ],
   "source": [
    "from matplotlib import pylab\n",
    "pylab.figure(figsize=(6,4))\n",
    "bins = np.linspace(0, 60, 60)\n",
    "pylab.hist(min_ds2, bins=bins, alpha=0.5, label=\"Shuffled\")\n",
    "pylab.hist(min_ds,  bins=bins, alpha=0.5, label=\"Pep30\")\n",
    "pylab.xlabel(\"Shortest distance to other sequences\", size=14)\n",
    "pylab.ylabel(\"Count\", size=14)\n",
    "#pylab.title(\"Multiple Histograms with Matplotlib\")\n",
    "pylab.legend(loc='upper left')\n",
    "pylab.subplots_adjust(bottom=0.2,left=0.2,right=0.8)\n",
    "pylab.savefig(\"Pep30-diversity.pdf\")\n",
    "pylab.show()\n",
    "[np.median(min_ds),np.median(min_ds2)]"
   ]
  },
  {
   "cell_type": "code",
   "execution_count": null,
   "metadata": {},
   "outputs": [],
   "source": []
  }
 ],
 "metadata": {
  "kernelspec": {
   "display_name": "Python 3",
   "language": "python",
   "name": "python3"
  },
  "language_info": {
   "codemirror_mode": {
    "name": "ipython",
    "version": 3
   },
   "file_extension": ".py",
   "mimetype": "text/x-python",
   "name": "python",
   "nbconvert_exporter": "python",
   "pygments_lexer": "ipython3",
   "version": "3.8.10"
  }
 },
 "nbformat": 4,
 "nbformat_minor": 4
}
