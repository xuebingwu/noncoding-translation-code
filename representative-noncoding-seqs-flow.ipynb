{
 "cells": [
  {
   "cell_type": "code",
   "execution_count": 7,
   "id": "7a9e7e1b-2a67-4a48-8921-3d872380c9ac",
   "metadata": {},
   "outputs": [
    {
     "data": {
      "text/html": [
       "<strong>null device:</strong> 1"
      ],
      "text/latex": [
       "\\textbf{null device:} 1"
      ],
      "text/markdown": [
       "**null device:** 1"
      ],
      "text/plain": [
       "null device \n",
       "          1 "
      ]
     },
     "metadata": {},
     "output_type": "display_data"
    },
    {
     "name": "stdout",
     "output_type": "stream",
     "text": [
      "[1] \"Specimen2_A1_XW001.fcs.csv\"\n",
      "[1] 1642\n",
      "[1] \"Specimen2_B5_Lnc2885.fcs.csv\"\n",
      "[1] 6199\n",
      "[1] \"Specimen2_B4_Lnc222.fcs.csv\"\n",
      "[1] 3804.5\n",
      "[1] \"Specimen2_B3_IFT.fcs.csv\"\n",
      "[1] 3660\n",
      "[1] \"Specimen2_B2_APOL4.fcs.csv\"\n",
      "[1] 5441\n",
      "[1] \"Specimen2_B1_ASP.fcs.csv\"\n",
      "[1] 9544\n"
     ]
    },
    {
     "data": {
      "text/html": [
       "<strong>null device:</strong> 1"
      ],
      "text/latex": [
       "\\textbf{null device:} 1"
      ],
      "text/markdown": [
       "**null device:** 1"
      ],
      "text/plain": [
       "null device \n",
       "          1 "
      ]
     },
     "metadata": {},
     "output_type": "display_data"
    }
   ],
   "source": [
    "\n",
    "################################\n",
    "# representitive noncoding sequences  - ext.fig.1d\n",
    "\n",
    "dev.off()\n",
    "pdf(\"ext.fig.1d.pdf\",width=2,height=2)\n",
    "setwd(\"representative-noncoding\")\n",
    "system('gunzip *')\n",
    "\n",
    "samples=c(\"Specimen2_A1_XW001.fcs.csv\",\n",
    "          \"Specimen2_B5_Lnc2885.fcs.csv\",\n",
    "          \"Specimen2_B4_Lnc222.fcs.csv\",\n",
    "          \"Specimen2_B3_IFT.fcs.csv\",\n",
    "          \"Specimen2_B2_APOL4.fcs.csv\",\n",
    "          \"Specimen2_B1_ASP.fcs.csv\")\n",
    "\n",
    "labels = c(\"Control\",\"LINC02885\",\"LINC00222\",\"IFT81\",\"APOL4\",\"ASPAY\")\n",
    "\n",
    "par(mfrow=c(length(samples)+1,1),mar=c(0,0,0,0))\n",
    "\n",
    "mCherry_min = 1000\n",
    "x=read.csv(samples[1])\n",
    "\n",
    "x$mCherry.A = x$PE.Texas.Red.A\n",
    "x$EGFP.A = x$FITC.A\n",
    "\n",
    "x$EGFP.A[x$EGFP.A<1] = 0 \n",
    "x=x[x$mCherry.A>mCherry_min,]\n",
    "me = median(log10(as.numeric((1+x$EGFP.A)/(1+x$mCherry.A))))\n",
    "\n",
    "for(i in 1:length(samples)){\n",
    "  print(samples[i])\n",
    "  x=read.csv(samples[i])\n",
    "  x$mCherry.A = x$PE.Texas.Red.A\n",
    "  x$EGFP.A = x$FITC.A\n",
    "  x$EGFP.A[x$EGFP.A<1] = 0 \n",
    "  x=x[x$mCherry.A>mCherry_min,]\n",
    "  med = 10^(me - median(log10(as.numeric((1+x$EGFP.A)/(1+x$mCherry.A)))))\n",
    "  den = density(log10(as.numeric((1+x$EGFP.A)/(1+x$mCherry.A)))-me)\n",
    "  print(median(x$mCherry.A))\n",
    "  plot(0,xlim=c(-3.2,0.5),ylim=c(0,2.3),axes=FALSE, ann=FALSE, frame.plot=FALSE,lwd=0,col='blue')\n",
    "  legend(-3.2,2,paste(labels[i],round(med,digits=1),sep=', '),bty='n')\n",
    "  polygon(den, col=rgb(0,0,0,0.5),border=NA)\n",
    "}\n",
    "axis(1,at= -3:1,c(0.001,0.01,0.1,1,10))\n",
    "dev.off()\n",
    "\n",
    "system('gzip *')\n",
    "\n",
    "setwd('../')\n"
   ]
  },
  {
   "cell_type": "code",
   "execution_count": null,
   "id": "289da843-bdac-49dc-8608-964a2f1feb7c",
   "metadata": {},
   "outputs": [],
   "source": []
  }
 ],
 "metadata": {
  "kernelspec": {
   "display_name": "R",
   "language": "R",
   "name": "ir"
  },
  "language_info": {
   "codemirror_mode": "r",
   "file_extension": ".r",
   "mimetype": "text/x-r-source",
   "name": "R",
   "pygments_lexer": "r",
   "version": "4.0.0"
  }
 },
 "nbformat": 4,
 "nbformat_minor": 5
}
