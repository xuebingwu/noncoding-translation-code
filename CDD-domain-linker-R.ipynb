{
 "cells": [
  {
   "cell_type": "code",
   "execution_count": 127,
   "metadata": {},
   "outputs": [],
   "source": []
  },
  {
   "cell_type": "code",
   "execution_count": 2,
   "metadata": {},
   "outputs": [],
   "source": [
    "options(warn=-1)\n",
    "\n",
    "library(Peptides)\n",
    "\n",
    "# a function returning per residue average hydrophobicity for a group of sequences of varying length as well as the number of sequences counted at each position\n",
    "# seqs: a list of sequences\n",
    "# L_max: take the last L_max residues for very long sequences\n",
    "# L_min: only consider sequences at least L_min aa long.\n",
    "# if a sequence is shorter than L_max, fill the beginning with 'x', which will not be used for calculating average hydrophobicity at that position\n",
    "avg_hydrophobicity_per_position <-function(seqs,L_max,L_min,hydrophobicity_scale){\n",
    "  H <- rep(0,L_max) # hydrophobicity at each position\n",
    "  N <- rep(0,L_max) # count of sequence at each position\n",
    "  i=0\n",
    "  for(seq in seqs){\n",
    "    # print progress for every 1000\n",
    "    i=i+1\n",
    "    if (i%%1000==0) {\n",
    "      print(i)\n",
    "    }\n",
    "    \n",
    "    if(nchar(seq) >= L_min){\n",
    "      seq = paste(paste(rep('x',L_max),collapse=''),seq,sep='')\n",
    "      seq = substr(seq,nchar(seq)-L_max+1,nchar(seq))\n",
    "      hi = hydrophobicity(unlist(strsplit(seq,'')),hydrophobicity_scale) \n",
    "      H = H + hi \n",
    "      N = as.numeric(N) + as.numeric(hi!=0)\n",
    "    }\n",
    "  }\n",
    "  H = H/N\n",
    "  return(list(H,N))\n",
    "}\n",
    "\n",
    "# same as above but look at N-term\n",
    "avg_hydrophobicity_per_position_nterm <-function(seqs,L_max,L_min,hydrophobicity_scale){\n",
    "  H <- rep(0,L_max) # hydrophobicity at each position\n",
    "  N <- rep(0,L_max) # count of sequence at each position\n",
    "  i=0\n",
    "  for(seq in seqs){\n",
    "    # print progress for every 1000\n",
    "    i=i+1\n",
    "    if (i%%1000==0) {\n",
    "      print(i)\n",
    "    }\n",
    "    \n",
    "    if(nchar(seq) >= L_min){\n",
    "      seq = paste(seq,paste(rep('x',L_max),collapse=''),sep='') # changed\n",
    "      seq = substr(seq,1,L_max) # changed\n",
    "      hi = hydrophobicity(unlist(strsplit(seq,'')),hydrophobicity_scale) \n",
    "      H = H + hi \n",
    "      N = as.numeric(N) + as.numeric(hi!=0)\n",
    "    }\n",
    "  }\n",
    "  H = H/N\n",
    "  return(list(H,N))\n",
    "}\n",
    "\n"
   ]
  },
  {
   "cell_type": "code",
   "execution_count": 3,
   "metadata": {},
   "outputs": [
    {
     "name": "stdout",
     "output_type": "stream",
     "text": [
      "[1] 1000\n",
      "[1] 2000\n",
      "[1] 3000\n",
      "[1] 4000\n",
      "[1] 5000\n",
      "[1] 6000\n",
      "[1] 7000\n",
      "[1] 8000\n",
      "[1] 9000\n",
      "[1] 10000\n",
      "[1] 11000\n",
      "[1] 12000\n",
      "[1] 13000\n",
      "[1] 14000\n",
      "[1] 15000\n",
      "[1] 16000\n",
      "[1] 17000\n",
      "[1] 18000\n",
      "[1] 19000\n",
      "[1] 20000\n",
      "[1] 21000\n",
      "[1] 22000\n",
      "[1] 23000\n",
      "[1] 24000\n",
      "[1] 25000\n",
      "[1] 26000\n",
      "[1] 27000\n",
      "[1] 28000\n",
      "[1] 29000\n",
      "[1] 30000\n",
      "[1] 31000\n",
      "[1] 32000\n",
      "[1] 33000\n",
      "[1] 34000\n",
      "[1] 35000\n",
      "[1] 36000\n",
      "[1] 37000\n",
      "[1] 38000\n",
      "[1] 39000\n",
      "[1] 1000\n",
      "[1] 2000\n",
      "[1] 3000\n",
      "[1] 4000\n",
      "[1] 5000\n",
      "[1] 6000\n",
      "[1] 7000\n",
      "[1] 8000\n",
      "[1] 9000\n",
      "[1] 10000\n",
      "[1] 11000\n",
      "[1] 12000\n",
      "[1] 13000\n",
      "[1] 14000\n",
      "[1] 15000\n",
      "[1] 16000\n",
      "[1] 17000\n",
      "[1] 18000\n",
      "[1] 19000\n",
      "[1] 20000\n",
      "[1] 21000\n",
      "[1] 22000\n",
      "[1] 23000\n",
      "[1] 24000\n",
      "[1] 25000\n",
      "[1] 26000\n",
      "[1] 27000\n",
      "[1] 28000\n",
      "[1] 29000\n",
      "[1] 30000\n",
      "[1] 31000\n",
      "[1] 32000\n",
      "[1] 33000\n",
      "[1] 34000\n",
      "[1] 35000\n",
      "[1] 36000\n",
      "[1] 37000\n",
      "[1] 38000\n",
      "[1] 39000\n",
      "[1] 1000\n",
      "[1] 2000\n",
      "[1] 3000\n",
      "[1] 4000\n",
      "[1] 5000\n",
      "[1] 6000\n",
      "[1] 7000\n",
      "[1] 8000\n"
     ]
    }
   ],
   "source": [
    "# full protein\n",
    "p=read.table('protein.txt')\n",
    "\n",
    "# linker\n",
    "d=read.table('linkers.txt')\n",
    "\n",
    "# unfolded Cterm\n",
    "f=read.table('unfolded_cterm.txt')\n",
    "\n",
    "L_max=100\n",
    "L_min=100\n",
    "hydrophobicity_scale = 'Miyazawa' \n",
    "\n",
    "CDS_N = avg_hydrophobicity_per_position_nterm(p$V1,L_max,L_min,hydrophobicity_scale)\n",
    "CDS_C = avg_hydrophobicity_per_position(p$V1,L_max,L_min,hydrophobicity_scale)\n",
    "unfold_C = avg_hydrophobicity_per_position(f$V1,L_max,L_min,hydrophobicity_scale)"
   ]
  },
  {
   "cell_type": "code",
   "execution_count": 81,
   "metadata": {},
   "outputs": [
    {
     "data": {
      "text/html": [
       "<strong>null device:</strong> 1"
      ],
      "text/latex": [
       "\\textbf{null device:} 1"
      ],
      "text/markdown": [
       "**null device:** 1"
      ],
      "text/plain": [
       "null device \n",
       "          1 "
      ]
     },
     "metadata": {},
     "output_type": "display_data"
    },
    {
     "data": {
      "text/html": [
       "<strong>null device:</strong> 1"
      ],
      "text/latex": [
       "\\textbf{null device:} 1"
      ],
      "text/markdown": [
       "**null device:** 1"
      ],
      "text/plain": [
       "null device \n",
       "          1 "
      ]
     },
     "metadata": {},
     "output_type": "display_data"
    }
   ],
   "source": [
    "\n",
    "L=100\n",
    "skip_last=3\n",
    "\n",
    "dev.off()\n",
    "\n",
    "pdf(paste('N-term-',hydrophobicity_scale,'.pdf',sep=''),width=3,height=3.5)\n",
    "par(mar=c(4,4,1,1))\n",
    "x=1:L\n",
    "\n",
    "y=CDS_N[[1]][(L_max-L+1):L_max]\n",
    "lo <- loess(y[skip_last:L]~x[skip_last:L])\n",
    "plot(x,y,ylim=c(5,5.7),pch=16,cex=0.5,col='black',bty='n',ylab='\\nAverage hydrophobicity',xlab='Position relative to N-termini\\n')\n",
    "lines(x, predict(lo,x), col='black', lwd=2)\n",
    "\n",
    "dev.off()\n",
    "\n",
    "#y=CDS_C[[1]][(L_max-L+1):L_max]\n",
    "#lo <- loess(y[1:(L-skip_last)]~x[1:(L-skip_last)])\n",
    "#plot(x,y,ylim=ylim,pch=16,cex=0.2,col='black',bty='n',ylab='\\nAverage hydrophobicity',xlab='Position relative to N-termini\\n')\n",
    "#lines(x, predict(lo,x), col='blue', lwd=2)\n"
   ]
  },
  {
   "cell_type": "code",
   "execution_count": 77,
   "metadata": {},
   "outputs": [
    {
     "data": {
      "text/html": [
       "<strong>PNG:</strong> 2"
      ],
      "text/latex": [
       "\\textbf{PNG:} 2"
      ],
      "text/markdown": [
       "**PNG:** 2"
      ],
      "text/plain": [
       "PNG \n",
       "  2 "
      ]
     },
     "metadata": {},
     "output_type": "display_data"
    }
   ],
   "source": [
    "pdf(paste('C-term-unfolded-',hydrophobicity_scale,'.pdf',sep=''),width=3,height=3.5)\n",
    "par(mar=c(4,4,1,1))\n",
    "x=-L:-1\n",
    "y=unfold_C[[1]][(L_max-L+1):L_max]\n",
    "plot(x[1:(L-skip_last)],y[1:(L-skip_last)],ylim=c(5.19,5.36),bty='l',pch=16,cex=0.5,xlab='Position relative to C-termini',ylab='Average hydrophobicity')\n",
    "abline(lm(y[1:(L-skip_last)]~x[1:(L-skip_last)]),lwd=2)\n",
    "ct <- cor.test(y[1:(L-skip_last)],x[1:(L-skip_last)],method='s')\n",
    "#lo <- loess(y[1:(L-skip_last)]~x[1:(L-skip_last)])\n",
    "#lines(x, predict(lo,x), col='blue', lwd=2)\n",
    "legend('topright',bty='n',legend=paste(\"R = \",format(ct$estimate,digits=3),\", P = \",format(ct$p.value,digits=3),sep=''))\n",
    "dev.off()"
   ]
  }
 ],
 "metadata": {
  "kernelspec": {
   "display_name": "R",
   "language": "R",
   "name": "ir"
  },
  "language_info": {
   "codemirror_mode": "r",
   "file_extension": ".r",
   "mimetype": "text/x-r-source",
   "name": "R",
   "pygments_lexer": "r",
   "version": "4.0.0"
  }
 },
 "nbformat": 4,
 "nbformat_minor": 4
}
