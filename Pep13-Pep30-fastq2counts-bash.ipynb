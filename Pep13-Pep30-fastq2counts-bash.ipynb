{
 "cells": [
  {
   "cell_type": "code",
   "execution_count": null,
   "metadata": {},
   "outputs": [],
   "source": [
    "outputFolder=/home/xw2629/noncoding_translation/noncoding-translation-code/U-periodicity\n",
    "\n",
    "fastqFolder=/media/rna/sequencing_data/jordan/Pep30-Pep13-171229_WIGTC-HISEQ3A_CB6NYANXX/QualityScore\n",
    "\n",
    "N90Table=/home/xw2629/noncoding_translation/oligo-pool-design/XuebingWu-12K-120-oligo-pool.txt\n",
    "\n",
    "# P: GFP plus\n",
    "# M: GFP minus\n",
    "# R: RNA\n",
    "# D: DNA\n",
    "\n",
    "fastqFiles=( \"N39P:TTAGGC\"\n",
    "             \"N39M:CTTGTA\"\n",
    "             \"N90P:AGTTCC\"\n",
    "             \"N90M:GAGTGG\"\n",
    "             \"N39D:TGACCA\"\n",
    "             \"N90D:GCCAAT\"\n",
    "             \"N39R:TAGCTT\"\n",
    "             \"N90R:ATCACG\" )\n",
    "\n",
    "\n",
    "if [ ! -d \"$outputFolder\" ]; then\n",
    "        mkdir $outputFolder\n",
    "fi\n",
    "\n",
    "cd $outputFolder\n",
    "\n",
    "\n",
    "\n",
    "for entry in \"${fastqFiles[@]}\" ; do\n",
    "    sample=\"${entry%%:*}\"\n",
    "    file=\"${entry##*:}-s_7_1_sequence.txt.gz\"\n",
    "    echo $sample $file\n",
    "    zcat $fastqFolder/$file | awk 'NR % 4 == 2' | sort | bedtools groupby -g 1 -c 1 -o count > $sample.counts.txt \n",
    "done\n"
   ]
  },
  {
   "cell_type": "code",
   "execution_count": 1,
   "metadata": {},
   "outputs": [
    {
     "name": "stdout",
     "output_type": "stream",
     "text": [
      "N39D.counts.txt\n",
      "N39M.counts.txt\n",
      "N39P.counts.txt\n",
      "N39R.counts.txt\n",
      "  1192652 N39D.counts.txt\n",
      "   996837 N39D.counts.txt.filtered\n",
      "  3736799 N39M.counts.txt\n",
      "  3178572 N39M.counts.txt.filtered\n",
      "  2766054 N39P.counts.txt\n",
      "  2353836 N39P.counts.txt.filtered\n",
      "  3684627 N39R.counts.txt\n",
      "  3160621 N39R.counts.txt.filtered\n",
      " 21069998 total\n"
     ]
    }
   ],
   "source": [
    "# clean up Pep13 sequences\n",
    "# should end with T: read length 40, but only the first 39 are variable\n",
    "# more than 1 read, and contain no N\n",
    "for file in N39?.counts.txt\n",
    "do\n",
    "    echo $file\n",
    "    more $file | grep -v N | grep \"^.\\{39\\}T\" > $file.filtered\n",
    "    #more $file.filtered | awk '{sum+=$2}END{print sum}'\n",
    "done\n",
    "wc -l N39?.counts.txt*"
   ]
  },
  {
   "cell_type": "code",
   "execution_count": 2,
   "metadata": {},
   "outputs": [
    {
     "name": "stdout",
     "output_type": "stream",
     "text": [
      "outputfile = N39.counts.txt\n",
      "col = 1\n",
      "fill = 0\n",
      "N39D.counts.txt.filtered\n",
      "N39R.counts.txt.filtered\n",
      "N39P.counts.txt.filtered\n",
      "N39M.counts.txt.filtered\n",
      "combining files\n",
      "N39D.counts.txt.filtered\n",
      "[Tue Nov 22 18:54:01 2022] 1 columns in all.ids.uniq\n",
      "[Tue Nov 22 18:54:01 2022] 2 columns in N39D.counts.txt.filtered\n",
      "[Tue Nov 22 18:54:06 2022] 996837 lines from N39D.counts.txt.filtered\n",
      "[Tue Nov 22 18:54:46 2022] 8927590 lines from all.ids.uniq\n",
      "[Tue Nov 22 18:54:46 2022] 996837 lines in common \n",
      "N39R.counts.txt.filtered\n",
      "[Tue Nov 22 18:54:48 2022] 2 columns in all.ids.uniq\n",
      "[Tue Nov 22 18:54:48 2022] 2 columns in N39R.counts.txt.filtered\n",
      "[Tue Nov 22 18:55:02 2022] 3160621 lines from N39R.counts.txt.filtered\n",
      "[Tue Nov 22 18:55:49 2022] 8927590 lines from all.ids.uniq\n",
      "[Tue Nov 22 18:55:49 2022] 3160621 lines in common \n",
      "N39P.counts.txt.filtered\n",
      "[Tue Nov 22 18:55:51 2022] 3 columns in all.ids.uniq\n",
      "[Tue Nov 22 18:55:51 2022] 2 columns in N39P.counts.txt.filtered\n",
      "[Tue Nov 22 18:56:02 2022] 2353836 lines from N39P.counts.txt.filtered\n",
      "[Tue Nov 22 18:56:54 2022] 8927590 lines from all.ids.uniq\n",
      "[Tue Nov 22 18:56:54 2022] 2353836 lines in common \n",
      "N39M.counts.txt.filtered\n",
      "[Tue Nov 22 18:56:56 2022] 4 columns in all.ids.uniq\n",
      "[Tue Nov 22 18:56:56 2022] 2 columns in N39M.counts.txt.filtered\n",
      "[Tue Nov 22 18:57:10 2022] 3178572 lines from N39M.counts.txt.filtered\n",
      "[Tue Nov 22 18:58:06 2022] 8927590 lines from all.ids.uniq\n",
      "[Tue Nov 22 18:58:06 2022] 3178572 lines in common \n"
     ]
    }
   ],
   "source": [
    "# merge Pep13 count files\n",
    "intersectMultiTab N39.counts.txt 1 0 N39D.counts.txt.filtered N39R.counts.txt.filtered N39P.counts.txt.filtered N39M.counts.txt.filtered"
   ]
  },
  {
   "cell_type": "code",
   "execution_count": 3,
   "metadata": {},
   "outputs": [
    {
     "name": "stdout",
     "output_type": "stream",
     "text": [
      "head: cannot open 'more' for reading: No such file or directory\n",
      "==> N39.counts.txt <==\n",
      "AAAAAAAAAAAAAAAAAAAAAAAAAATTAAAAAAAAGATT\t0\t1\t0\t0\n",
      "AAAAAAAAAAAAACTTCCCAGAGCCTGGAGTGGTTTGAAT\t0\t0\t1\t0\n",
      "AAAAAAAAAAAACCTTCCTTAGGCCTGACTTGGTTTTTGT\t0\t0\t0\t1\n",
      "AAAAAAAAAAAATTTTCCCCAAGCCTTTTGTGGTTTTTCT\t0\t1\t0\t0\n",
      "AAAAAAAAAAAATTTTTCAACCAACCTTTTTGGGTGTTCT\t0\t0\t0\t1\n",
      "AAAAAAAAAAAATTTTTCTAAAACATTATTGGGTTGTTCT\t0\t0\t0\t1\n",
      "AAAAAAAAAAAATTTTTTTCAAAACCTTTGTTGTTTTTTT\t0\t0\t0\t1\n",
      "AAAAAAAAAAACGTGTGTTTTTTTTTTTTTTCTTTTTTTT\t0\t0\t0\t1\n",
      "AAAAAAAAAAACTCCTTCAAGACCGTTGTCTGATTTTATT\t0\t0\t0\t1\n",
      "AAAAAAAAAAACTCTTCCCAAAACTTTATGAGGGTATTTT\t0\t0\t0\t1\n"
     ]
    },
    {
     "ename": "",
     "evalue": "1",
     "output_type": "error",
     "traceback": []
    }
   ],
   "source": [
    "head more N39.counts.txt "
   ]
  },
  {
   "cell_type": "code",
   "execution_count": 5,
   "metadata": {},
   "outputs": [
    {
     "name": "stdout",
     "output_type": "stream",
     "text": [
      "2353836\n",
      "21020499\n"
     ]
    }
   ],
   "source": [
    "# get some summary statistics\n",
    "\n",
    "# number of unique sequences and total reads in GFP-high \n",
    "more N39.counts.txt | awk '$4>0' | wc -l\n",
    "more N39.counts.txt | awk '$4>0' | awk '{s=s+$4}END{print s}'"
   ]
  },
  {
   "cell_type": "code",
   "execution_count": 6,
   "metadata": {},
   "outputs": [
    {
     "name": "stdout",
     "output_type": "stream",
     "text": [
      "3178572\n",
      "31388971\n"
     ]
    }
   ],
   "source": [
    "# number of unique sequences and total reads in GFP-low \n",
    "more N39.counts.txt | awk '$5>0' | wc -l\n",
    "more N39.counts.txt | awk '$5>0' | awk '{s=s+$5}END{print s}'"
   ]
  },
  {
   "cell_type": "code",
   "execution_count": 10,
   "metadata": {},
   "outputs": [
    {
     "name": "stdout",
     "output_type": "stream",
     "text": [
      "66618\n",
      "5465790\n",
      "41094\n",
      "618477\n"
     ]
    }
   ],
   "source": [
    "# number of unique sequences present in both gfp fractions\n",
    "more N39.counts.txt | awk '$4>0 && $5>0' | wc -l\n",
    "more N39.counts.txt | awk '$4>0 || $5>0' | wc -l\n",
    "\n",
    "more N39.counts.txt | awk '$4>1 && $5>1' | wc -l\n",
    "more N39.counts.txt | awk '$4>1 || $5>1' | wc -l\n"
   ]
  },
  {
   "cell_type": "code",
   "execution_count": 6,
   "metadata": {},
   "outputs": [
    {
     "name": "stdout",
     "output_type": "stream",
     "text": [
      "[Wed Nov 23 14:49:06 2022] 3 columns in tmp\n",
      "[Wed Nov 23 14:49:06 2022] 2 columns in N90D.counts.txt\n",
      "[Wed Nov 23 14:49:12 2022] 1434014 lines from N90D.counts.txt\n",
      "[Wed Nov 23 14:49:12 2022] 12000 lines from tmp\n",
      "[Wed Nov 23 14:49:12 2022] 11018 lines in common \n",
      "[Wed Nov 23 14:49:12 2022] 4 columns in tmp2\n",
      "[Wed Nov 23 14:49:12 2022] 2 columns in N90R.counts.txt\n",
      "[Wed Nov 23 14:49:20 2022] 1637600 lines from N90R.counts.txt\n",
      "[Wed Nov 23 14:49:20 2022] 12000 lines from tmp2\n",
      "[Wed Nov 23 14:49:20 2022] 11419 lines in common \n",
      "[Wed Nov 23 14:49:20 2022] 5 columns in tmp\n",
      "[Wed Nov 23 14:49:20 2022] 2 columns in N90P.counts.txt\n",
      "[Wed Nov 23 14:49:29 2022] 1965593 lines from N90P.counts.txt\n",
      "[Wed Nov 23 14:49:29 2022] 12000 lines from tmp\n",
      "[Wed Nov 23 14:49:29 2022] 10819 lines in common \n",
      "[Wed Nov 23 14:49:29 2022] 6 columns in tmp2\n",
      "[Wed Nov 23 14:49:29 2022] 2 columns in N90M.counts.txt\n",
      "[Wed Nov 23 14:49:35 2022] 1219224 lines from N90M.counts.txt\n",
      "[Wed Nov 23 14:49:35 2022] 12000 lines from tmp2\n",
      "[Wed Nov 23 14:49:35 2022] 8801 lines in common \n"
     ]
    }
   ],
   "source": [
    "# merge Pep30 count files\n",
    "N90Table=/home/xw2629/noncoding_translation/old-data/oligo-pool-design/XuebingWu-12K-120-oligo-pool.txt\n",
    "\n",
    "cat $N90Table | awk '{print substr($2,16,40)\"\\t\"$0}' > tmp\n",
    "\n",
    "intersectTab -f1 tmp -f2 N90D.counts.txt -merge -o tmp2 -fill 0\n",
    "intersectTab -f1 tmp2 -f2 N90R.counts.txt -merge -o tmp -fill 0\n",
    "intersectTab -f1 tmp -f2 N90P.counts.txt -merge -o tmp2 -fill 0\n",
    "intersectTab -f1 tmp2 -f2 N90M.counts.txt -merge -o tmp -fill 0\n"
   ]
  },
  {
   "cell_type": "code",
   "execution_count": null,
   "metadata": {},
   "outputs": [],
   "source": []
  },
  {
   "cell_type": "code",
   "execution_count": 8,
   "metadata": {},
   "outputs": [],
   "source": [
    "cut -f 3- tmp | sed 's/TACTGCGGCCGCTAC//g' | sed 's/TGACTAGCTGACCTG//g' | awk '{print toupper($0)}'> Pep30.counts.txt\n"
   ]
  },
  {
   "cell_type": "code",
   "execution_count": 9,
   "metadata": {},
   "outputs": [
    {
     "name": "stdout",
     "output_type": "stream",
     "text": [
      "CTGCTCAGAAAGTTTGCCACCTCATGGGAATTAATGTGACAGATTTCACCAGATCCATCCTCACTCCTCGTATCAAGGTTGGGCGAGATG\t147\t501\t223\t0\n",
      "CACACACAAAAGACATGCCATTTACATGCGAAACCTGTGGAAAATCATTCAAACGCAGTATGTCACTCAAGGTGCACTCCTTGCAGCATT\t1263\t1339\t870\t1077\n",
      "GATGGAAGGTTAACATTTCATCCAGGAAGTCAGGTAGTGAAACTTCCTTTTATCAACTTTATGAAGACACGTGGGACTTCCTTTCTGAAT\t509\t822\t401\t316\n",
      "GTGGGACAATCCTTCATCCCATCATCGGTGCCTGCAACCTTTGCTCCTTCACCTACACCTGCTGTGGTCAGCAGTGGACTGAATGACCTG\t263\t414\t1175\t1\n",
      "GTCCCCAAAGTCTCTGACCAGGCTTTGGTTTCTGCCCACTCAGAGTGGCAGCGGAAGCTGGAGGCCGCTGAGGCTCTGCTGACTCTGAGA\t215\t556\t259\t181\n",
      "GTTGAAATCGGCTCGAGATGTTGTATCTAGGACTGGTCATTCATTGGCTCTTGGTTGTTTGCATCGTTATGTTGGTGGAATAGGCTCAGG\t2589\t3821\t3803\t258\n",
      "GTACATGGGACAGTAGGAGAACCTTGGTGGATTTGGGTAGAAGATCCTACAAATGATCATATTTATCATTCAGAGTATTTTCTAGCTCTA\t228\t425\t148\t1154\n",
      "GCTGGAGAGCTGCGGTGTGACATCAGACAACTGCCGGGACCTGTGCGGCATTGTGGCCTCCAAGGCCTCGCTGCGGGAGCTGGCCCTGGG\t1362\t1591\t1806\t329\n",
      "AACTTAAACCAGTCAGTAGCCCATGACTGGACATCAGGTTTACAAAGGCTTATTTTGAAGAAAGAAGATGAAATCAGAGCTGCGGACTGC\t146\t666\t1408\t2\n",
      "GCCTCCCGAGGAGCCCAGACAGCTGCAGCCACAGCTCCCCGTATCAAGAAATTTGCCATCTATCGATGGGACCCAGACAAGGCTGGAGAC\t102\t269\t399\t17\n"
     ]
    }
   ],
   "source": [
    "head Pep30.counts.txt"
   ]
  },
  {
   "cell_type": "code",
   "execution_count": 11,
   "metadata": {},
   "outputs": [
    {
     "name": "stdout",
     "output_type": "stream",
     "text": [
      "rm: cannot remove 'tmp*': No such file or directory\n"
     ]
    },
    {
     "ename": "",
     "evalue": "1",
     "output_type": "error",
     "traceback": []
    }
   ],
   "source": [
    "rm tmp* all.ids"
   ]
  },
  {
   "cell_type": "code",
   "execution_count": null,
   "metadata": {},
   "outputs": [],
   "source": []
  }
 ],
 "metadata": {
  "kernelspec": {
   "display_name": "Bash",
   "language": "bash",
   "name": "bash"
  },
  "language_info": {
   "codemirror_mode": "shell",
   "file_extension": ".sh",
   "mimetype": "text/x-sh",
   "name": "bash"
  }
 },
 "nbformat": 4,
 "nbformat_minor": 4
}
