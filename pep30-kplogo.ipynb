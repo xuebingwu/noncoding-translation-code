{
 "cells": [
  {
   "cell_type": "markdown",
   "metadata": {},
   "source": [
    "# bash notebook to perform kplogo analysis on pep30 nucleotide sequences \n"
   ]
  },
  {
   "cell_type": "code",
   "execution_count": 29,
   "metadata": {},
   "outputs": [
    {
     "name": "stdout",
     "output_type": "stream",
     "text": [
      "10434 Pep30.sorted.by.low.expression.txt\n"
     ]
    }
   ],
   "source": [
    "more Pep30.counts.txt | awk ' $5+$4>100' | awk '{print $1\"\\t\"log((1+$5)/(1+$4))}' | sort -nrk 2 | sed 's/T/U/g' > Pep30.sorted.by.low.expression.txt\n",
    "wc -l Pep30.sorted.by.low.expression.txt"
   ]
  },
  {
   "cell_type": "code",
   "execution_count": 27,
   "metadata": {},
   "outputs": [
    {
     "name": "stdout",
     "output_type": "stream",
     "text": [
      "[Fri Nov 25 22:39:12 2022] Summary: \n",
      "[Fri Nov 25 22:39:12 2022]    Input       :   Pep30.sorted.by.low.expression.txt\n",
      "[Fri Nov 25 22:39:12 2022]    Background  :   local\n",
      "[Fri Nov 25 22:39:12 2022]    Output      :   kpLogo.*\n",
      "[Fri Nov 25 22:39:12 2022]    alphabet    :   ACGT\n",
      "[Fri Nov 25 22:39:12 2022]    min_kmer    :   1\n",
      "[Fri Nov 25 22:39:12 2022]    max_kmer    :   1\n",
      "[Fri Nov 25 22:39:12 2022]    min_shift   :   0\n",
      "[Fri Nov 25 22:39:12 2022]    max_shift   :   0\n",
      "[Fri Nov 25 22:39:12 2022]    p           :   1.010000\n",
      "[Fri Nov 25 22:39:12 2022]    start at    :   1\n",
      "[Fri Nov 25 22:39:12 2022] 10434 sequences loaded from Pep30.sorted.by.low.expression.txt\n",
      "[Fri Nov 25 22:39:12 2022] making frequency logo...\n",
      "convert-im6.q16: attempt to perform an operation not allowed by the security policy `PS' @ error/constitute.c/IsCoderAuthorized/408.\n",
      "convert-im6.q16: no images defined `kpLogo.freq.png' @ error/convert.c/ConvertImageCommand/3258.\n",
      "[Fri Nov 25 22:39:13 2022] making information content logo...\n",
      "convert-im6.q16: attempt to perform an operation not allowed by the security policy `PS' @ error/constitute.c/IsCoderAuthorized/408.\n",
      "convert-im6.q16: no images defined `kpLogo.info.png' @ error/convert.c/ConvertImageCommand/3258.\n",
      "[Fri Nov 25 22:39:13 2022] 4 exact kmers to be tested\n",
      "[Fri Nov 25 22:39:13 2022] 360 tests (kmer x position x shifts) will be performed\n",
      "[Fri Nov 25 22:39:13 2022] 360 positional kmers with p <1.010000\n",
      "[Fri Nov 25 22:39:13 2022] plotting the most significant kmer at each position...\n",
      "[Fri Nov 25 22:39:13 2022] plotting single nucleotide profile...\n",
      "[Fri Nov 25 22:39:13 2022] alphabet=ACGT\n",
      "convert-im6.q16: attempt to perform an operation not allowed by the security policy `PS' @ error/constitute.c/IsCoderAuthorized/408.\n",
      "convert-im6.q16: no images defined `kpLogo.png' @ error/convert.c/ConvertImageCommand/3258.\n",
      "convert-im6.q16: attempt to perform an operation not allowed by the security policy `PS' @ error/constitute.c/IsCoderAuthorized/408.\n",
      "convert-im6.q16: no images defined `kpLogo.most.significant.each.position.png' @ error/convert.c/ConvertImageCommand/3258.\n",
      "[Fri Nov 25 22:39:14 2022] Done!\n"
     ]
    }
   ],
   "source": [
    "\n",
    "kpLogo Pep30.sorted.by.low.expression.txt -ranked -k 1 "
   ]
  },
  {
   "cell_type": "code",
   "execution_count": 28,
   "metadata": {},
   "outputs": [],
   "source": [
    "mv kpLogo.pwm.txt Pep30.kpLogo.pwm.txt\n",
    "rm kpLogo.*"
   ]
  },
  {
   "cell_type": "code",
   "execution_count": 21,
   "metadata": {},
   "outputs": [],
   "source": [
    "more Pep30-translated.txt | awk '$3==30 && $6+$7>100' | awk '{print $1\"\\t\"log((1+$7)/(1+$6))}' | sort -nrk 2 | sed 's/T/U/g' > Pep30.fulllen.sorted.by.low.expression.txt"
   ]
  },
  {
   "cell_type": "code",
   "execution_count": 22,
   "metadata": {},
   "outputs": [
    {
     "name": "stdout",
     "output_type": "stream",
     "text": [
      "  4762   9524 473524 Pep30.fulllen.sorted.by.low.expression.txt\n"
     ]
    }
   ],
   "source": [
    "wc Pep30.fulllen.sorted.by.low.expression.txt "
   ]
  },
  {
   "cell_type": "code",
   "execution_count": 25,
   "metadata": {},
   "outputs": [
    {
     "name": "stdout",
     "output_type": "stream",
     "text": [
      "[Fri Nov 25 22:28:45 2022] Summary: \n",
      "[Fri Nov 25 22:28:45 2022]    Input       :   Pep30.fulllen.sorted.by.low.expression.txt\n",
      "[Fri Nov 25 22:28:45 2022]    Background  :   local\n",
      "[Fri Nov 25 22:28:45 2022]    Output      :   kpLogo.*\n",
      "[Fri Nov 25 22:28:45 2022]    alphabet    :   ACGT\n",
      "[Fri Nov 25 22:28:45 2022]    min_kmer    :   1\n",
      "[Fri Nov 25 22:28:45 2022]    max_kmer    :   1\n",
      "[Fri Nov 25 22:28:45 2022]    min_shift   :   0\n",
      "[Fri Nov 25 22:28:45 2022]    max_shift   :   0\n",
      "[Fri Nov 25 22:28:45 2022]    p           :   1.010000\n",
      "[Fri Nov 25 22:28:45 2022]    start at    :   1\n",
      "[Fri Nov 25 22:28:45 2022] 4762 sequences loaded from Pep30.fulllen.sorted.by.low.expression.txt\n",
      "[Fri Nov 25 22:28:45 2022] making frequency logo...\n",
      "convert-im6.q16: attempt to perform an operation not allowed by the security policy `PS' @ error/constitute.c/IsCoderAuthorized/408.\n",
      "convert-im6.q16: no images defined `kpLogo.freq.png' @ error/convert.c/ConvertImageCommand/3258.\n",
      "[Fri Nov 25 22:28:45 2022] making information content logo...\n",
      "convert-im6.q16: attempt to perform an operation not allowed by the security policy `PS' @ error/constitute.c/IsCoderAuthorized/408.\n",
      "convert-im6.q16: no images defined `kpLogo.info.png' @ error/convert.c/ConvertImageCommand/3258.\n",
      "[Fri Nov 25 22:28:45 2022] 4 exact kmers to be tested\n",
      "[Fri Nov 25 22:28:45 2022] 360 tests (kmer x position x shifts) will be performed\n",
      "[Fri Nov 25 22:28:45 2022] 360 positional kmers with p <1.010000\n",
      "[Fri Nov 25 22:28:45 2022] plotting the most significant kmer at each position...\n",
      "[Fri Nov 25 22:28:45 2022] plotting single nucleotide profile...\n",
      "[Fri Nov 25 22:28:45 2022] alphabet=ACGT\n",
      "convert-im6.q16: attempt to perform an operation not allowed by the security policy `PS' @ error/constitute.c/IsCoderAuthorized/408.\n",
      "convert-im6.q16: no images defined `kpLogo.png' @ error/convert.c/ConvertImageCommand/3258.\n",
      "convert-im6.q16: attempt to perform an operation not allowed by the security policy `PS' @ error/constitute.c/IsCoderAuthorized/408.\n",
      "convert-im6.q16: no images defined `kpLogo.most.significant.each.position.png' @ error/convert.c/ConvertImageCommand/3258.\n",
      "[Fri Nov 25 22:28:46 2022] Done!\n"
     ]
    }
   ],
   "source": [
    "kpLogo Pep30.fulllen.sorted.by.low.expression.txt -ranked -k 1 "
   ]
  },
  {
   "cell_type": "code",
   "execution_count": 24,
   "metadata": {},
   "outputs": [],
   "source": [
    "mv kpLogo.pwm.txt Pep30.fulllen.kpLogo.pwm.txt\n",
    "rm kpLogo.*"
   ]
  },
  {
   "cell_type": "code",
   "execution_count": null,
   "metadata": {},
   "outputs": [],
   "source": []
  }
 ],
 "metadata": {
  "kernelspec": {
   "display_name": "Bash",
   "language": "bash",
   "name": "bash"
  },
  "language_info": {
   "codemirror_mode": "shell",
   "file_extension": ".sh",
   "mimetype": "text/x-sh",
   "name": "bash"
  }
 },
 "nbformat": 4,
 "nbformat_minor": 4
}
