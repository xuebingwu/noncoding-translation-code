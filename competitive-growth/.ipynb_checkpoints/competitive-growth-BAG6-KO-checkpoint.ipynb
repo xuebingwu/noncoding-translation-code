{
 "cells": [
  {
   "cell_type": "code",
   "execution_count": 1,
   "metadata": {
    "collapsed": true,
    "jupyter": {
     "outputs_hidden": true
    }
   },
   "outputs": [
    {
     "name": "stderr",
     "output_type": "stream",
     "text": [
      "Bioconductor version '3.12' is out-of-date; the current release version '3.15'\n",
      "  is available with R version '4.2'; see https://bioconductor.org/install\n",
      "\n",
      "'getOption(\"repos\")' replaces Bioconductor standard repositories, see\n",
      "'?repositories' for details\n",
      "\n",
      "replacement repositories:\n",
      "    CRAN: https://cran.r-project.org\n",
      "\n",
      "\n",
      "Bioconductor version 3.12 (BiocManager 1.30.18), R 4.0.0 (2020-04-24)\n",
      "\n",
      "Warning message:\n",
      "“package(s) not installed when version(s) same as current; use `force = TRUE` to\n",
      "  re-install: 'sangerseqR'”\n",
      "Installation paths not writeable, unable to update packages\n",
      "  path: /usr/local/lib/R/library\n",
      "  packages:\n",
      "    boot, bslib, callr, class, cli, cluster, codetools, commonmark, cpp11,\n",
      "    crayon, curl, data.table, desc, digest, dplyr, enrichR, evaluate, farver,\n",
      "    fontawesome, foreign, future, future.apply, generics, ggridges, globals,\n",
      "    gtable, gtools, hdf5r, htmltools, httpuv, httr, ica, igraph, irlba,\n",
      "    isoband, jsonlite, kernlab, KernSmooth, lattice, leiden, lifecycle, MASS,\n",
      "    Matrix, MatrixModels, mgcv, mnormt, multcomp, nlme, nnet, openssl,\n",
      "    parallelly, patchwork, pillar, pkgload, polyclip, processx, progressr, ps,\n",
      "    purrr, quantreg, rbibutils, Rcpp, RcppArmadillo, Rdpack, reticulate, rpart,\n",
      "    rstudioapi, sandwich, sass, scales, sctransform, segmented, shiny, sn, sp,\n",
      "    spatial, spatstat.data, spatstat.sparse, spatstat.utils, stringi, stringr,\n",
      "    survival, sys, testthat, tibble, tidyr, tidyselect, uwot, vctrs, VGAM,\n",
      "    viridisLite, yaml, zoo\n",
      "  path: /usr/local/lib/R/site-library\n",
      "  packages:\n",
      "    brew, gert, gh, gitcreds, rlang, rmarkdown, tinytex, xfun, zip\n",
      "\n",
      "Installing package into ‘/home/xw2629/R/x86_64-pc-linux-gnu-library/4.0’\n",
      "(as ‘lib’ is unspecified)\n",
      "\n",
      "Loading required package: BiocGenerics\n",
      "\n",
      "Loading required package: parallel\n",
      "\n",
      "\n",
      "Attaching package: ‘BiocGenerics’\n",
      "\n",
      "\n",
      "The following objects are masked from ‘package:parallel’:\n",
      "\n",
      "    clusterApply, clusterApplyLB, clusterCall, clusterEvalQ,\n",
      "    clusterExport, clusterMap, parApply, parCapply, parLapply,\n",
      "    parLapplyLB, parRapply, parSapply, parSapplyLB\n",
      "\n",
      "\n",
      "The following objects are masked from ‘package:stats’:\n",
      "\n",
      "    IQR, mad, sd, var, xtabs\n",
      "\n",
      "\n",
      "The following objects are masked from ‘package:base’:\n",
      "\n",
      "    anyDuplicated, append, as.data.frame, basename, cbind, colnames,\n",
      "    dirname, do.call, duplicated, eval, evalq, Filter, Find, get, grep,\n",
      "    grepl, intersect, is.unsorted, lapply, Map, mapply, match, mget,\n",
      "    order, paste, pmax, pmax.int, pmin, pmin.int, Position, rank,\n",
      "    rbind, Reduce, rownames, sapply, setdiff, sort, table, tapply,\n",
      "    union, unique, unsplit, which.max, which.min\n",
      "\n",
      "\n",
      "Loading required package: S4Vectors\n",
      "\n",
      "Loading required package: stats4\n",
      "\n",
      "\n",
      "Attaching package: ‘S4Vectors’\n",
      "\n",
      "\n",
      "The following object is masked from ‘package:base’:\n",
      "\n",
      "    expand.grid\n",
      "\n",
      "\n",
      "Loading required package: IRanges\n",
      "\n",
      "Loading required package: XVector\n",
      "\n",
      "\n",
      "Attaching package: ‘Biostrings’\n",
      "\n",
      "\n",
      "The following object is masked from ‘package:base’:\n",
      "\n",
      "    strsplit\n",
      "\n",
      "\n"
     ]
    }
   ],
   "source": [
    "# install required R packages\n",
    "\n",
    "if (!require(\"BiocManager\", quietly = TRUE))\n",
    "    install.packages(\"BiocManager\")\n",
    "\n",
    "BiocManager::install(\"sangerseqR\")\n",
    "\n",
    "# also need Biostrings and nnls\n",
    "install.packages('nnls')\n",
    "\n",
    "# custom R functions for decomposition of a sanger sequencing trace\n",
    "source('./SangerSeq.r')\n"
   ]
  },
  {
   "cell_type": "code",
   "execution_count": 5,
   "metadata": {
    "collapsed": true,
    "jupyter": {
     "outputs_hidden": true
    }
   },
   "outputs": [
    {
     "name": "stderr",
     "output_type": "stream",
     "text": [
      "Warning message in Rsq * 100 * (NNFIT$x/sum(NNFIT$x)):\n",
      "“Recycling array of length 1 in array-vector arithmetic is deprecated.\n",
      "  Use c() or as.vector() instead.\n",
      "”\n"
     ]
    },
    {
     "data": {
      "text/plain": [
       "$name\n",
       "[1] \"./BAG6-competitive-growth-sanger-files/204A_003_3_ss-sgBAG6-2-F_C01.ab1\"\n",
       "\n",
       "$Perc\n",
       "                                                                        percentage\n",
       "./BAG6-competitive-growth-sanger-files/204A_001_1_ss-sgBAG6-2-F_A01.ab1       62.0\n",
       "./BAG6-competitive-growth-sanger-files/204A_002_2_ss-sgBAG6-2-F_B01.ab1       33.7\n",
       "                                                                        pvalue\n",
       "./BAG6-competitive-growth-sanger-files/204A_001_1_ss-sgBAG6-2-F_A01.ab1      0\n",
       "./BAG6-competitive-growth-sanger-files/204A_002_2_ss-sgBAG6-2-F_B01.ab1      0\n",
       "\n",
       "$pv\n",
       "peak_height_as_vector peak_height_as_vector \n",
       "                    0                     0 \n",
       "\n",
       "$NNFIT\n",
       "Nonnegative least squares model\n",
       "x estimates: 0.8012026 0.4352658 \n",
       "residual sum-of-squares: 2182295\n",
       "reason terminated: The solution has been computed sucessfully.\n",
       "\n",
       "$R2\n",
       "          [,1]\n",
       "[1,] 0.9571859\n"
      ]
     },
     "metadata": {},
     "output_type": "display_data"
    }
   ],
   "source": [
    "# test a single file for decomposition\n",
    "\n",
    "# a folder containing all *.ab1 files\n",
    "sanger_folder='./BAG6-competitive-growth-sanger-files/'\n",
    "\n",
    "# pure wt trace and ko trace\n",
    "wt_file='204A_001_1_ss-sgBAG6-2-F_A01.ab1'\n",
    "ko_file='204A_002_2_ss-sgBAG6-2-F_B01.ab1'\n",
    "\n",
    "wt_file = paste(sanger_folder,wt_file,sep='')\n",
    "ko_file = paste(sanger_folder,ko_file,sep='')\n",
    "\n",
    "# a sample with both wt and ko cells for decomposition\n",
    "mix_file=\"204A_003_3_ss-sgBAG6-2-F_C01.ab1\"\n",
    "mix_file=paste(sanger_folder,mix_file,sep='')\n",
    "\n",
    "# decomposition\n",
    "# decomposition(component_files_list,mixture_file,anchor_sequence,lenth)\n",
    "# - component_files_list: a list of trace file names, each contain a purified component, such as wt and ko\n",
    "# - mixture_file: a trace file comtaining the mixture of the components\n",
    "# - anchor_sequence: a sequence upstream of the regions that are different among components\n",
    "# - length: the length of sequences after the anchor sequence, to be used for decomposition\n",
    "decomposition(c(wt_file,ko_file),mix_file,'TGATAGTACCAGTACCGCT',100);\n"
   ]
  },
  {
   "cell_type": "code",
   "execution_count": 15,
   "metadata": {
    "collapsed": true,
    "jupyter": {
     "outputs_hidden": true
    }
   },
   "outputs": [
    {
     "name": "stdout",
     "output_type": "stream",
     "text": [
      "[1] \"204A_001_1_ss-sgBAG6-2-F_A01.ab1\"\n"
     ]
    },
    {
     "name": "stderr",
     "output_type": "stream",
     "text": [
      "Warning message in Rsq * 100 * (NNFIT$x/sum(NNFIT$x)):\n",
      "“Recycling array of length 1 in array-vector arithmetic is deprecated.\n",
      "  Use c() or as.vector() instead.\n",
      "”\n"
     ]
    },
    {
     "name": "stdout",
     "output_type": "stream",
     "text": [
      "[1] 100   0\n",
      "[1] \"204A_002_2_ss-sgBAG6-2-F_B01.ab1\"\n"
     ]
    },
    {
     "name": "stderr",
     "output_type": "stream",
     "text": [
      "Warning message in Rsq * 100 * (NNFIT$x/sum(NNFIT$x)):\n",
      "“Recycling array of length 1 in array-vector arithmetic is deprecated.\n",
      "  Use c() or as.vector() instead.\n",
      "”\n"
     ]
    },
    {
     "name": "stdout",
     "output_type": "stream",
     "text": [
      "[1]   0 100\n",
      "[1] \"204A_003_3_ss-sgBAG6-2-F_C01.ab1\"\n"
     ]
    },
    {
     "name": "stderr",
     "output_type": "stream",
     "text": [
      "Warning message in Rsq * 100 * (NNFIT$x/sum(NNFIT$x)):\n",
      "“Recycling array of length 1 in array-vector arithmetic is deprecated.\n",
      "  Use c() or as.vector() instead.\n",
      "”\n"
     ]
    },
    {
     "name": "stdout",
     "output_type": "stream",
     "text": [
      "[1] 62.0 33.7\n",
      "[1] \"204A_004_4_ss-sgBAG6-2-F_D01.ab1\"\n"
     ]
    },
    {
     "name": "stderr",
     "output_type": "stream",
     "text": [
      "Warning message in Rsq * 100 * (NNFIT$x/sum(NNFIT$x)):\n",
      "“Recycling array of length 1 in array-vector arithmetic is deprecated.\n",
      "  Use c() or as.vector() instead.\n",
      "”\n"
     ]
    },
    {
     "name": "stdout",
     "output_type": "stream",
     "text": [
      "[1] 64.1 32.6\n",
      "[1] \"204A_005_5_ss-sgBAG6-2-F_E01.ab1\"\n"
     ]
    },
    {
     "name": "stderr",
     "output_type": "stream",
     "text": [
      "Warning message in Rsq * 100 * (NNFIT$x/sum(NNFIT$x)):\n",
      "“Recycling array of length 1 in array-vector arithmetic is deprecated.\n",
      "  Use c() or as.vector() instead.\n",
      "”\n"
     ]
    },
    {
     "name": "stdout",
     "output_type": "stream",
     "text": [
      "[1] 62.1 33.2\n",
      "[1] \"204A_006_6_ss-sgBAG6-2-F_F01.ab1\"\n"
     ]
    },
    {
     "name": "stderr",
     "output_type": "stream",
     "text": [
      "Warning message in Rsq * 100 * (NNFIT$x/sum(NNFIT$x)):\n",
      "“Recycling array of length 1 in array-vector arithmetic is deprecated.\n",
      "  Use c() or as.vector() instead.\n",
      "”\n"
     ]
    },
    {
     "name": "stdout",
     "output_type": "stream",
     "text": [
      "[1] 63.7 32.6\n",
      "[1] \"204A_007_7_ss-sgBAG6-2-F_G01.ab1\"\n"
     ]
    },
    {
     "name": "stderr",
     "output_type": "stream",
     "text": [
      "Warning message in Rsq * 100 * (NNFIT$x/sum(NNFIT$x)):\n",
      "“Recycling array of length 1 in array-vector arithmetic is deprecated.\n",
      "  Use c() or as.vector() instead.\n",
      "”\n"
     ]
    },
    {
     "name": "stdout",
     "output_type": "stream",
     "text": [
      "[1] 81.2 16.6\n",
      "[1] \"204A_008_8_ss-sgBAG6-2-F_H01.ab1\"\n"
     ]
    },
    {
     "name": "stderr",
     "output_type": "stream",
     "text": [
      "Warning message in Rsq * 100 * (NNFIT$x/sum(NNFIT$x)):\n",
      "“Recycling array of length 1 in array-vector arithmetic is deprecated.\n",
      "  Use c() or as.vector() instead.\n",
      "”\n"
     ]
    },
    {
     "name": "stdout",
     "output_type": "stream",
     "text": [
      "[1] 82.8 14.1\n",
      "[1] \"204A_009_9_ss-sgBAG6-2-F_A02.ab1\"\n"
     ]
    },
    {
     "name": "stderr",
     "output_type": "stream",
     "text": [
      "Warning message in Rsq * 100 * (NNFIT$x/sum(NNFIT$x)):\n",
      "“Recycling array of length 1 in array-vector arithmetic is deprecated.\n",
      "  Use c() or as.vector() instead.\n",
      "”\n"
     ]
    },
    {
     "name": "stdout",
     "output_type": "stream",
     "text": [
      "[1] 82.7 15.0\n",
      "[1] \"206A_001_day5r1_ss-sgBAG6-2-F_B01.ab1\"\n"
     ]
    },
    {
     "name": "stderr",
     "output_type": "stream",
     "text": [
      "Warning message in Rsq * 100 * (NNFIT$x/sum(NNFIT$x)):\n",
      "“Recycling array of length 1 in array-vector arithmetic is deprecated.\n",
      "  Use c() or as.vector() instead.\n",
      "”\n"
     ]
    },
    {
     "name": "stdout",
     "output_type": "stream",
     "text": [
      "[1] 67.1 30.0\n",
      "[1] \"206A_002_day5r2_ss-sgBAG6-2-F_C01.ab1\"\n"
     ]
    },
    {
     "name": "stderr",
     "output_type": "stream",
     "text": [
      "Warning message in Rsq * 100 * (NNFIT$x/sum(NNFIT$x)):\n",
      "“Recycling array of length 1 in array-vector arithmetic is deprecated.\n",
      "  Use c() or as.vector() instead.\n",
      "”\n"
     ]
    },
    {
     "name": "stdout",
     "output_type": "stream",
     "text": [
      "[1] 64.0 27.7\n",
      "[1] \"206A_003_day5r3_ss-sgBAG6-2-F_D01.ab1\"\n"
     ]
    },
    {
     "name": "stderr",
     "output_type": "stream",
     "text": [
      "Warning message in Rsq * 100 * (NNFIT$x/sum(NNFIT$x)):\n",
      "“Recycling array of length 1 in array-vector arithmetic is deprecated.\n",
      "  Use c() or as.vector() instead.\n",
      "”\n"
     ]
    },
    {
     "name": "stdout",
     "output_type": "stream",
     "text": [
      "[1] 66.6 30.3\n",
      "[1] \"206A_004_day8r1_ss-sgBAG6-2-F_E01.ab1\"\n"
     ]
    },
    {
     "name": "stderr",
     "output_type": "stream",
     "text": [
      "Warning message in Rsq * 100 * (NNFIT$x/sum(NNFIT$x)):\n",
      "“Recycling array of length 1 in array-vector arithmetic is deprecated.\n",
      "  Use c() or as.vector() instead.\n",
      "”\n"
     ]
    },
    {
     "name": "stdout",
     "output_type": "stream",
     "text": [
      "[1] 73.1 24.9\n",
      "[1] \"206A_005_day8r2_ss-sgBAG6-2-F_G01.ab1\"\n"
     ]
    },
    {
     "name": "stderr",
     "output_type": "stream",
     "text": [
      "Warning message in Rsq * 100 * (NNFIT$x/sum(NNFIT$x)):\n",
      "“Recycling array of length 1 in array-vector arithmetic is deprecated.\n",
      "  Use c() or as.vector() instead.\n",
      "”\n"
     ]
    },
    {
     "name": "stdout",
     "output_type": "stream",
     "text": [
      "[1] 71.5 24.6\n",
      "[1] \"206A_006_day8r3_ss-sgBAG6-2-F_H01.ab1\"\n",
      "[1] \"no end_of_common_seq found in:  ACAAACTACATAATAGGTCTGAGCACAAGGTTTACTATAGATCGGTTTCGGAGTGATTTTTTTATTTCTTAGGTAGCACTTACATCTGCTGGTCTTCTCATAGTCAGTCGCCAGGGGCTTGGCAAAGGTGTACGAGGTCCGCCCACTGCTCCGGAAATGCTTGCCATTTCCAGTGATGTTACTCCCCTTACCGGTACCGATGATGGTTTTGTCGTTGGGGCACTTCATCCTTGACCTGCATCACTCCGTCTCGGTAAGTGATCGTTTCCTACTGGACTGTCATCAAGGAAATCAATCACCTTTCCTGTTCCTCTCTGTTGAAGTGGTTTTCCTCTTATGAGTTGCGGTGGAAACGCCAGGGATGCAACTTCTTCTAACTGTATTGCGTTAAGGTT \\n end_of_common_seq: TGATAGTACCAGTACCGCT\"\n",
      "NULL\n",
      "[1] \"206A_007_day11r1_ss-sgBAG6-2-F_A02.ab1\"\n"
     ]
    },
    {
     "name": "stderr",
     "output_type": "stream",
     "text": [
      "Warning message in Rsq * 100 * (NNFIT$x/sum(NNFIT$x)):\n",
      "“Recycling array of length 1 in array-vector arithmetic is deprecated.\n",
      "  Use c() or as.vector() instead.\n",
      "”\n"
     ]
    },
    {
     "name": "stdout",
     "output_type": "stream",
     "text": [
      "[1] 79.3 19.4\n",
      "[1] \"206A_008_day11r2_ss-sgBAG6-2-F_B02.ab1\"\n"
     ]
    },
    {
     "name": "stderr",
     "output_type": "stream",
     "text": [
      "Warning message in Rsq * 100 * (NNFIT$x/sum(NNFIT$x)):\n",
      "“Recycling array of length 1 in array-vector arithmetic is deprecated.\n",
      "  Use c() or as.vector() instead.\n",
      "”\n"
     ]
    },
    {
     "name": "stdout",
     "output_type": "stream",
     "text": [
      "[1] 80.5 18.1\n",
      "[1] \"206A_009_day11r3_ss-sgBAG6-2-F_C02.ab1\"\n"
     ]
    },
    {
     "name": "stderr",
     "output_type": "stream",
     "text": [
      "Warning message in Rsq * 100 * (NNFIT$x/sum(NNFIT$x)):\n",
      "“Recycling array of length 1 in array-vector arithmetic is deprecated.\n",
      "  Use c() or as.vector() instead.\n",
      "”\n"
     ]
    },
    {
     "name": "stdout",
     "output_type": "stream",
     "text": [
      "[1] 80.9 17.4\n"
     ]
    }
   ],
   "source": [
    "# decompose all samples, and save percentage of wt and ko in the matrix perc\n",
    "\n",
    "perc = c()\n",
    "\n",
    "for (file in list.files(sanger_folder,pattern=\".ab1$\") ){\n",
    "    print(file)\n",
    "    mix_file=paste(sanger_folder,file,sep='')\n",
    "    #print(mix_file)\n",
    "    #if (mix_file != wt_file && mix_file != ko_file){\n",
    "        res = decomposition(c(wt_file,ko_file),mix_file,'TGATAGTACCAGTACCGCT',100);\n",
    "        print(res$Perc$percentage)\n",
    "        if(is.null(res$Perc)){\n",
    "            # some times the sanger trace is noisy, no anchor sequence found, return NULL\n",
    "            perc=rbind(perc,c(NA,NA))\n",
    "        } else {\n",
    "            if (sum(res$Perc$percentage) < 80) {\n",
    "                # anchor sequence found, but >20% variation cannot be explained. usually because low quality of trace\n",
    "                perc=rbind(perc,c(NA,NA))\n",
    "            } else\n",
    "                {\n",
    "                perc=rbind(perc,res$Perc$percentage)\n",
    "            }\n",
    "        }\n",
    "}\n"
   ]
  },
  {
   "cell_type": "code",
   "execution_count": 27,
   "metadata": {},
   "outputs": [],
   "source": [
    "# make plots\n",
    "\n",
    "# get estimates of %WT and %KO in each samples into a matrix\n",
    "d = cbind(matrix(perc[4:nrow(perc),1], nrow = 5, byrow = TRUE),matrix(perc[4:nrow(perc),2], nrow = 5, byrow = TRUE) )\n",
    "\n",
    "# add first column: day\n",
    "d = cbind(c(3,15,5,8,11),d)\n",
    "\n",
    "# normalize: ko/wt in the same samples\n",
    "d = cbind(d,d[,5:7]/d[,2:4])\n",
    "\n",
    "# normalize to day 0\n",
    "d = cbind(d,d[,8:10] / (perc[3,2]/perc[3,1]) )\n",
    "\n",
    "# column names\n",
    "colnames(d) = c('day','wt.1','wt.2','wt.3','ko.1','ko.2','ko.3','ratio.1','ratio.2','ratio.3','norm_ratio.1','norm_ratio.2','norm_ratio.3')\n",
    "\n",
    "# to a matrix\n",
    "d <- data.frame(d)\n",
    "\n",
    "d$ratio_avg = apply(d[,11:13],1,mean,na.rm=T)\n",
    "d$ratio_std = apply(d[,11:13],1,sd,na.rm=T)\n",
    "\n",
    "d = d[order(d$day),]"
   ]
  },
  {
   "cell_type": "code",
   "execution_count": 41,
   "metadata": {},
   "outputs": [
    {
     "data": {
      "text/html": [
       "<strong>PNG:</strong> 2"
      ],
      "text/latex": [
       "\\textbf{PNG:} 2"
      ],
      "text/markdown": [
       "**PNG:** 2"
      ],
      "text/plain": [
       "PNG \n",
       "  2 "
      ]
     },
     "metadata": {},
     "output_type": "display_data"
    }
   ],
   "source": [
    "pdf(\"bag6-ko-competitive-growth.pdf\",width=4,height=4)\n",
    "x = c(0,d$day)\n",
    "y = c(1,d$ratio_avg)\n",
    "dy = c(NA,d$ratio_std)\n",
    "\n",
    "plot(x,y ,type='l',ylim=c(0,1.),bty='l',xlab='Days of co-culture',ylab='Normalized ratio (KO/WT)')\n",
    "arrows(x0=x, y0=y-dy, x1=x, y1=y+dy, code=3, col=\"blue\", lwd=1,angle=90, length=0.1)\n",
    "points(0,1,pch=16)\n",
    "points(d$day,d$`norm_ratio.1`,pch=16)\n",
    "points(d$day,d$`norm_ratio.2`,pch=16)\n",
    "points(d$day,d$`norm_ratio.3`,pch=16)\n",
    "dev.off()"
   ]
  },
  {
   "cell_type": "code",
   "execution_count": 34,
   "metadata": {},
   "outputs": [],
   "source": [
    "write.table(cbind(x,y,dy),file='bag6.data.txt')"
   ]
  },
  {
   "cell_type": "code",
   "execution_count": 35,
   "metadata": {},
   "outputs": [],
   "source": [
    "x=read.table('bag6.data.txt')"
   ]
  },
  {
   "cell_type": "code",
   "execution_count": 36,
   "metadata": {},
   "outputs": [
    {
     "data": {
      "text/html": [
       "<table class=\"dataframe\">\n",
       "<caption>A data.frame: 6 × 3</caption>\n",
       "<thead>\n",
       "\t<tr><th></th><th scope=col>x</th><th scope=col>y</th><th scope=col>dy</th></tr>\n",
       "\t<tr><th></th><th scope=col>&lt;int&gt;</th><th scope=col>&lt;dbl&gt;</th><th scope=col>&lt;dbl&gt;</th></tr>\n",
       "</thead>\n",
       "<tbody>\n",
       "\t<tr><th scope=row>1</th><td> 0</td><td>1.0000000</td><td>         NA</td></tr>\n",
       "\t<tr><th scope=row>2</th><td> 3</td><td>0.9535955</td><td>0.026130238</td></tr>\n",
       "\t<tr><th scope=row>3</th><td> 5</td><td>0.8186093</td><td>0.020651868</td></tr>\n",
       "\t<tr><th scope=row>4</th><td> 8</td><td>0.6298291</td><td>0.004457783</td></tr>\n",
       "\t<tr><th scope=row>5</th><td>11</td><td>0.4198128</td><td>0.027708936</td></tr>\n",
       "\t<tr><th scope=row>6</th><td>15</td><td>0.3410318</td><td>0.032044629</td></tr>\n",
       "</tbody>\n",
       "</table>\n"
      ],
      "text/latex": [
       "A data.frame: 6 × 3\n",
       "\\begin{tabular}{r|lll}\n",
       "  & x & y & dy\\\\\n",
       "  & <int> & <dbl> & <dbl>\\\\\n",
       "\\hline\n",
       "\t1 &  0 & 1.0000000 &          NA\\\\\n",
       "\t2 &  3 & 0.9535955 & 0.026130238\\\\\n",
       "\t3 &  5 & 0.8186093 & 0.020651868\\\\\n",
       "\t4 &  8 & 0.6298291 & 0.004457783\\\\\n",
       "\t5 & 11 & 0.4198128 & 0.027708936\\\\\n",
       "\t6 & 15 & 0.3410318 & 0.032044629\\\\\n",
       "\\end{tabular}\n"
      ],
      "text/markdown": [
       "\n",
       "A data.frame: 6 × 3\n",
       "\n",
       "| <!--/--> | x &lt;int&gt; | y &lt;dbl&gt; | dy &lt;dbl&gt; |\n",
       "|---|---|---|---|\n",
       "| 1 |  0 | 1.0000000 |          NA |\n",
       "| 2 |  3 | 0.9535955 | 0.026130238 |\n",
       "| 3 |  5 | 0.8186093 | 0.020651868 |\n",
       "| 4 |  8 | 0.6298291 | 0.004457783 |\n",
       "| 5 | 11 | 0.4198128 | 0.027708936 |\n",
       "| 6 | 15 | 0.3410318 | 0.032044629 |\n",
       "\n"
      ],
      "text/plain": [
       "  x  y         dy         \n",
       "1  0 1.0000000          NA\n",
       "2  3 0.9535955 0.026130238\n",
       "3  5 0.8186093 0.020651868\n",
       "4  8 0.6298291 0.004457783\n",
       "5 11 0.4198128 0.027708936\n",
       "6 15 0.3410318 0.032044629"
      ]
     },
     "metadata": {},
     "output_type": "display_data"
    }
   ],
   "source": [
    "head(x)"
   ]
  },
  {
   "cell_type": "code",
   "execution_count": null,
   "metadata": {},
   "outputs": [],
   "source": []
  }
 ],
 "metadata": {
  "kernelspec": {
   "display_name": "R",
   "language": "R",
   "name": "ir"
  },
  "language_info": {
   "codemirror_mode": "r",
   "file_extension": ".r",
   "mimetype": "text/x-r-source",
   "name": "R",
   "pygments_lexer": "r",
   "version": "4.0.0"
  }
 },
 "nbformat": 4,
 "nbformat_minor": 4
}
