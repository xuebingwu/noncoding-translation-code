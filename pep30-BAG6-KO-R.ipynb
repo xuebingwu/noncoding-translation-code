{
 "cells": [
  {
   "cell_type": "code",
   "execution_count": 4,
   "metadata": {
    "collapsed": true,
    "jupyter": {
     "outputs_hidden": true
    },
    "tags": []
   },
   "outputs": [
    {
     "data": {
      "text/html": [
       "<table class=\"dataframe\">\n",
       "<caption>A data.frame: 6 × 2</caption>\n",
       "<thead>\n",
       "\t<tr><th></th><th scope=col>Sequence</th><th scope=col>Peptide</th></tr>\n",
       "\t<tr><th></th><th scope=col>&lt;chr&gt;</th><th scope=col>&lt;chr&gt;</th></tr>\n",
       "</thead>\n",
       "<tbody>\n",
       "\t<tr><th scope=row>NM_022844_cds_31_0_chr16_15854397_r(-)|12</th><td>CTGCTCAGAAAGTTTGCCACCTCATGGGAATTAATGTGACAGATTTCACCAGATCCATCCTCACTCCTCGTATCAAGGTTGGGCGAGATG</td><td>LLRKFATSWELM                  </td></tr>\n",
       "\t<tr><th scope=row>NM_001145365_cds_2_0_chr17_47389289_r(-)|30</th><td>CACACACAAAAGACATGCCATTTACATGCGAAACCTGTGGAAAATCATTCAAACGCAGTATGTCACTCAAGGTGCACTCCTTGCAGCATT</td><td>HTQKTCHLHAKPVENHSNAVCHSRCTPCSI</td></tr>\n",
       "\t<tr><th scope=row>NM_198150_cds_1_0_chr5_94901702_f(+)|30</th><td>GATGGAAGGTTAACATTTCATCCAGGAAGTCAGGTAGTGAAACTTCCTTTTATCAACTTTATGAAGACACGTGGGACTTCCTTTCTGAAT</td><td>DGRLTFHPGSQVVKLPFINFMKTRGTSFLN</td></tr>\n",
       "\t<tr><th scope=row>NM_001282_cds_14_0_chr17_33998773_f(+)|30</th><td>GTGGGACAATCCTTCATCCCATCATCGGTGCCTGCAACCTTTGCTCCTTCACCTACACCTGCTGTGGTCAGCAGTGGACTGAATGACCTG</td><td>VGQSFIPSSVPATFAPSPTPAVVSSGLNDL</td></tr>\n",
       "\t<tr><th scope=row>NM_001080851_cds_1_0_chrX_72093384_r(-)|30</th><td>GTCCCCAAAGTCTCTGACCAGGCTTTGGTTTCTGCCCACTCAGAGTGGCAGCGGAAGCTGGAGGCCGCTGAGGCTCTGCTGACTCTGAGA</td><td>VPKVSDQALVSAHSEWQRKLEAAEALLTLR</td></tr>\n",
       "\t<tr><th scope=row>NM_019024_cds_17_0_chr2_37268276_r(-)|9</th><td>GTTGAAATCGGCTCGAGATGTTGTATCTAGGACTGGTCATTCATTGGCTCTTGGTTGTTTGCATCGTTATGTTGGTGGAATAGGCTCAGG</td><td>VEIGSRCCI                     </td></tr>\n",
       "</tbody>\n",
       "</table>\n"
      ],
      "text/latex": [
       "A data.frame: 6 × 2\n",
       "\\begin{tabular}{r|ll}\n",
       "  & Sequence & Peptide\\\\\n",
       "  & <chr> & <chr>\\\\\n",
       "\\hline\n",
       "\tNM\\_022844\\_cds\\_31\\_0\\_chr16\\_15854397\\_r(-)\\textbar{}12 & CTGCTCAGAAAGTTTGCCACCTCATGGGAATTAATGTGACAGATTTCACCAGATCCATCCTCACTCCTCGTATCAAGGTTGGGCGAGATG & LLRKFATSWELM                  \\\\\n",
       "\tNM\\_001145365\\_cds\\_2\\_0\\_chr17\\_47389289\\_r(-)\\textbar{}30 & CACACACAAAAGACATGCCATTTACATGCGAAACCTGTGGAAAATCATTCAAACGCAGTATGTCACTCAAGGTGCACTCCTTGCAGCATT & HTQKTCHLHAKPVENHSNAVCHSRCTPCSI\\\\\n",
       "\tNM\\_198150\\_cds\\_1\\_0\\_chr5\\_94901702\\_f(+)\\textbar{}30 & GATGGAAGGTTAACATTTCATCCAGGAAGTCAGGTAGTGAAACTTCCTTTTATCAACTTTATGAAGACACGTGGGACTTCCTTTCTGAAT & DGRLTFHPGSQVVKLPFINFMKTRGTSFLN\\\\\n",
       "\tNM\\_001282\\_cds\\_14\\_0\\_chr17\\_33998773\\_f(+)\\textbar{}30 & GTGGGACAATCCTTCATCCCATCATCGGTGCCTGCAACCTTTGCTCCTTCACCTACACCTGCTGTGGTCAGCAGTGGACTGAATGACCTG & VGQSFIPSSVPATFAPSPTPAVVSSGLNDL\\\\\n",
       "\tNM\\_001080851\\_cds\\_1\\_0\\_chrX\\_72093384\\_r(-)\\textbar{}30 & GTCCCCAAAGTCTCTGACCAGGCTTTGGTTTCTGCCCACTCAGAGTGGCAGCGGAAGCTGGAGGCCGCTGAGGCTCTGCTGACTCTGAGA & VPKVSDQALVSAHSEWQRKLEAAEALLTLR\\\\\n",
       "\tNM\\_019024\\_cds\\_17\\_0\\_chr2\\_37268276\\_r(-)\\textbar{}9 & GTTGAAATCGGCTCGAGATGTTGTATCTAGGACTGGTCATTCATTGGCTCTTGGTTGTTTGCATCGTTATGTTGGTGGAATAGGCTCAGG & VEIGSRCCI                     \\\\\n",
       "\\end{tabular}\n"
      ],
      "text/markdown": [
       "\n",
       "A data.frame: 6 × 2\n",
       "\n",
       "| <!--/--> | Sequence &lt;chr&gt; | Peptide &lt;chr&gt; |\n",
       "|---|---|---|\n",
       "| NM_022844_cds_31_0_chr16_15854397_r(-)|12 | CTGCTCAGAAAGTTTGCCACCTCATGGGAATTAATGTGACAGATTTCACCAGATCCATCCTCACTCCTCGTATCAAGGTTGGGCGAGATG | LLRKFATSWELM                   |\n",
       "| NM_001145365_cds_2_0_chr17_47389289_r(-)|30 | CACACACAAAAGACATGCCATTTACATGCGAAACCTGTGGAAAATCATTCAAACGCAGTATGTCACTCAAGGTGCACTCCTTGCAGCATT | HTQKTCHLHAKPVENHSNAVCHSRCTPCSI |\n",
       "| NM_198150_cds_1_0_chr5_94901702_f(+)|30 | GATGGAAGGTTAACATTTCATCCAGGAAGTCAGGTAGTGAAACTTCCTTTTATCAACTTTATGAAGACACGTGGGACTTCCTTTCTGAAT | DGRLTFHPGSQVVKLPFINFMKTRGTSFLN |\n",
       "| NM_001282_cds_14_0_chr17_33998773_f(+)|30 | GTGGGACAATCCTTCATCCCATCATCGGTGCCTGCAACCTTTGCTCCTTCACCTACACCTGCTGTGGTCAGCAGTGGACTGAATGACCTG | VGQSFIPSSVPATFAPSPTPAVVSSGLNDL |\n",
       "| NM_001080851_cds_1_0_chrX_72093384_r(-)|30 | GTCCCCAAAGTCTCTGACCAGGCTTTGGTTTCTGCCCACTCAGAGTGGCAGCGGAAGCTGGAGGCCGCTGAGGCTCTGCTGACTCTGAGA | VPKVSDQALVSAHSEWQRKLEAAEALLTLR |\n",
       "| NM_019024_cds_17_0_chr2_37268276_r(-)|9 | GTTGAAATCGGCTCGAGATGTTGTATCTAGGACTGGTCATTCATTGGCTCTTGGTTGTTTGCATCGTTATGTTGGTGGAATAGGCTCAGG | VEIGSRCCI                      |\n",
       "\n"
      ],
      "text/plain": [
       "                                            Sequence                                                                                  \n",
       "NM_022844_cds_31_0_chr16_15854397_r(-)|12   CTGCTCAGAAAGTTTGCCACCTCATGGGAATTAATGTGACAGATTTCACCAGATCCATCCTCACTCCTCGTATCAAGGTTGGGCGAGATG\n",
       "NM_001145365_cds_2_0_chr17_47389289_r(-)|30 CACACACAAAAGACATGCCATTTACATGCGAAACCTGTGGAAAATCATTCAAACGCAGTATGTCACTCAAGGTGCACTCCTTGCAGCATT\n",
       "NM_198150_cds_1_0_chr5_94901702_f(+)|30     GATGGAAGGTTAACATTTCATCCAGGAAGTCAGGTAGTGAAACTTCCTTTTATCAACTTTATGAAGACACGTGGGACTTCCTTTCTGAAT\n",
       "NM_001282_cds_14_0_chr17_33998773_f(+)|30   GTGGGACAATCCTTCATCCCATCATCGGTGCCTGCAACCTTTGCTCCTTCACCTACACCTGCTGTGGTCAGCAGTGGACTGAATGACCTG\n",
       "NM_001080851_cds_1_0_chrX_72093384_r(-)|30  GTCCCCAAAGTCTCTGACCAGGCTTTGGTTTCTGCCCACTCAGAGTGGCAGCGGAAGCTGGAGGCCGCTGAGGCTCTGCTGACTCTGAGA\n",
       "NM_019024_cds_17_0_chr2_37268276_r(-)|9     GTTGAAATCGGCTCGAGATGTTGTATCTAGGACTGGTCATTCATTGGCTCTTGGTTGTTTGCATCGTTATGTTGGTGGAATAGGCTCAGG\n",
       "                                            Peptide                       \n",
       "NM_022844_cds_31_0_chr16_15854397_r(-)|12   LLRKFATSWELM                  \n",
       "NM_001145365_cds_2_0_chr17_47389289_r(-)|30 HTQKTCHLHAKPVENHSNAVCHSRCTPCSI\n",
       "NM_198150_cds_1_0_chr5_94901702_f(+)|30     DGRLTFHPGSQVVKLPFINFMKTRGTSFLN\n",
       "NM_001282_cds_14_0_chr17_33998773_f(+)|30   VGQSFIPSSVPATFAPSPTPAVVSSGLNDL\n",
       "NM_001080851_cds_1_0_chrX_72093384_r(-)|30  VPKVSDQALVSAHSEWQRKLEAAEALLTLR\n",
       "NM_019024_cds_17_0_chr2_37268276_r(-)|9     VEIGSRCCI                     "
      ]
     },
     "metadata": {},
     "output_type": "display_data"
    },
    {
     "name": "stdout",
     "output_type": "stream",
     "text": [
      "[1] \"KO5\"\n",
      "[1] \"KO5-HIGH.count\"\n",
      "                                                                                                            Sequence\n",
      "3xFLAG_ACTButr3           GATTATAAAGATCATGACGGAGATTATAAAGACCATGATATTGATTATAAAGATGACGATGATAAGtaaGCGGACTATGACTTAGTTGCG\n",
      "3xHA                      GGATATCCTTACGATGTTCCAGACTATGCTGGATACCCTTATGATGTCCCAGATTACGCAGGATCATATCCATACGATGTTCCGGATTAC\n",
      "ACTB(randTerByP)          ATTAATGCCTCTGTGAAAAGGATCCGCATATTAGAGTGTTGTCTGTCTCTATTCCTTATATTTAGCGTACAAGCAGGAATTTCTAGAACT\n",
      "ACTB(TerByP)              GCGGACTATGACTTAGTTGCGTTACACCCTTTCTTGACAAAACCTAACTTGCGCAGAAAACAAGATGAGATTGGCATGGCTTTATTTGTT\n",
      "AGO2(randTerByP)_ACTButr3 CTGTCATGCAACAATTTGGCCGACAGGCTAGGGGACGCACAAGCAGTCAGCCGCTTGTCAGGTACTCTACGATCATATGTTTCTTGAGCG\n",
      "AGO2(TerByP)_ACTButr3     CATGTTTTAGTGTTTAGCGATTGTGTACCGAGTGGGATTCACGAGACCAGCTACACTCAGACCAACAGATGGCCAGCCCTTCCGTGAGCG\n",
      "                                                 Peptide KO5.HIGH\n",
      "3xFLAG_ACTButr3                   DYKDHDGDYKDHDIDYKDDDDK       NA\n",
      "3xHA                      GYPYDVPDYAGYPYDVPDYAGSYPYDVPDY      461\n",
      "ACTB(randTerByP)          INASVKRIRILECCLSLFLIFSVQAGISRT     1679\n",
      "ACTB(TerByP)              ADYDLVALHPFLTKPNLRRKQDEIGMALFV        4\n",
      "AGO2(randTerByP)_ACTButr3   LSCNNLADRLGDAQAVSRLSGTLRSYVS      263\n",
      "AGO2(TerByP)_ACTButr3       HVLVFSDCVPSGIHETSYTQTNRWPALP     1743\n",
      "[1] \"KO5-MIDHIGH.count\"\n",
      "                                                                                                            Sequence\n",
      "3xFLAG_ACTButr3           GATTATAAAGATCATGACGGAGATTATAAAGACCATGATATTGATTATAAAGATGACGATGATAAGtaaGCGGACTATGACTTAGTTGCG\n",
      "3xHA                      GGATATCCTTACGATGTTCCAGACTATGCTGGATACCCTTATGATGTCCCAGATTACGCAGGATCATATCCATACGATGTTCCGGATTAC\n",
      "ACTB(randTerByP)          ATTAATGCCTCTGTGAAAAGGATCCGCATATTAGAGTGTTGTCTGTCTCTATTCCTTATATTTAGCGTACAAGCAGGAATTTCTAGAACT\n",
      "ACTB(TerByP)              GCGGACTATGACTTAGTTGCGTTACACCCTTTCTTGACAAAACCTAACTTGCGCAGAAAACAAGATGAGATTGGCATGGCTTTATTTGTT\n",
      "AGO2(randTerByP)_ACTButr3 CTGTCATGCAACAATTTGGCCGACAGGCTAGGGGACGCACAAGCAGTCAGCCGCTTGTCAGGTACTCTACGATCATATGTTTCTTGAGCG\n",
      "AGO2(TerByP)_ACTButr3     CATGTTTTAGTGTTTAGCGATTGTGTACCGAGTGGGATTCACGAGACCAGCTACACTCAGACCAACAGATGGCCAGCCCTTCCGTGAGCG\n",
      "                                                 Peptide KO5.HIGH KO5.MIDHIGH\n",
      "3xFLAG_ACTButr3                   DYKDHDGDYKDHDIDYKDDDDK       NA          62\n",
      "3xHA                      GYPYDVPDYAGYPYDVPDYAGSYPYDVPDY      461         649\n",
      "ACTB(randTerByP)          INASVKRIRILECCLSLFLIFSVQAGISRT     1679         662\n",
      "ACTB(TerByP)              ADYDLVALHPFLTKPNLRRKQDEIGMALFV        4          23\n",
      "AGO2(randTerByP)_ACTButr3   LSCNNLADRLGDAQAVSRLSGTLRSYVS      263        1090\n",
      "AGO2(TerByP)_ACTButr3       HVLVFSDCVPSGIHETSYTQTNRWPALP     1743        9168\n",
      "[1] \"KO5-MIDLOW.count\"\n",
      "                                                                                                            Sequence\n",
      "3xFLAG_ACTButr3           GATTATAAAGATCATGACGGAGATTATAAAGACCATGATATTGATTATAAAGATGACGATGATAAGtaaGCGGACTATGACTTAGTTGCG\n",
      "3xHA                      GGATATCCTTACGATGTTCCAGACTATGCTGGATACCCTTATGATGTCCCAGATTACGCAGGATCATATCCATACGATGTTCCGGATTAC\n",
      "ACTB(randTerByP)          ATTAATGCCTCTGTGAAAAGGATCCGCATATTAGAGTGTTGTCTGTCTCTATTCCTTATATTTAGCGTACAAGCAGGAATTTCTAGAACT\n",
      "ACTB(TerByP)              GCGGACTATGACTTAGTTGCGTTACACCCTTTCTTGACAAAACCTAACTTGCGCAGAAAACAAGATGAGATTGGCATGGCTTTATTTGTT\n",
      "AGO2(randTerByP)_ACTButr3 CTGTCATGCAACAATTTGGCCGACAGGCTAGGGGACGCACAAGCAGTCAGCCGCTTGTCAGGTACTCTACGATCATATGTTTCTTGAGCG\n",
      "AGO2(TerByP)_ACTButr3     CATGTTTTAGTGTTTAGCGATTGTGTACCGAGTGGGATTCACGAGACCAGCTACACTCAGACCAACAGATGGCCAGCCCTTCCGTGAGCG\n",
      "                                                 Peptide KO5.HIGH KO5.MIDHIGH\n",
      "3xFLAG_ACTButr3                   DYKDHDGDYKDHDIDYKDDDDK       NA          62\n",
      "3xHA                      GYPYDVPDYAGYPYDVPDYAGSYPYDVPDY      461         649\n",
      "ACTB(randTerByP)          INASVKRIRILECCLSLFLIFSVQAGISRT     1679         662\n",
      "ACTB(TerByP)              ADYDLVALHPFLTKPNLRRKQDEIGMALFV        4          23\n",
      "AGO2(randTerByP)_ACTButr3   LSCNNLADRLGDAQAVSRLSGTLRSYVS      263        1090\n",
      "AGO2(TerByP)_ACTButr3       HVLVFSDCVPSGIHETSYTQTNRWPALP     1743        9168\n",
      "                          KO5.MIDLOW\n",
      "3xFLAG_ACTButr3                  318\n",
      "3xHA                            3466\n",
      "ACTB(randTerByP)                 574\n",
      "ACTB(TerByP)                      10\n",
      "AGO2(randTerByP)_ACTButr3        582\n",
      "AGO2(TerByP)_ACTButr3           3855\n",
      "[1] \"KO5-LOW.count\"\n",
      "                                                                                                            Sequence\n",
      "3xFLAG_ACTButr3           GATTATAAAGATCATGACGGAGATTATAAAGACCATGATATTGATTATAAAGATGACGATGATAAGtaaGCGGACTATGACTTAGTTGCG\n",
      "3xHA                      GGATATCCTTACGATGTTCCAGACTATGCTGGATACCCTTATGATGTCCCAGATTACGCAGGATCATATCCATACGATGTTCCGGATTAC\n",
      "ACTB(randTerByP)          ATTAATGCCTCTGTGAAAAGGATCCGCATATTAGAGTGTTGTCTGTCTCTATTCCTTATATTTAGCGTACAAGCAGGAATTTCTAGAACT\n",
      "ACTB(TerByP)              GCGGACTATGACTTAGTTGCGTTACACCCTTTCTTGACAAAACCTAACTTGCGCAGAAAACAAGATGAGATTGGCATGGCTTTATTTGTT\n",
      "AGO2(randTerByP)_ACTButr3 CTGTCATGCAACAATTTGGCCGACAGGCTAGGGGACGCACAAGCAGTCAGCCGCTTGTCAGGTACTCTACGATCATATGTTTCTTGAGCG\n",
      "AGO2(TerByP)_ACTButr3     CATGTTTTAGTGTTTAGCGATTGTGTACCGAGTGGGATTCACGAGACCAGCTACACTCAGACCAACAGATGGCCAGCCCTTCCGTGAGCG\n",
      "                                                 Peptide KO5.HIGH KO5.MIDHIGH\n",
      "3xFLAG_ACTButr3                   DYKDHDGDYKDHDIDYKDDDDK       NA          62\n",
      "3xHA                      GYPYDVPDYAGYPYDVPDYAGSYPYDVPDY      461         649\n",
      "ACTB(randTerByP)          INASVKRIRILECCLSLFLIFSVQAGISRT     1679         662\n",
      "ACTB(TerByP)              ADYDLVALHPFLTKPNLRRKQDEIGMALFV        4          23\n",
      "AGO2(randTerByP)_ACTButr3   LSCNNLADRLGDAQAVSRLSGTLRSYVS      263        1090\n",
      "AGO2(TerByP)_ACTButr3       HVLVFSDCVPSGIHETSYTQTNRWPALP     1743        9168\n",
      "                          KO5.MIDLOW KO5.LOW\n",
      "3xFLAG_ACTButr3                  318     638\n",
      "3xHA                            3466    3315\n",
      "ACTB(randTerByP)                 574     213\n",
      "ACTB(TerByP)                      10      15\n",
      "AGO2(randTerByP)_ACTButr3        582      69\n",
      "AGO2(TerByP)_ACTButr3           3855    3206\n",
      "[1] \"WT5\"\n",
      "[1] \"WT5-HIGH.count\"\n",
      "                                                                                                            Sequence\n",
      "3xFLAG_ACTButr3           GATTATAAAGATCATGACGGAGATTATAAAGACCATGATATTGATTATAAAGATGACGATGATAAGtaaGCGGACTATGACTTAGTTGCG\n",
      "3xHA                      GGATATCCTTACGATGTTCCAGACTATGCTGGATACCCTTATGATGTCCCAGATTACGCAGGATCATATCCATACGATGTTCCGGATTAC\n",
      "ACTB(randTerByP)          ATTAATGCCTCTGTGAAAAGGATCCGCATATTAGAGTGTTGTCTGTCTCTATTCCTTATATTTAGCGTACAAGCAGGAATTTCTAGAACT\n",
      "ACTB(TerByP)              GCGGACTATGACTTAGTTGCGTTACACCCTTTCTTGACAAAACCTAACTTGCGCAGAAAACAAGATGAGATTGGCATGGCTTTATTTGTT\n",
      "AGO2(randTerByP)_ACTButr3 CTGTCATGCAACAATTTGGCCGACAGGCTAGGGGACGCACAAGCAGTCAGCCGCTTGTCAGGTACTCTACGATCATATGTTTCTTGAGCG\n",
      "AGO2(TerByP)_ACTButr3     CATGTTTTAGTGTTTAGCGATTGTGTACCGAGTGGGATTCACGAGACCAGCTACACTCAGACCAACAGATGGCCAGCCCTTCCGTGAGCG\n",
      "                                                 Peptide KO5.HIGH KO5.MIDHIGH\n",
      "3xFLAG_ACTButr3                   DYKDHDGDYKDHDIDYKDDDDK       NA          62\n",
      "3xHA                      GYPYDVPDYAGYPYDVPDYAGSYPYDVPDY      461         649\n",
      "ACTB(randTerByP)          INASVKRIRILECCLSLFLIFSVQAGISRT     1679         662\n",
      "ACTB(TerByP)              ADYDLVALHPFLTKPNLRRKQDEIGMALFV        4          23\n",
      "AGO2(randTerByP)_ACTButr3   LSCNNLADRLGDAQAVSRLSGTLRSYVS      263        1090\n",
      "AGO2(TerByP)_ACTButr3       HVLVFSDCVPSGIHETSYTQTNRWPALP     1743        9168\n",
      "                          KO5.MIDLOW KO5.LOW WT5.HIGH\n",
      "3xFLAG_ACTButr3                  318     638       NA\n",
      "3xHA                            3466    3315      241\n",
      "ACTB(randTerByP)                 574     213     1955\n",
      "ACTB(TerByP)                      10      15       12\n",
      "AGO2(randTerByP)_ACTButr3        582      69      159\n",
      "AGO2(TerByP)_ACTButr3           3855    3206     3513\n",
      "[1] \"WT5-MIDHIGH.count\"\n",
      "                                                                                                            Sequence\n",
      "3xFLAG_ACTButr3           GATTATAAAGATCATGACGGAGATTATAAAGACCATGATATTGATTATAAAGATGACGATGATAAGtaaGCGGACTATGACTTAGTTGCG\n",
      "3xHA                      GGATATCCTTACGATGTTCCAGACTATGCTGGATACCCTTATGATGTCCCAGATTACGCAGGATCATATCCATACGATGTTCCGGATTAC\n",
      "ACTB(randTerByP)          ATTAATGCCTCTGTGAAAAGGATCCGCATATTAGAGTGTTGTCTGTCTCTATTCCTTATATTTAGCGTACAAGCAGGAATTTCTAGAACT\n",
      "ACTB(TerByP)              GCGGACTATGACTTAGTTGCGTTACACCCTTTCTTGACAAAACCTAACTTGCGCAGAAAACAAGATGAGATTGGCATGGCTTTATTTGTT\n",
      "AGO2(randTerByP)_ACTButr3 CTGTCATGCAACAATTTGGCCGACAGGCTAGGGGACGCACAAGCAGTCAGCCGCTTGTCAGGTACTCTACGATCATATGTTTCTTGAGCG\n",
      "AGO2(TerByP)_ACTButr3     CATGTTTTAGTGTTTAGCGATTGTGTACCGAGTGGGATTCACGAGACCAGCTACACTCAGACCAACAGATGGCCAGCCCTTCCGTGAGCG\n",
      "                                                 Peptide KO5.HIGH KO5.MIDHIGH\n",
      "3xFLAG_ACTButr3                   DYKDHDGDYKDHDIDYKDDDDK       NA          62\n",
      "3xHA                      GYPYDVPDYAGYPYDVPDYAGSYPYDVPDY      461         649\n",
      "ACTB(randTerByP)          INASVKRIRILECCLSLFLIFSVQAGISRT     1679         662\n",
      "ACTB(TerByP)              ADYDLVALHPFLTKPNLRRKQDEIGMALFV        4          23\n",
      "AGO2(randTerByP)_ACTButr3   LSCNNLADRLGDAQAVSRLSGTLRSYVS      263        1090\n",
      "AGO2(TerByP)_ACTButr3       HVLVFSDCVPSGIHETSYTQTNRWPALP     1743        9168\n",
      "                          KO5.MIDLOW KO5.LOW WT5.HIGH WT5.MIDHIGH\n",
      "3xFLAG_ACTButr3                  318     638       NA          NA\n",
      "3xHA                            3466    3315      241         454\n",
      "ACTB(randTerByP)                 574     213     1955         610\n",
      "ACTB(TerByP)                      10      15       12          54\n",
      "AGO2(randTerByP)_ACTButr3        582      69      159        1916\n",
      "AGO2(TerByP)_ACTButr3           3855    3206     3513       12605\n",
      "[1] \"WT5-MIDLOW.count\"\n",
      "                                                                                                            Sequence\n",
      "3xFLAG_ACTButr3           GATTATAAAGATCATGACGGAGATTATAAAGACCATGATATTGATTATAAAGATGACGATGATAAGtaaGCGGACTATGACTTAGTTGCG\n",
      "3xHA                      GGATATCCTTACGATGTTCCAGACTATGCTGGATACCCTTATGATGTCCCAGATTACGCAGGATCATATCCATACGATGTTCCGGATTAC\n",
      "ACTB(randTerByP)          ATTAATGCCTCTGTGAAAAGGATCCGCATATTAGAGTGTTGTCTGTCTCTATTCCTTATATTTAGCGTACAAGCAGGAATTTCTAGAACT\n",
      "ACTB(TerByP)              GCGGACTATGACTTAGTTGCGTTACACCCTTTCTTGACAAAACCTAACTTGCGCAGAAAACAAGATGAGATTGGCATGGCTTTATTTGTT\n",
      "AGO2(randTerByP)_ACTButr3 CTGTCATGCAACAATTTGGCCGACAGGCTAGGGGACGCACAAGCAGTCAGCCGCTTGTCAGGTACTCTACGATCATATGTTTCTTGAGCG\n",
      "AGO2(TerByP)_ACTButr3     CATGTTTTAGTGTTTAGCGATTGTGTACCGAGTGGGATTCACGAGACCAGCTACACTCAGACCAACAGATGGCCAGCCCTTCCGTGAGCG\n",
      "                                                 Peptide KO5.HIGH KO5.MIDHIGH\n",
      "3xFLAG_ACTButr3                   DYKDHDGDYKDHDIDYKDDDDK       NA          62\n",
      "3xHA                      GYPYDVPDYAGYPYDVPDYAGSYPYDVPDY      461         649\n",
      "ACTB(randTerByP)          INASVKRIRILECCLSLFLIFSVQAGISRT     1679         662\n",
      "ACTB(TerByP)              ADYDLVALHPFLTKPNLRRKQDEIGMALFV        4          23\n",
      "AGO2(randTerByP)_ACTButr3   LSCNNLADRLGDAQAVSRLSGTLRSYVS      263        1090\n",
      "AGO2(TerByP)_ACTButr3       HVLVFSDCVPSGIHETSYTQTNRWPALP     1743        9168\n",
      "                          KO5.MIDLOW KO5.LOW WT5.HIGH WT5.MIDHIGH WT5.MIDLOW\n",
      "3xFLAG_ACTButr3                  318     638       NA          NA         NA\n",
      "3xHA                            3466    3315      241         454       4838\n",
      "ACTB(randTerByP)                 574     213     1955         610        500\n",
      "ACTB(TerByP)                      10      15       12          54         14\n",
      "AGO2(randTerByP)_ACTButr3        582      69      159        1916       1030\n",
      "AGO2(TerByP)_ACTButr3           3855    3206     3513       12605       2821\n",
      "[1] \"WT5-LOW.count\"\n",
      "                                                                                                            Sequence\n",
      "3xFLAG_ACTButr3           GATTATAAAGATCATGACGGAGATTATAAAGACCATGATATTGATTATAAAGATGACGATGATAAGtaaGCGGACTATGACTTAGTTGCG\n",
      "3xHA                      GGATATCCTTACGATGTTCCAGACTATGCTGGATACCCTTATGATGTCCCAGATTACGCAGGATCATATCCATACGATGTTCCGGATTAC\n",
      "ACTB(randTerByP)          ATTAATGCCTCTGTGAAAAGGATCCGCATATTAGAGTGTTGTCTGTCTCTATTCCTTATATTTAGCGTACAAGCAGGAATTTCTAGAACT\n",
      "ACTB(TerByP)              GCGGACTATGACTTAGTTGCGTTACACCCTTTCTTGACAAAACCTAACTTGCGCAGAAAACAAGATGAGATTGGCATGGCTTTATTTGTT\n",
      "AGO2(randTerByP)_ACTButr3 CTGTCATGCAACAATTTGGCCGACAGGCTAGGGGACGCACAAGCAGTCAGCCGCTTGTCAGGTACTCTACGATCATATGTTTCTTGAGCG\n",
      "AGO2(TerByP)_ACTButr3     CATGTTTTAGTGTTTAGCGATTGTGTACCGAGTGGGATTCACGAGACCAGCTACACTCAGACCAACAGATGGCCAGCCCTTCCGTGAGCG\n",
      "                                                 Peptide KO5.HIGH KO5.MIDHIGH\n",
      "3xFLAG_ACTButr3                   DYKDHDGDYKDHDIDYKDDDDK       NA          62\n",
      "3xHA                      GYPYDVPDYAGYPYDVPDYAGSYPYDVPDY      461         649\n",
      "ACTB(randTerByP)          INASVKRIRILECCLSLFLIFSVQAGISRT     1679         662\n",
      "ACTB(TerByP)              ADYDLVALHPFLTKPNLRRKQDEIGMALFV        4          23\n",
      "AGO2(randTerByP)_ACTButr3   LSCNNLADRLGDAQAVSRLSGTLRSYVS      263        1090\n",
      "AGO2(TerByP)_ACTButr3       HVLVFSDCVPSGIHETSYTQTNRWPALP     1743        9168\n",
      "                          KO5.MIDLOW KO5.LOW WT5.HIGH WT5.MIDHIGH WT5.MIDLOW\n",
      "3xFLAG_ACTButr3                  318     638       NA          NA         NA\n",
      "3xHA                            3466    3315      241         454       4838\n",
      "ACTB(randTerByP)                 574     213     1955         610        500\n",
      "ACTB(TerByP)                      10      15       12          54         14\n",
      "AGO2(randTerByP)_ACTButr3        582      69      159        1916       1030\n",
      "AGO2(TerByP)_ACTButr3           3855    3206     3513       12605       2821\n",
      "                          WT5.LOW\n",
      "3xFLAG_ACTButr3               498\n",
      "3xHA                         4287\n",
      "ACTB(randTerByP)              189\n",
      "ACTB(TerByP)                   18\n",
      "AGO2(randTerByP)_ACTButr3     381\n",
      "AGO2(TerByP)_ACTButr3        2819\n"
     ]
    }
   ],
   "source": [
    "# merge counts\n",
    "\n",
    "# load reference\n",
    "Pep30lib_file = \"/home/xw2629/noncoding_translation/old-data/oligo-pool-design/XuebingWu-12K-120-oligo-pool.fa.translated.txt\"\n",
    "Pep30lib=read.csv(Pep30lib_file,sep='\\t',row.names=1,col.names=c(\"ID\",\"Sequence\",\"Peptide\"),header=F)\n",
    "head(Pep30lib)\n",
    "\n",
    "# load data and merge with reference\n",
    "samples=c('KO5', 'WT5') # BAG6 KO and WT\n",
    "\n",
    "\n",
    "bins=c('HIGH', 'MIDHIGH','MIDLOW','LOW') # each sample sorted into 4 bins\n",
    "\n",
    "# load other data\n",
    "for (sample in samples){\n",
    "    \n",
    "    print(sample)\n",
    "    \n",
    "    for (bin in bins){\n",
    "        filename=paste(sample,'-',bin,'.count',sep='')\n",
    "        print(filename)\n",
    "        x=read.csv(filename,header=F,row.names=1,col.names=c(\"ID\",paste(sample,'-',bin,sep='')),sep='\\t')\n",
    "        Pep30lib = merge(Pep30lib,x,by=0,all=T)\n",
    "        row.names(Pep30lib) <- Pep30lib$Row.names\n",
    "        Pep30lib<- Pep30lib[-1]\n",
    "        print(head(Pep30lib))\n",
    "    }\n",
    "}\n",
    "Pep30lib[is.na(Pep30lib)] <- 0\n",
    "write.table(Pep30lib,file=\"Pep30lib-BAG6-KO-MPRA-rep2.txt\")"
   ]
  },
  {
   "cell_type": "code",
   "execution_count": 132,
   "metadata": {},
   "outputs": [
    {
     "data": {
      "text/html": [
       "<style>\n",
       ".list-inline {list-style: none; margin:0; padding: 0}\n",
       ".list-inline>li {display: inline-block}\n",
       ".list-inline>li:not(:last-child)::after {content: \"\\00b7\"; padding: 0 .5ex}\n",
       "</style>\n",
       "<ol class=list-inline><li>3661</li><li>12</li></ol>\n"
      ],
      "text/latex": [
       "\\begin{enumerate*}\n",
       "\\item 3661\n",
       "\\item 12\n",
       "\\end{enumerate*}\n"
      ],
      "text/markdown": [
       "1. 3661\n",
       "2. 12\n",
       "\n",
       "\n"
      ],
      "text/plain": [
       "[1] 3661   12"
      ]
     },
     "metadata": {},
     "output_type": "display_data"
    },
    {
     "data": {
      "text/html": [
       "<strong>PNG:</strong> 2"
      ],
      "text/latex": [
       "\\textbf{PNG:} 2"
      ],
      "text/markdown": [
       "**PNG:** 2"
      ],
      "text/plain": [
       "PNG \n",
       "  2 "
      ]
     },
     "metadata": {},
     "output_type": "display_data"
    }
   ],
   "source": [
    "# R script to analyze the BAG6 KO vs WT MPRA data\n",
    "\n",
    "rm(list = ls())  \n",
    "\n",
    "rep = 1\n",
    "\n",
    "d = read.table(paste(\"Pep30lib-BAG6-KO-MPRA-rep\",rep,\".txt\",sep=''))\n",
    "\n",
    "colnames(d) <- c(\"Sequence\",\"Peptide\",\"KO.LOW\",\"KO.MIDLOW\",\"KO.MIDHIGH\",\"KO.HIGH\",\"WT.LOW\",\"WT.MIDLOW\",\"WT.MIDHIGH\",\"WT.HIGH\")\n",
    "\n",
    "d$ID = row.names(d)\n",
    "\n",
    "# tail length\n",
    "d$tail_length = apply(as.matrix(d$Peptide),1,nchar)\n",
    "\n",
    "# only look at 30aa sequences with sufficient coverage \n",
    "min_total_count = 3000\n",
    "total_wt = d$WT.HIGH+d$WT.LOW+d$WT.MIDHIGH+d$WT.MIDLOW\n",
    "total_ko = d$KO.HIGH+d$KO.LOW+d$KO.MIDHIGH+d$KO.MIDLOW\n",
    "\n",
    "subset = (total_wt > min_total_count) & (total_ko > min_total_count) & (d$tail_length == 30)\n",
    "d=d[subset,]\n",
    "total_wt = total_wt[subset]\n",
    "total_ko = total_ko[subset]\n",
    "\n",
    "dim(d)\n",
    "\n",
    "# expression as slope\n",
    "pseudo=1\n",
    "x=1:4\n",
    "for (i in 1:nrow(d)){\n",
    "  y = as.numeric(d[i,3:6]+pseudo)\n",
    "  m = lm(y~x)\n",
    "  d$expression_ko[i] = m$coefficients[2]/min_total_count*2.5\n",
    "  d$expression_ko[i] = exp(d$expression_ko[i])/(1+exp(d$expression_ko[i]))\n",
    "  y = as.numeric(d[i,7:10]+pseudo)\n",
    "  m = lm(y~x)\n",
    "  d$expression_wt[i] = m$coefficients[2]/min_total_count*2.5\n",
    "  d$expression_wt[i] = exp(d$expression_wt[i])/(1+exp(d$expression_wt[i]))\n",
    "}\n",
    "\n",
    "prefix='Fig5-'\n",
    "if (rep != 1){\n",
    "    prefix='Ext-fig-'\n",
    "}\n",
    "               \n",
    "pdf(paste(prefix,'expression-distribution.pdf',sep=''),width=3.2,height=2.6)\n",
    "par(mar=c(4,4,1,1))\n",
    "plot(density(d$expression_ko,from=0,to=1),lwd=2,col='red',xlab='Normalized expression\\n',main='',bty='n')\n",
    "lines(density(d$expression_wt),lwd=2)\n",
    "legend('topright',c(\"WT\",\"BAG6 KO\"),text.col=c(\"black\",\"red\"),bty='n')\n",
    "dev.off()\n"
   ]
  },
  {
   "cell_type": "code",
   "execution_count": 133,
   "metadata": {},
   "outputs": [
    {
     "data": {
      "text/html": [
       "0.340311268703743"
      ],
      "text/latex": [
       "0.340311268703743"
      ],
      "text/markdown": [
       "0.340311268703743"
      ],
      "text/plain": [
       "[1] 0.3403113"
      ]
     },
     "metadata": {},
     "output_type": "display_data"
    },
    {
     "name": "stderr",
     "output_type": "stream",
     "text": [
      "Warning message in cor.test.default(hydro, d$expression_ko - d$expression_wt, method = \"s\"):\n",
      "“Cannot compute exact p-value with ties”\n"
     ]
    },
    {
     "data": {
      "text/html": [
       "<strong>PNG:</strong> 2"
      ],
      "text/latex": [
       "\\textbf{PNG:} 2"
      ],
      "text/markdown": [
       "**PNG:** 2"
      ],
      "text/plain": [
       "PNG \n",
       "  2 "
      ]
     },
     "metadata": {},
     "output_type": "display_data"
    }
   ],
   "source": [
    "\n",
    "# calculate hydrophobicity\n",
    "library(Peptides)\n",
    "hydro = hydrophobicity(d$Peptide,\"Miyazawa\")\n",
    "\n",
    "# correlation between hydrophobicity and stabilization\n",
    "pdf(paste(prefix,'hydro-vs-stabilization.pdf',sep=''),width=3.2,height=3.2)\n",
    "par(mar=c(4,4,1,1))\n",
    "plot(hydro,d$expression_ko - d$expression_wt,cex=0.3,pch=16,ylim=c(-0.25,0.7),xlab='Hydrophobicity\\n',ylab='Stabilization (expression: KO-WT)',bty='l')\n",
    "cor(hydro,d$expression_ko - d$expression_wt,method='s')\n",
    "ct=cor.test(hydro,d$expression_ko - d$expression_wt,method='s')\n",
    "legend('top',bty='n',legend=paste(\"R = \",format(ct$estimate,digits=3),\", P = \",format(ct$p.value,digits=3),sep=''))\n",
    "#abline(h=0)\n",
    "dev.off()\n"
   ]
  },
  {
   "cell_type": "code",
   "execution_count": 134,
   "metadata": {},
   "outputs": [
    {
     "data": {
      "text/html": [
       "'2e-18'"
      ],
      "text/latex": [
       "'2e-18'"
      ],
      "text/markdown": [
       "'2e-18'"
      ],
      "text/plain": [
       "[1] \"2e-18\""
      ]
     },
     "metadata": {},
     "output_type": "display_data"
    },
    {
     "data": {
      "text/html": [
       "'2e-81'"
      ],
      "text/latex": [
       "'2e-81'"
      ],
      "text/markdown": [
       "'2e-81'"
      ],
      "text/plain": [
       "[1] \"2e-81\""
      ]
     },
     "metadata": {},
     "output_type": "display_data"
    },
    {
     "data": {
      "text/html": [
       "<strong>PNG:</strong> 2"
      ],
      "text/latex": [
       "\\textbf{PNG:} 2"
      ],
      "text/markdown": [
       "**PNG:** 2"
      ],
      "text/plain": [
       "PNG \n",
       "  2 "
      ]
     },
     "metadata": {},
     "output_type": "display_data"
    }
   ],
   "source": [
    "d3 = data.frame(hydro)\n",
    "d3$group = 'none'\n",
    "unstable = d$expression_wt < 0.8\n",
    "stable = d$expression_wt >= 0.8\n",
    "stabilized    = d$expression_ko - d$expression_wt > 0\n",
    "nonstabilized = d$expression_wt - d$expression_ko >= 0\n",
    "d3$group[unstable & nonstabilized] = '1'\n",
    "d3$group[unstable & stabilized] = '0'\n",
    "d3$group[stable ] = '2'\n",
    "\n",
    "#dev.off()\n",
    "#par(cex=1,mar=c(6,8,1,1))\n",
    "#vioplot(hydro~group,data=d3,col=rgb(0.1,0.4,0.7,0.7),horizontal = T,axes=F,xaxt='n',drawRect=T,ylab='',xlab='Hydrophobicity')\n",
    "#axis(2,c(1,2,3),c(paste('Unstable\\nStabilized\\nN=',sum(unstable & stabilized),sep=''),\n",
    "#                  paste('Unstable\\nNonstabilized\\nN=',sum(unstable & nonstabilized),sep=''),\n",
    "#                  paste('Stable\\nN=',sum(stable),sep='')),las=1)\n",
    "\n",
    "test = wilcox.test(hydro[unstable & nonstabilized],hydro[unstable & stabilized])\n",
    "format(test$p.value,digits=1)\n",
    "\n",
    "test = wilcox.test(hydro[stable],hydro[unstable & nonstabilized])\n",
    "format(test$p.value,digits=1)\n",
    "\n",
    "#dev.off()\n",
    "pdf(paste(prefix,'stable-stabilized-nonstabilized.pdf',sep=''),width=5,height=3.5)\n",
    "par(cex=1,mar=c(4,4,1,1))\n",
    "plot(density(hydro[stable]),xlim=c(3.5,8.5),bty='l',main='',xlab='Hydrophobicity\\n')\n",
    "lines(density(hydro[unstable & stabilized]),col='blue')\n",
    "lines(density(hydro[unstable & nonstabilized]),col='red')\n",
    "legend('topright',legend=c(paste('Stabilized, N=',sum(unstable & stabilized),sep=''),\n",
    "                           paste('Nonstabilized, N=',sum(unstable & nonstabilized),sep=''),\n",
    "                           paste('Stable, N=',sum(stable),sep='') ),\n",
    "       ,text.col=c('blue','red','black'),box.lwd=0,bty='n')\n",
    "dev.off()"
   ]
  }
 ],
 "metadata": {
  "kernelspec": {
   "display_name": "R",
   "language": "R",
   "name": "ir"
  },
  "language_info": {
   "codemirror_mode": "r",
   "file_extension": ".r",
   "mimetype": "text/x-r-source",
   "name": "R",
   "pygments_lexer": "r",
   "version": "4.0.0"
  }
 },
 "nbformat": 4,
 "nbformat_minor": 4
}
