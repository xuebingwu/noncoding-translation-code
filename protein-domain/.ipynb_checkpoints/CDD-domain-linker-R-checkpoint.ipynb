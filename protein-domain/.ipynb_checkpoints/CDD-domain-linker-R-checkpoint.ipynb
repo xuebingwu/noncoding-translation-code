{
 "cells": [
  {
   "cell_type": "code",
   "execution_count": 22,
   "metadata": {},
   "outputs": [],
   "source": [
    "options(warn=-1)\n",
    "\n",
    "x=read.table('linkers.txt')\n",
    "colnames(x) = c('seq','len','id','pos')"
   ]
  },
  {
   "cell_type": "code",
   "execution_count": 23,
   "metadata": {},
   "outputs": [
    {
     "data": {
      "text/html": [
       "<table class=\"dataframe\">\n",
       "<caption>A data.frame: 6 × 4</caption>\n",
       "<thead>\n",
       "\t<tr><th></th><th scope=col>seq</th><th scope=col>len</th><th scope=col>id</th><th scope=col>pos</th></tr>\n",
       "\t<tr><th></th><th scope=col>&lt;chr&gt;</th><th scope=col>&lt;int&gt;</th><th scope=col>&lt;chr&gt;</th><th scope=col>&lt;chr&gt;</th></tr>\n",
       "</thead>\n",
       "<tbody>\n",
       "\t<tr><th scope=row>1</th><td>PLPFPGPFPAGPLAVAGGPRKTAAPVNAL                                                                                                                                                 </td><td> 29</td><td>ENSP00000384851</td><td>168-197  </td></tr>\n",
       "\t<tr><th scope=row>2</th><td>QAYGAACADCCLARDPYCAWDGQACSRYTASSKRRSRRQDVRHGNPIRQCRGFNSNANKNA                                                                                                                 </td><td> 61</td><td>ENSP00000409859</td><td>517-578  </td></tr>\n",
       "\t<tr><th scope=row>3</th><td>DFLQKQEYKTLEYNLTT                                                                                                                                                             </td><td> 17</td><td>ENSP00000514471</td><td>372-389  </td></tr>\n",
       "\t<tr><th scope=row>4</th><td>LEGDAPVSWTETKKQSFKQTGEFGEKRKNSILNPINSIRKFSIVQKTPLQMNGIEEDSDEPLERRLSLVPDSEQGEAILPRISVISTGPTLQARRRQSVLNLMTHSVNQGQNIHRKTTASTRKVSLAPQANLTELDIYSRRLSQETGLEISEEINEEDLKECFFDDMESIPAVT</td><td>174</td><td>ENSP00000514471</td><td>670-844  </td></tr>\n",
       "\t<tr><th scope=row>5</th><td>DMPTEGKPTKSTKPYKNGQLSKVMIIENSHVKKDDIWPSGG                                                                                                                                     </td><td> 41</td><td>ENSP00000514473</td><td>1025-1066</td></tr>\n",
       "\t<tr><th scope=row>6</th><td>EPSQDTVATEPSEVEGSAANKEVLAKVIDLTHDNKDDLQAAIALSLLESPKIQADGRDLNRMHEATSAETKRSKRKRCEVWGENPNPNDWRRVDGWPVG                                                                           </td><td> 99</td><td>ENSP00000513009</td><td>64-163   </td></tr>\n",
       "</tbody>\n",
       "</table>\n"
      ],
      "text/latex": [
       "A data.frame: 6 × 4\n",
       "\\begin{tabular}{r|llll}\n",
       "  & seq & len & id & pos\\\\\n",
       "  & <chr> & <int> & <chr> & <chr>\\\\\n",
       "\\hline\n",
       "\t1 & PLPFPGPFPAGPLAVAGGPRKTAAPVNAL                                                                                                                                                  &  29 & ENSP00000384851 & 168-197  \\\\\n",
       "\t2 & QAYGAACADCCLARDPYCAWDGQACSRYTASSKRRSRRQDVRHGNPIRQCRGFNSNANKNA                                                                                                                  &  61 & ENSP00000409859 & 517-578  \\\\\n",
       "\t3 & DFLQKQEYKTLEYNLTT                                                                                                                                                              &  17 & ENSP00000514471 & 372-389  \\\\\n",
       "\t4 & LEGDAPVSWTETKKQSFKQTGEFGEKRKNSILNPINSIRKFSIVQKTPLQMNGIEEDSDEPLERRLSLVPDSEQGEAILPRISVISTGPTLQARRRQSVLNLMTHSVNQGQNIHRKTTASTRKVSLAPQANLTELDIYSRRLSQETGLEISEEINEEDLKECFFDDMESIPAVT & 174 & ENSP00000514471 & 670-844  \\\\\n",
       "\t5 & DMPTEGKPTKSTKPYKNGQLSKVMIIENSHVKKDDIWPSGG                                                                                                                                      &  41 & ENSP00000514473 & 1025-1066\\\\\n",
       "\t6 & EPSQDTVATEPSEVEGSAANKEVLAKVIDLTHDNKDDLQAAIALSLLESPKIQADGRDLNRMHEATSAETKRSKRKRCEVWGENPNPNDWRRVDGWPVG                                                                            &  99 & ENSP00000513009 & 64-163   \\\\\n",
       "\\end{tabular}\n"
      ],
      "text/markdown": [
       "\n",
       "A data.frame: 6 × 4\n",
       "\n",
       "| <!--/--> | seq &lt;chr&gt; | len &lt;int&gt; | id &lt;chr&gt; | pos &lt;chr&gt; |\n",
       "|---|---|---|---|---|\n",
       "| 1 | PLPFPGPFPAGPLAVAGGPRKTAAPVNAL                                                                                                                                                  |  29 | ENSP00000384851 | 168-197   |\n",
       "| 2 | QAYGAACADCCLARDPYCAWDGQACSRYTASSKRRSRRQDVRHGNPIRQCRGFNSNANKNA                                                                                                                  |  61 | ENSP00000409859 | 517-578   |\n",
       "| 3 | DFLQKQEYKTLEYNLTT                                                                                                                                                              |  17 | ENSP00000514471 | 372-389   |\n",
       "| 4 | LEGDAPVSWTETKKQSFKQTGEFGEKRKNSILNPINSIRKFSIVQKTPLQMNGIEEDSDEPLERRLSLVPDSEQGEAILPRISVISTGPTLQARRRQSVLNLMTHSVNQGQNIHRKTTASTRKVSLAPQANLTELDIYSRRLSQETGLEISEEINEEDLKECFFDDMESIPAVT | 174 | ENSP00000514471 | 670-844   |\n",
       "| 5 | DMPTEGKPTKSTKPYKNGQLSKVMIIENSHVKKDDIWPSGG                                                                                                                                      |  41 | ENSP00000514473 | 1025-1066 |\n",
       "| 6 | EPSQDTVATEPSEVEGSAANKEVLAKVIDLTHDNKDDLQAAIALSLLESPKIQADGRDLNRMHEATSAETKRSKRKRCEVWGENPNPNDWRRVDGWPVG                                                                            |  99 | ENSP00000513009 | 64-163    |\n",
       "\n"
      ],
      "text/plain": [
       "  seq                                                                                                                                                                           \n",
       "1 PLPFPGPFPAGPLAVAGGPRKTAAPVNAL                                                                                                                                                 \n",
       "2 QAYGAACADCCLARDPYCAWDGQACSRYTASSKRRSRRQDVRHGNPIRQCRGFNSNANKNA                                                                                                                 \n",
       "3 DFLQKQEYKTLEYNLTT                                                                                                                                                             \n",
       "4 LEGDAPVSWTETKKQSFKQTGEFGEKRKNSILNPINSIRKFSIVQKTPLQMNGIEEDSDEPLERRLSLVPDSEQGEAILPRISVISTGPTLQARRRQSVLNLMTHSVNQGQNIHRKTTASTRKVSLAPQANLTELDIYSRRLSQETGLEISEEINEEDLKECFFDDMESIPAVT\n",
       "5 DMPTEGKPTKSTKPYKNGQLSKVMIIENSHVKKDDIWPSGG                                                                                                                                     \n",
       "6 EPSQDTVATEPSEVEGSAANKEVLAKVIDLTHDNKDDLQAAIALSLLESPKIQADGRDLNRMHEATSAETKRSKRKRCEVWGENPNPNDWRRVDGWPVG                                                                           \n",
       "  len id              pos      \n",
       "1  29 ENSP00000384851 168-197  \n",
       "2  61 ENSP00000409859 517-578  \n",
       "3  17 ENSP00000514471 372-389  \n",
       "4 174 ENSP00000514471 670-844  \n",
       "5  41 ENSP00000514473 1025-1066\n",
       "6  99 ENSP00000513009 64-163   "
      ]
     },
     "metadata": {},
     "output_type": "display_data"
    },
    {
     "data": {
      "text/html": [
       "4712"
      ],
      "text/latex": [
       "4712"
      ],
      "text/markdown": [
       "4712"
      ],
      "text/plain": [
       "[1] 4712"
      ]
     },
     "metadata": {},
     "output_type": "display_data"
    },
    {
     "data": {
      "image/png": "[encoded data removed]",
      "text/plain": [
       "plot without title"
      ]
     },
     "metadata": {
      "image/png": {
       "height": 420,
       "width": 420
      }
     },
     "output_type": "display_data"
    },
    {
     "data": {
      "image/png": "[encoded data removed]",
      "text/plain": [
       "plot without title"
      ]
     },
     "metadata": {
      "image/png": {
       "height": 420,
       "width": 420
      }
     },
     "output_type": "display_data"
    }
   ],
   "source": [
    "head(x)\n",
    "length(unique(x$id))\n",
    "plot(table(x$len),log='x')\n",
    "plot(table(x$len),xlim=c(0,100))"
   ]
  },
  {
   "cell_type": "code",
   "execution_count": 24,
   "metadata": {},
   "outputs": [],
   "source": [
    "\n",
    "library(Peptides)\n",
    "\n",
    "# a function returning per residue average hydrophobicity for a group of sequences of varying length as well as the number of sequences counted at each position\n",
    "# seqs: a list of sequences\n",
    "# L_max: take the last L_max residues for very long sequences\n",
    "# L_min: only consider sequences at least L_min aa long.\n",
    "# if a sequence is shorter than L_max, fill the beginning with 'x', which will not be used for calculating average hydrophobicity at that position\n",
    "avg_hydrophobicity_per_position <-function(seqs,L_max,L_min,hydrophobicity_scale){\n",
    "  H <- rep(0,L_max) # hydrophobicity at each position\n",
    "  N <- rep(0,L_max) # count of sequence at each position\n",
    "  i=0\n",
    "  for(seq in seqs){\n",
    "    # print progress for every 1000\n",
    "    i=i+1\n",
    "    if (i%%100==0) {\n",
    "      print(i)\n",
    "    }\n",
    "    \n",
    "    if(nchar(seq) >= L_min){\n",
    "      seq = paste(paste(rep('x',L_max),collapse=''),seq,sep='')\n",
    "      seq = substr(seq,nchar(seq)-L_max+1,nchar(seq))\n",
    "      hi = hydrophobicity(unlist(strsplit(seq,'')),hydrophobicity_scale) \n",
    "      H = H + hi \n",
    "      N = as.numeric(N) + as.numeric(hi!=0)\n",
    "    }\n",
    "  }\n",
    "  H = H/N\n",
    "  return(list(H,N))\n",
    "}\n",
    "\n",
    "# same as above but look at N-term\n",
    "avg_hydrophobicity_per_position_nterm <-function(seqs,L_max,L_min,hydrophobicity_scale){\n",
    "  H <- rep(0,L_max) # hydrophobicity at each position\n",
    "  N <- rep(0,L_max) # count of sequence at each position\n",
    "  i=0\n",
    "  for(seq in seqs){\n",
    "    # print progress for every 1000\n",
    "    i=i+1\n",
    "    if (i%%100==0) {\n",
    "      print(i)\n",
    "    }\n",
    "    \n",
    "    if(nchar(seq) >= L_min){\n",
    "      seq = paste(seq,paste(rep('x',L_max),collapse=''),sep='') # changed\n",
    "      seq = substr(seq,1,L_max) # changed\n",
    "      hi = hydrophobicity(unlist(strsplit(seq,'')),hydrophobicity_scale) \n",
    "      H = H + hi \n",
    "      N = as.numeric(N) + as.numeric(hi!=0)\n",
    "    }\n",
    "  }\n",
    "  H = H/N\n",
    "  return(list(H,N))\n",
    "}\n",
    "\n",
    "L_max=100\n",
    "L_min=30\n",
    "hydrophobicity_scale = 'Miyazawa' "
   ]
  },
  {
   "cell_type": "code",
   "execution_count": 25,
   "metadata": {},
   "outputs": [
    {
     "name": "stdout",
     "output_type": "stream",
     "text": [
      "[1] 1000\n",
      "[1] 2000\n",
      "[1] 3000\n",
      "[1] 4000\n",
      "[1] 5000\n",
      "[1] 6000\n",
      "[1] 7000\n",
      "[1] 8000\n",
      "[1] 9000\n"
     ]
    }
   ],
   "source": [
    "hydro = avg_hydrophobicity_per_position_nterm(x$seq,L_max,L_min,hydrophobicity_scale)"
   ]
  },
  {
   "cell_type": "code",
   "execution_count": 20,
   "metadata": {},
   "outputs": [
    {
     "data": {
      "text/html": [
       "5.53125"
      ],
      "text/latex": [
       "5.53125"
      ],
      "text/markdown": [
       "5.53125"
      ],
      "text/plain": [
       "[1] 5.53125"
      ]
     },
     "metadata": {},
     "output_type": "display_data"
    }
   ],
   "source": [
    "hydrophobicity(x$seq[63],hydrophobicity_scale)"
   ]
  },
  {
   "cell_type": "code",
   "execution_count": null,
   "metadata": {},
   "outputs": [],
   "source": []
  }
 ],
 "metadata": {
  "kernelspec": {
   "display_name": "R",
   "language": "R",
   "name": "ir"
  },
  "language_info": {
   "codemirror_mode": "r",
   "file_extension": ".r",
   "mimetype": "text/x-r-source",
   "name": "R",
   "pygments_lexer": "r",
   "version": "4.0.0"
  }
 },
 "nbformat": 4,
 "nbformat_minor": 4
}
