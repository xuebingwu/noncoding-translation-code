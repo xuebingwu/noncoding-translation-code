{
 "cells": [
  {
   "cell_type": "code",
   "execution_count": 16,
   "id": "9be6bb7a-8cce-4ec2-8052-f5eabe2fbc40",
   "metadata": {
    "tags": []
   },
   "outputs": [
    {
     "data": {
      "text/html": [
       "<strong>PNG:</strong> 2"
      ],
      "text/latex": [
       "\\textbf{PNG:} 2"
      ],
      "text/markdown": [
       "**PNG:** 2"
      ],
      "text/plain": [
       "PNG \n",
       "  2 "
      ]
     },
     "metadata": {},
     "output_type": "display_data"
    }
   ],
   "source": [
    "\n",
    "# SMAD4\n",
    "\n",
    "setwd(\"/home/xw2629/noncoding_translation/noncoding-translation-code/flow-cytometry/ext-fig-SMAD4/\")\n",
    "\n",
    "source('../shared_function.r')\n",
    "\n",
    "pdf(\"ext-fig-SMAD4.pdf\",width=2,height=2.5)\n",
    "\n",
    "system('gunzip *')\n",
    "\n",
    "par(mfrow=c(5,1),mar=c(0,0,0,0))\n",
    "\n",
    "mCherry_min=500\n",
    "a = density_plot_pairwise('A2 2_HEK_STOP_500.fcs.csv','A3 3_HEK_CTERM_500.fcs.csv',mCherry_min,-3,1,0)\n",
    "a = density_plot_pairwise('B2 7_3E5_STOP_500.fcs.csv','B3 8_3E5_CTERM_500.fcs.csv',mCherry_min,-3,1,0)\n",
    "a = density_plot_pairwise('Specimen1_C2_10_RN064D8_SMAD4-STOP.fcs.csv','Specimen1_C3_11_RN064D8_SMAD4-CTERM.fcs.csv',mCherry_min,-3,1,1)\n",
    "\n",
    "dev.off()\n",
    "\n",
    "\n",
    "\n",
    "#system('gzip *.csv')\n",
    "setwd(\"../\")\n",
    "\n"
   ]
  },
  {
   "cell_type": "code",
   "execution_count": null,
   "id": "731afb86-4b65-451f-b12d-09e19a6ca99a",
   "metadata": {},
   "outputs": [],
   "source": []
  }
 ],
 "metadata": {
  "kernelspec": {
   "display_name": "R",
   "language": "R",
   "name": "ir"
  },
  "language_info": {
   "codemirror_mode": "r",
   "file_extension": ".r",
   "mimetype": "text/x-r-source",
   "name": "R",
   "pygments_lexer": "r",
   "version": "4.0.0"
  }
 },
 "nbformat": 4,
 "nbformat_minor": 5
}
