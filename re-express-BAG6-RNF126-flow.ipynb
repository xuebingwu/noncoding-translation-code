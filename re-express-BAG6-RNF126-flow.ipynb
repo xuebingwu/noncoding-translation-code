{
 "cells": [
  {
   "cell_type": "code",
   "execution_count": 25,
   "id": "0106770f-d928-4dcc-8b2a-d092369886b2",
   "metadata": {
    "tags": []
   },
   "outputs": [
    {
     "name": "stdout",
     "output_type": "stream",
     "text": [
      "[1] \"2022-11-07 BA 1-10 HEK293T-BA NONE STOP.csv\"\n",
      "[1] \"2022-11-07 BA 1-10 HEK293T-BA BAG6 STOP.csv\"\n",
      "[1] \"2022-11-07 BA 1-10 HEK293T-BA BAG6-UBL STOP.csv\"\n",
      "[1] \"2022-11-10 RN 1-10 HEK293T-RN NONE STOP.csv\"\n",
      "[1] \"2022-11-10 RN 1-10 HEK293T-RN RNF126 STOP.csv\"\n",
      "[1] \"2022-11-10 RN 1-10 HEK293T-RN RNF126-C237A STOP.csv\"\n"
     ]
    }
   ],
   "source": [
    "# expressing BAG6 and RNF126, 10x less plasmid, same day transfection\n",
    "\n",
    "setwd(\"/home/xw2629/noncoding_translation/noncoding-translation-code/flow-cytometry/re-express-BAG6-RNF126/\")\n",
    "\n",
    "source('../shared_function.r')\n",
    "\n",
    "cells=c('HEK293T-BA','HEK293T-RN')\n",
    "\n",
    "system('gunzip *')\n",
    "\n",
    "for (cell in cells){\n",
    "    \n",
    "    tag=''\n",
    "    if (cell == 'HEK293T-BA'){\n",
    "        day='2022-11-07'\n",
    "        overexpressed=c('NONE','BAG6','BAG6-UBL')\n",
    "        tag='BA'\n",
    "    } else if (cell == 'HEK293T-RN') {\n",
    "        day = '2022-11-10'\n",
    "        overexpressed=c('NONE','RNF126','RNF126-C237A')\n",
    "        tag='RN'\n",
    "    }\n",
    "    \n",
    "    filename=paste('ext-fig-bag6-rnf126-0.1x-overexpression-',cell,'.pdf',sep='')\n",
    "    pdf(filename,width=2.5,height=2.2)\n",
    "    par(mfrow=c(4,1),mar=c(0,0,0,0))\n",
    "    \n",
    "    for (i in 1:3){\n",
    "        gene = overexpressed[i]\n",
    "        ticks=0\n",
    "        if (i==3){\n",
    "            ticks=1\n",
    "            }\n",
    "        # for each gene over expression\n",
    "        stopfile= paste(day,tag,'1-10',cell,gene,'STOP.csv',sep=' ')\n",
    "        ctermfile=paste(day,tag,'1-10',cell,gene,'CTERM.csv',sep=' ')\n",
    "        if(file.exists(stopfile)){\n",
    "            print(stopfile)\n",
    "            res = density_plot_pairwise(stopfile,ctermfile,1000,-2,1,0,gene) \n",
    "        } else {\n",
    "            print(paste(stopfile,'not found!!!!'))\n",
    "            }\n",
    "        if (i==3)\n",
    "        {\n",
    "            axis(1,at= -2:1,c(0.01,0.1,1,10))\n",
    "        }\n",
    "    }\n",
    "    dev.off()\n",
    "}\n",
    "\n",
    "system(\"gzip *.csv\")"
   ]
  },
  {
   "cell_type": "code",
   "execution_count": null,
   "id": "e0d9b90f-b2ad-4cd5-8932-09df06187909",
   "metadata": {},
   "outputs": [],
   "source": []
  }
 ],
 "metadata": {
  "kernelspec": {
   "display_name": "R",
   "language": "R",
   "name": "ir"
  },
  "language_info": {
   "codemirror_mode": "r",
   "file_extension": ".r",
   "mimetype": "text/x-r-source",
   "name": "R",
   "pygments_lexer": "r",
   "version": "4.0.0"
  }
 },
 "nbformat": 4,
 "nbformat_minor": 5
}
