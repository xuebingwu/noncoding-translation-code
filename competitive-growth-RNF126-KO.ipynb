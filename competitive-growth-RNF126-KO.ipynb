{
 "cells": [
  {
   "cell_type": "code",
   "execution_count": 4,
   "metadata": {},
   "outputs": [],
   "source": [
    "# original data in Jordan's path\n",
    "# /home/kesner/wetlab_data/Sanger/2022-10-19_RNF126_competitive-growth\n"
   ]
  },
  {
   "cell_type": "code",
   "execution_count": 16,
   "metadata": {
    "collapsed": true,
    "jupyter": {
     "outputs_hidden": true
    }
   },
   "outputs": [
    {
     "name": "stderr",
     "output_type": "stream",
     "text": [
      "'getOption(\"repos\")' replaces Bioconductor standard repositories, see\n",
      "'?repositories' for details\n",
      "\n",
      "replacement repositories:\n",
      "    CRAN: https://cran.r-project.org\n",
      "\n",
      "\n",
      "Bioconductor version 3.12 (BiocManager 1.30.18), R 4.0.0 (2020-04-24)\n",
      "\n",
      "Warning message:\n",
      "“package(s) not installed when version(s) same as current; use `force = TRUE` to\n",
      "  re-install: 'sangerseqR'”\n",
      "Installation paths not writeable, unable to update packages\n",
      "  path: /usr/local/lib/R/library\n",
      "  packages:\n",
      "    boot, bslib, callr, class, cli, cluster, codetools, commonmark, cpp11,\n",
      "    crayon, curl, data.table, desc, digest, dplyr, enrichR, evaluate, farver,\n",
      "    fontawesome, foreign, future, future.apply, generics, ggridges, globals,\n",
      "    gtable, gtools, hdf5r, htmltools, httpuv, httr, ica, igraph, irlba,\n",
      "    isoband, jsonlite, kernlab, KernSmooth, lattice, leiden, lifecycle, MASS,\n",
      "    Matrix, MatrixModels, mgcv, mnormt, multcomp, nlme, nnet, openssl,\n",
      "    parallelly, patchwork, pillar, pkgload, polyclip, processx, progressr, ps,\n",
      "    purrr, quantreg, rbibutils, Rcpp, RcppArmadillo, Rdpack, reticulate, rpart,\n",
      "    rstudioapi, sandwich, sass, scales, sctransform, segmented, shiny, sn, sp,\n",
      "    spatial, spatstat.data, spatstat.sparse, spatstat.utils, stringi, stringr,\n",
      "    survival, sys, testthat, tibble, tidyr, tidyselect, uwot, vctrs, VGAM,\n",
      "    viridisLite, yaml, zoo\n",
      "  path: /usr/local/lib/R/site-library\n",
      "  packages:\n",
      "    brew, gert, gh, gitcreds, rlang, rmarkdown, tinytex, xfun, zip\n",
      "\n",
      "Installing package into ‘/home/xw2629/R/x86_64-pc-linux-gnu-library/4.0’\n",
      "(as ‘lib’ is unspecified)\n",
      "\n"
     ]
    }
   ],
   "source": [
    "# install required R packages\n",
    "\n",
    "if (!require(\"BiocManager\", quietly = TRUE))\n",
    "    install.packages(\"BiocManager\")\n",
    "\n",
    "BiocManager::install(\"sangerseqR\")\n",
    "\n",
    "# also need Biostrings and nnls\n",
    "install.packages('nnls')\n",
    "\n",
    "source('./SangerSeq.r')\n"
   ]
  },
  {
   "cell_type": "code",
   "execution_count": 60,
   "metadata": {},
   "outputs": [
    {
     "name": "stderr",
     "output_type": "stream",
     "text": [
      "Warning message in Rsq * 100 * (NNFIT$x/sum(NNFIT$x)):\n",
      "“Recycling array of length 1 in array-vector arithmetic is deprecated.\n",
      "  Use c() or as.vector() instead.\n",
      "”\n"
     ]
    },
    {
     "data": {
      "text/plain": [
       "$name\n",
       "[1] \"./2022-10-19_RNF126_competitive-growth/Sanger_sequencing_trace_Results_1134821/206A_009_9_ss-RNF126-6-v10_A02.ab1\"\n",
       "\n",
       "$Perc\n",
       "                                                                                                                  percentage\n",
       "./2022-10-19_RNF126_competitive-growth/Sanger_sequencing_trace_Results_1134821/206A_003_3_ss-RNF126-6-v10_C01.ab1       81.8\n",
       "./2022-10-19_RNF126_competitive-growth/Sanger_sequencing_trace_Results_1134821/206A_004_4_ss-RNF126-6-v10_D01.ab1       16.4\n",
       "                                                                                                                  pvalue\n",
       "./2022-10-19_RNF126_competitive-growth/Sanger_sequencing_trace_Results_1134821/206A_003_3_ss-RNF126-6-v10_C01.ab1      0\n",
       "./2022-10-19_RNF126_competitive-growth/Sanger_sequencing_trace_Results_1134821/206A_004_4_ss-RNF126-6-v10_D01.ab1      0\n",
       "\n",
       "$pv\n",
       "peak_height_as_vector peak_height_as_vector \n",
       "                    0                     0 \n",
       "\n",
       "$NNFIT\n",
       "Nonnegative least squares model\n",
       "x estimates: 0.7859298 0.1572129 \n",
       "residual sum-of-squares: 3094323\n",
       "reason terminated: The solution has been computed sucessfully.\n",
       "\n",
       "$R2\n",
       "          [,1]\n",
       "[1,] 0.9821133\n"
      ]
     },
     "metadata": {},
     "output_type": "display_data"
    }
   ],
   "source": [
    "# test a specific file\n",
    "\n",
    "sanger_folder='./2022-10-19_RNF126_competitive-growth/Sanger_sequencing_trace_Results_1134821/'\n",
    "wt_file='206A_003_3_ss-RNF126-6-v10_C01.ab1'\n",
    "ko_file='206A_004_4_ss-RNF126-6-v10_D01.ab1'\n",
    "\n",
    "wt_file = paste(sanger_folder,wt_file,sep='')\n",
    "ko_file = paste(sanger_folder,ko_file,sep='')\n",
    "\n",
    "mix_file=\"206A_007_7_ss-RNF126-6-v10_G01.ab1\"\n",
    "mix_file=\"206A_024_24_ss-RNF126-6-v10_H03.ab1\"\n",
    "#mix_file=\"206A_023_23_ss-RNF126-6-v10_G03.ab1\"\n",
    "mix_file=\"206A_009_9_ss-RNF126-6-v10_A02.ab1\"\n",
    "mix_file=paste(sanger_folder,mix_file,sep='')\n",
    "\n",
    "decomposition(c(wt_file,ko_file),mix_file,'TCTCCACGGAGCAGCAGT',300);\n"
   ]
  },
  {
   "cell_type": "code",
   "execution_count": 70,
   "metadata": {
    "collapsed": true,
    "jupyter": {
     "outputs_hidden": true
    }
   },
   "outputs": [
    {
     "name": "stdout",
     "output_type": "stream",
     "text": [
      "[1] \"206A_001_1_ss-RNF126-6-v10_A01.ab1\"\n",
      "[1] \"no end_of_common_seq found in:  TGCCCCCGGCCAACACATTTTTTTTCCCTAGTGTAATTCCATAAAAAACGTTTGTAACGAAACCACCTCTGCCCCGGTCTTTCTTTTGCCTGTGTCGAAACTGCCGCCCTACCTCTCCTCCCGGGCCTCACCCGTTGGGGGTTGGAATCTCCACAGAACCAAAATGGGAAAAGTAACGTCCGGGATGCGGGGACCCCTCCCCTTGGGCGCCGTCACCTAATCTCGGCCGCCCGTCCCCCGGGCGGTAACCCCCGCCGGCCGTTTGTTGCTCCTTCCCCGGTCGAAGCCCCCGCCCACTTTCATTAACGGTACTCATGGTACTTGGGGGGGAACGGGGGGGCGGGAGCGGTAAAAAAGTTTACTATGTGGGAAGCGGCCCGGCCGAGGGCGGCCGCTAAAAAAAAAAAAACATCGGTCTTTTCTTGTGTCTTAAATCGGGGGAGGGGTTTTATCTGGGAGGGGTCAATACAAGTGCTGATCAAAAAAAATAGGTGTTCTGTGTGGAGGGGTATGTTCTATTTCTTCATCTATTCGACATCGTTTTTGTC \\n end_of_common_seq: TCTCCACGGAGCAGCAGT\"\n",
      "NULL\n",
      "[1] \"206A_002_2_ss-RNF126-6-v10_B01.ab1\"\n"
     ]
    },
    {
     "name": "stderr",
     "output_type": "stream",
     "text": [
      "Warning message in Rsq * 100 * (NNFIT$x/sum(NNFIT$x)):\n",
      "“Recycling array of length 1 in array-vector arithmetic is deprecated.\n",
      "  Use c() or as.vector() instead.\n",
      "”\n"
     ]
    },
    {
     "name": "stdout",
     "output_type": "stream",
     "text": [
      "[1] 80.2 10.1\n",
      "[1] \"206A_003_3_ss-RNF126-6-v10_C01.ab1\"\n"
     ]
    },
    {
     "name": "stderr",
     "output_type": "stream",
     "text": [
      "Warning message in Rsq * 100 * (NNFIT$x/sum(NNFIT$x)):\n",
      "“Recycling array of length 1 in array-vector arithmetic is deprecated.\n",
      "  Use c() or as.vector() instead.\n",
      "”\n"
     ]
    },
    {
     "name": "stdout",
     "output_type": "stream",
     "text": [
      "[1] 100   0\n",
      "[1] \"206A_004_4_ss-RNF126-6-v10_D01.ab1\"\n"
     ]
    },
    {
     "name": "stderr",
     "output_type": "stream",
     "text": [
      "Warning message in Rsq * 100 * (NNFIT$x/sum(NNFIT$x)):\n",
      "“Recycling array of length 1 in array-vector arithmetic is deprecated.\n",
      "  Use c() or as.vector() instead.\n",
      "”\n"
     ]
    },
    {
     "name": "stdout",
     "output_type": "stream",
     "text": [
      "[1]   0 100\n",
      "[1] \"206A_005_5_ss-RNF126-6-v10_E01.ab1\"\n"
     ]
    },
    {
     "name": "stderr",
     "output_type": "stream",
     "text": [
      "Warning message in Rsq * 100 * (NNFIT$x/sum(NNFIT$x)):\n",
      "“Recycling array of length 1 in array-vector arithmetic is deprecated.\n",
      "  Use c() or as.vector() instead.\n",
      "”\n"
     ]
    },
    {
     "name": "stdout",
     "output_type": "stream",
     "text": [
      "[1]  0.7 97.9\n",
      "[1] \"206A_006_6_ss-RNF126-6-v10_F01.ab1\"\n"
     ]
    },
    {
     "name": "stderr",
     "output_type": "stream",
     "text": [
      "Warning message in Rsq * 100 * (NNFIT$x/sum(NNFIT$x)):\n",
      "“Recycling array of length 1 in array-vector arithmetic is deprecated.\n",
      "  Use c() or as.vector() instead.\n",
      "”\n"
     ]
    },
    {
     "name": "stdout",
     "output_type": "stream",
     "text": [
      "[1] 23.5 71.6\n",
      "[1] \"206A_007_7_ss-RNF126-6-v10_G01.ab1\"\n"
     ]
    },
    {
     "name": "stderr",
     "output_type": "stream",
     "text": [
      "Warning message in Rsq * 100 * (NNFIT$x/sum(NNFIT$x)):\n",
      "“Recycling array of length 1 in array-vector arithmetic is deprecated.\n",
      "  Use c() or as.vector() instead.\n",
      "”\n"
     ]
    },
    {
     "name": "stdout",
     "output_type": "stream",
     "text": [
      "[1] 73.5 23.6\n",
      "[1] \"206A_008_8_ss-RNF126-6-v10_H01.ab1\"\n"
     ]
    },
    {
     "name": "stderr",
     "output_type": "stream",
     "text": [
      "Warning message in Rsq * 100 * (NNFIT$x/sum(NNFIT$x)):\n",
      "“Recycling array of length 1 in array-vector arithmetic is deprecated.\n",
      "  Use c() or as.vector() instead.\n",
      "”\n"
     ]
    },
    {
     "name": "stdout",
     "output_type": "stream",
     "text": [
      "[1] 70.3 26.7\n",
      "[1] \"206A_009_9_ss-RNF126-6-v10_A02.ab1\"\n"
     ]
    },
    {
     "name": "stderr",
     "output_type": "stream",
     "text": [
      "Warning message in Rsq * 100 * (NNFIT$x/sum(NNFIT$x)):\n",
      "“Recycling array of length 1 in array-vector arithmetic is deprecated.\n",
      "  Use c() or as.vector() instead.\n",
      "”\n"
     ]
    },
    {
     "name": "stdout",
     "output_type": "stream",
     "text": [
      "[1] 81.7 16.3\n",
      "[1] \"206A_010_10_ss-RNF126-6-v10_B02.ab1\"\n"
     ]
    },
    {
     "name": "stderr",
     "output_type": "stream",
     "text": [
      "Warning message in Rsq * 100 * (NNFIT$x/sum(NNFIT$x)):\n",
      "“Recycling array of length 1 in array-vector arithmetic is deprecated.\n",
      "  Use c() or as.vector() instead.\n",
      "”\n"
     ]
    },
    {
     "name": "stdout",
     "output_type": "stream",
     "text": [
      "[1] 81.4 16.1\n",
      "[1] \"206A_011_11_ss-RNF126-6-v10_C02.ab1\"\n"
     ]
    },
    {
     "name": "stderr",
     "output_type": "stream",
     "text": [
      "Warning message in Rsq * 100 * (NNFIT$x/sum(NNFIT$x)):\n",
      "“Recycling array of length 1 in array-vector arithmetic is deprecated.\n",
      "  Use c() or as.vector() instead.\n",
      "”\n"
     ]
    },
    {
     "name": "stdout",
     "output_type": "stream",
     "text": [
      "[1] 80.4 17.3\n",
      "[1] \"206A_012_12_ss-RNF126-6-v10_D02.ab1\"\n"
     ]
    },
    {
     "name": "stderr",
     "output_type": "stream",
     "text": [
      "Warning message in Rsq * 100 * (NNFIT$x/sum(NNFIT$x)):\n",
      "“Recycling array of length 1 in array-vector arithmetic is deprecated.\n",
      "  Use c() or as.vector() instead.\n",
      "”\n"
     ]
    },
    {
     "name": "stdout",
     "output_type": "stream",
     "text": [
      "[1] 80.3 17.1\n",
      "[1] \"206A_013_13_ss-RNF126-6-v10_E02.ab1\"\n"
     ]
    },
    {
     "name": "stderr",
     "output_type": "stream",
     "text": [
      "Warning message in Rsq * 100 * (NNFIT$x/sum(NNFIT$x)):\n",
      "“Recycling array of length 1 in array-vector arithmetic is deprecated.\n",
      "  Use c() or as.vector() instead.\n",
      "”\n"
     ]
    },
    {
     "name": "stdout",
     "output_type": "stream",
     "text": [
      "[1] 85.7 12.2\n",
      "[1] \"206A_014_14_ss-RNF126-6-v10_F02.ab1\"\n"
     ]
    },
    {
     "name": "stderr",
     "output_type": "stream",
     "text": [
      "Warning message in Rsq * 100 * (NNFIT$x/sum(NNFIT$x)):\n",
      "“Recycling array of length 1 in array-vector arithmetic is deprecated.\n",
      "  Use c() or as.vector() instead.\n",
      "”\n"
     ]
    },
    {
     "name": "stdout",
     "output_type": "stream",
     "text": [
      "[1] 84.6 12.6\n",
      "[1] \"206A_015_15_ss-RNF126-6-v10_G02.ab1\"\n"
     ]
    },
    {
     "name": "stderr",
     "output_type": "stream",
     "text": [
      "Warning message in Rsq * 100 * (NNFIT$x/sum(NNFIT$x)):\n",
      "“Recycling array of length 1 in array-vector arithmetic is deprecated.\n",
      "  Use c() or as.vector() instead.\n",
      "”\n"
     ]
    },
    {
     "name": "stdout",
     "output_type": "stream",
     "text": [
      "[1] 86.6 11.8\n",
      "[1] \"206A_016_16_ss-RNF126-6-v10_H02.ab1\"\n"
     ]
    },
    {
     "name": "stderr",
     "output_type": "stream",
     "text": [
      "Warning message in Rsq * 100 * (NNFIT$x/sum(NNFIT$x)):\n",
      "“Recycling array of length 1 in array-vector arithmetic is deprecated.\n",
      "  Use c() or as.vector() instead.\n",
      "”\n"
     ]
    },
    {
     "name": "stdout",
     "output_type": "stream",
     "text": [
      "[1] 90.5  8.1\n",
      "[1] \"206A_017_17_ss-RNF126-6-v10_A03.ab1\"\n"
     ]
    },
    {
     "name": "stderr",
     "output_type": "stream",
     "text": [
      "Warning message in Rsq * 100 * (NNFIT$x/sum(NNFIT$x)):\n",
      "“Recycling array of length 1 in array-vector arithmetic is deprecated.\n",
      "  Use c() or as.vector() instead.\n",
      "”\n"
     ]
    },
    {
     "name": "stdout",
     "output_type": "stream",
     "text": [
      "[1] 88.6  9.4\n",
      "[1] \"206A_018_18_ss-RNF126-6-v10_B03.ab1\"\n"
     ]
    },
    {
     "name": "stderr",
     "output_type": "stream",
     "text": [
      "Warning message in Rsq * 100 * (NNFIT$x/sum(NNFIT$x)):\n",
      "“Recycling array of length 1 in array-vector arithmetic is deprecated.\n",
      "  Use c() or as.vector() instead.\n",
      "”\n"
     ]
    },
    {
     "name": "stdout",
     "output_type": "stream",
     "text": [
      "[1] 36.1  8.9\n",
      "[1] \"206A_019_19_ss-RNF126-6-v10_C03.ab1\"\n"
     ]
    },
    {
     "name": "stderr",
     "output_type": "stream",
     "text": [
      "Warning message in Rsq * 100 * (NNFIT$x/sum(NNFIT$x)):\n",
      "“Recycling array of length 1 in array-vector arithmetic is deprecated.\n",
      "  Use c() or as.vector() instead.\n",
      "”\n"
     ]
    },
    {
     "name": "stdout",
     "output_type": "stream",
     "text": [
      "[1] 92.1  5.8\n",
      "[1] \"206A_020_20_ss-RNF126-6-v10_D03.ab1\"\n"
     ]
    },
    {
     "name": "stderr",
     "output_type": "stream",
     "text": [
      "Warning message in Rsq * 100 * (NNFIT$x/sum(NNFIT$x)):\n",
      "“Recycling array of length 1 in array-vector arithmetic is deprecated.\n",
      "  Use c() or as.vector() instead.\n",
      "”\n"
     ]
    },
    {
     "name": "stdout",
     "output_type": "stream",
     "text": [
      "[1] 92.7  4.8\n",
      "[1] \"206A_021_21_ss-RNF126-6-v10_E03.ab1\"\n"
     ]
    },
    {
     "name": "stderr",
     "output_type": "stream",
     "text": [
      "Warning message in Rsq * 100 * (NNFIT$x/sum(NNFIT$x)):\n",
      "“Recycling array of length 1 in array-vector arithmetic is deprecated.\n",
      "  Use c() or as.vector() instead.\n",
      "”\n"
     ]
    },
    {
     "name": "stdout",
     "output_type": "stream",
     "text": [
      "[1] 92.1  4.2\n",
      "[1] \"206A_022_22_ss-RNF126-6-v10_F03.ab1\"\n"
     ]
    },
    {
     "name": "stderr",
     "output_type": "stream",
     "text": [
      "Warning message in Rsq * 100 * (NNFIT$x/sum(NNFIT$x)):\n",
      "“Recycling array of length 1 in array-vector arithmetic is deprecated.\n",
      "  Use c() or as.vector() instead.\n",
      "”\n"
     ]
    },
    {
     "name": "stdout",
     "output_type": "stream",
     "text": [
      "[1] 92.9  4.4\n",
      "[1] \"206A_023_23_ss-RNF126-6-v10_G03.ab1\"\n"
     ]
    },
    {
     "name": "stderr",
     "output_type": "stream",
     "text": [
      "Warning message in Rsq * 100 * (NNFIT$x/sum(NNFIT$x)):\n",
      "“Recycling array of length 1 in array-vector arithmetic is deprecated.\n",
      "  Use c() or as.vector() instead.\n",
      "”\n"
     ]
    },
    {
     "name": "stdout",
     "output_type": "stream",
     "text": [
      "[1] 94.5  4.0\n",
      "[1] \"206A_024_24_ss-RNF126-6-v10_H03.ab1\"\n",
      "[1] \"no end_of_common_seq found in:  GTGCCCCAAGAACAAAAACTCTTTTACCTGCGTTTTTTACACAGCTAATGTTTATTAAAAAAGCCATCCGGCGTTTCATTTTATTGTTTGTAAAAAGTTCGTCCGCTGTCTGGCGGCCTCCTGGGGGGTATAATTATAAGAAATATCGTGGTCAAAAAACCCCGTGTAGGGAGAAATCCCCTGGGGTGGCGATAAAATTAGTTCGGACAATCCAGCCCCCGGGTTTAACCCCCGGCGGGTTTTTGTTACTTCCCAGGCGGCCAAACCCGCCCTCCACTTCTGGGAATAATAGTATAACAGAGTAGGAGAGGGGGTGGCACAGAAACGAAAAAATCATCTCTCACAGCGGTTAAGGCCCCAGGGGACTCCCCTCAAAAAAAAACACTAAGGCCCGGTGTGGGGGAAAAAAAACGGGGGGTTTATTCATGTGGGGGGGGACGAAAATTGTCATAAAATAAAAAACAGTTTTTTTTGGTGTTATCGGGGG \\n end_of_common_seq: TCTCCACGGAGCAGCAGT\"\n",
      "NULL\n"
     ]
    }
   ],
   "source": [
    "# run all samples\n",
    "\n",
    "perc = c()\n",
    "\n",
    "for (file in list.files(sanger_folder,pattern=\".ab1$\") ){\n",
    "    print(file)\n",
    "    mix_file=paste(sanger_folder,file,sep='')\n",
    "    #print(mix_file)\n",
    "    #if (mix_file != wt_file && mix_file != ko_file){\n",
    "        res = decomposition(c(wt_file,ko_file),mix_file,'TCTCCACGGAGCAGCAGT',400);\n",
    "        print(res$Perc$percentage)\n",
    "        if(is.null(res$Perc)){\n",
    "            perc=rbind(perc,c(NA,NA))\n",
    "        } else {\n",
    "            if (sum(res$Perc$percentage) < 80) {\n",
    "                perc=rbind(perc,c(NA,NA))\n",
    "            } else\n",
    "                {\n",
    "                perc=rbind(perc,res$Perc$percentage)\n",
    "            }\n",
    "        }\n",
    "        \n",
    "    #}\n",
    "}\n"
   ]
  },
  {
   "cell_type": "code",
   "execution_count": 189,
   "metadata": {},
   "outputs": [
    {
     "data": {
      "text/html": [
       "<strong>PNG:</strong> 2"
      ],
      "text/latex": [
       "\\textbf{PNG:} 2"
      ],
      "text/markdown": [
       "**PNG:** 2"
      ],
      "text/plain": [
       "PNG \n",
       "  2 "
      ]
     },
     "metadata": {},
     "output_type": "display_data"
    },
    {
     "ename": "ERROR",
     "evalue": "Error in plot.xy(xy.coords(x, y), type = type, ...): plot.new has not been called yet\n",
     "output_type": "error",
     "traceback": [
      "Error in plot.xy(xy.coords(x, y), type = type, ...): plot.new has not been called yet\nTraceback:\n",
      "1. lines(b$x, b$y, type = \"l\", col = \"red\")",
      "2. lines.default(b$x, b$y, type = \"l\", col = \"red\")",
      "3. plot.xy(xy.coords(x, y), type = type, ...)"
     ]
    }
   ],
   "source": [
    "# get estimates of %WT and %KO in each samples into a matrix\n",
    "d = cbind(matrix(perc[,1], nrow = 8, byrow = TRUE),matrix(perc[,2], nrow = 8, byrow = TRUE) )\n",
    "\n",
    "# add first column: day\n",
    "d = cbind(seq(0,15,3),d[3:8,])\n",
    "\n",
    "# normalize: ko/wt in the same samples\n",
    "d = cbind(d,d[,5:7]/d[,2:4])\n",
    "\n",
    "# normalize to average of day 0\n",
    "d = cbind(d,d[,8:10]/mean(d[1,8:10]))\n",
    "\n",
    "# column names\n",
    "colnames(d) = c('day','wt.1','wt.2','wt.3','ko.1','ko.2','ko.3','ratio.1','ratio.2','ratio.3','norm_ratio.1','norm_ratio.2','norm_ratio.3')\n",
    "\n",
    "# to a matrix\n",
    "d <- data.frame(d)\n",
    "\n",
    "d$ratio_avg = apply(d[,11:13],1,mean,na.rm=T)\n",
    "d$ratio_std = apply(d[,11:13],1,sd,na.rm=T)\n",
    "\n",
    "pdf(\"rnf126-ko-competitive-growth.pdf\",width=4,height=4)\n",
    "plot(d$day,d$ratio_avg,type='l',ylim=c(0,1.5),bty='l',xlab='Days of co-culture',ylab='Normalized ratio (KO/WT)')\n",
    "arrows(x0=d$day, y0=d$ratio_avg - d$ratio_std, x1=d$day, y1=d$ratio_avg + d$ratio_std, code=3, col=\"blue\", lwd=1,angle=90, length=0.1)\n",
    "points(d$day,d$`norm_ratio.1`,pch=16)\n",
    "points(d$day,d$`norm_ratio.2`,pch=16)\n",
    "points(d$day,d$`norm_ratio.3`,pch=16)\n",
    "dev.off()\n"
   ]
  },
  {
   "cell_type": "code",
   "execution_count": 190,
   "metadata": {},
   "outputs": [],
   "source": [
    "write.table(d,file='RNF126.data.txt')"
   ]
  },
  {
   "cell_type": "code",
   "execution_count": null,
   "metadata": {},
   "outputs": [],
   "source": []
  }
 ],
 "metadata": {
  "kernelspec": {
   "display_name": "R",
   "language": "R",
   "name": "ir"
  },
  "language_info": {
   "codemirror_mode": "r",
   "file_extension": ".r",
   "mimetype": "text/x-r-source",
   "name": "R",
   "pygments_lexer": "r",
   "version": "4.0.0"
  }
 },
 "nbformat": 4,
 "nbformat_minor": 4
}
